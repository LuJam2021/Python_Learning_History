{
  "nbformat": 4,
  "nbformat_minor": 0,
  "metadata": {
    "colab": {
      "name": "20211020-物件導向(OOP)簡介.ipynb",
      "provenance": [],
      "collapsed_sections": [],
      "toc_visible": true,
      "authorship_tag": "ABX9TyNRyjarubvE1jthKitqC0xa",
      "include_colab_link": true
    },
    "kernelspec": {
      "name": "python3",
      "display_name": "Python 3"
    },
    "language_info": {
      "name": "python"
    }
  },
  "cells": [
    {
      "cell_type": "markdown",
      "metadata": {
        "id": "view-in-github",
        "colab_type": "text"
      },
      "source": [
        "<a href=\"https://colab.research.google.com/github/LuJam2021/Python_Learning_History/blob/main/20211020_%E7%89%A9%E4%BB%B6%E5%B0%8E%E5%90%91(OOP)%E7%B0%A1%E4%BB%8B.ipynb\" target=\"_parent\"><img src=\"https://colab.research.google.com/assets/colab-badge.svg\" alt=\"Open In Colab\"/></a>"
      ]
    },
    {
      "cell_type": "markdown",
      "metadata": {
        "id": "I-qxxYyLpDwa"
      },
      "source": [
        "# 物件導向"
      ]
    },
    {
      "cell_type": "markdown",
      "metadata": {
        "id": "dSfV-jOSpGs3"
      },
      "source": [
        "## Class 類別"
      ]
    },
    {
      "cell_type": "code",
      "metadata": {
        "id": "lXD3GniGpIsa"
      },
      "source": [
        "#類別定義的語法\n",
        "class Dog:\n",
        "  pass"
      ],
      "execution_count": null,
      "outputs": []
    },
    {
      "cell_type": "code",
      "metadata": {
        "id": "6jbEtrbdpQ6I"
      },
      "source": [
        "# 使用類別來產生物件\n",
        "obj=Dog()\n"
      ],
      "execution_count": null,
      "outputs": []
    },
    {
      "cell_type": "code",
      "metadata": {
        "colab": {
          "base_uri": "https://localhost:8080/"
        },
        "id": "f8bhZ-1gpZCJ",
        "outputId": "ed31b146-4adb-46cc-e347-ee3cbd845b26"
      },
      "source": [
        "type(obj)\n"
      ],
      "execution_count": null,
      "outputs": [
        {
          "output_type": "execute_result",
          "data": {
            "text/plain": [
              "__main__.Dog"
            ]
          },
          "metadata": {},
          "execution_count": 7
        }
      ]
    },
    {
      "cell_type": "code",
      "metadata": {
        "id": "S6q2DCIuphzk"
      },
      "source": [
        "obj1=Dog()\n",
        "obj2=Dog()"
      ],
      "execution_count": null,
      "outputs": []
    },
    {
      "cell_type": "code",
      "metadata": {
        "colab": {
          "base_uri": "https://localhost:8080/"
        },
        "id": "nuiXp4j5pa_8",
        "outputId": "ce4fb3b4-02ee-4d26-dec4-e5b2eab19819"
      },
      "source": [
        "type(obj2)"
      ],
      "execution_count": null,
      "outputs": [
        {
          "output_type": "execute_result",
          "data": {
            "text/plain": [
              "__main__.Dog"
            ]
          },
          "metadata": {},
          "execution_count": 13
        }
      ]
    },
    {
      "cell_type": "code",
      "metadata": {
        "id": "EU6_bvTppo4Z"
      },
      "source": [
        "obj1.color=\"黑色\""
      ],
      "execution_count": null,
      "outputs": []
    },
    {
      "cell_type": "code",
      "metadata": {
        "id": "4_8j8Fj5prwW"
      },
      "source": [
        "obj2.color=\"黃色\""
      ],
      "execution_count": null,
      "outputs": []
    },
    {
      "cell_type": "code",
      "metadata": {
        "colab": {
          "base_uri": "https://localhost:8080/",
          "height": 35
        },
        "id": "werHUIybp4fK",
        "outputId": "586804bf-523c-4b37-acb5-086f94499014"
      },
      "source": [
        "obj1.color"
      ],
      "execution_count": null,
      "outputs": [
        {
          "output_type": "execute_result",
          "data": {
            "application/vnd.google.colaboratory.intrinsic+json": {
              "type": "string"
            },
            "text/plain": [
              "'黑色'"
            ]
          },
          "metadata": {},
          "execution_count": 16
        }
      ]
    },
    {
      "cell_type": "code",
      "metadata": {
        "colab": {
          "base_uri": "https://localhost:8080/",
          "height": 35
        },
        "id": "JkwidlM2p68e",
        "outputId": "b55375b0-75e2-4b1d-e5c5-11ea5cc54e41"
      },
      "source": [
        "obj2.color"
      ],
      "execution_count": null,
      "outputs": [
        {
          "output_type": "execute_result",
          "data": {
            "application/vnd.google.colaboratory.intrinsic+json": {
              "type": "string"
            },
            "text/plain": [
              "'黃色'"
            ]
          },
          "metadata": {},
          "execution_count": 18
        }
      ]
    },
    {
      "cell_type": "code",
      "metadata": {
        "id": "jQhE8LDZp-t8"
      },
      "source": [
        "obj1.height=\"100cm\""
      ],
      "execution_count": null,
      "outputs": []
    },
    {
      "cell_type": "code",
      "metadata": {
        "colab": {
          "base_uri": "https://localhost:8080/"
        },
        "id": "jrQhrAmCqXrt",
        "outputId": "a8a72a2b-afb5-4d2b-998f-73a504e3cbf3"
      },
      "source": [
        "for obj in [obj1,obj2]:\n",
        "  print(obj.color)"
      ],
      "execution_count": null,
      "outputs": [
        {
          "output_type": "stream",
          "name": "stdout",
          "text": [
            "黑色\n",
            "黃色\n"
          ]
        }
      ]
    },
    {
      "cell_type": "code",
      "metadata": {
        "id": "mrc480YVqty3"
      },
      "source": [
        "#建立一個類別狗，並預設顏色為\"黑色\"\n",
        "class Dog:\n",
        "  def __init__(self,color=\"黑色\"):#初始化，指定給自己本身(self)=黑色\n",
        "    self.color=color\n"
      ],
      "execution_count": null,
      "outputs": []
    },
    {
      "cell_type": "code",
      "metadata": {
        "colab": {
          "base_uri": "https://localhost:8080/",
          "height": 35
        },
        "id": "qPRC8D5ArGoi",
        "outputId": "b6f032ac-5430-489f-e18d-c1d569459fef"
      },
      "source": [
        "#self.color=obj.color\n",
        "obj=Dog()\n",
        "obj.color"
      ],
      "execution_count": null,
      "outputs": [
        {
          "output_type": "execute_result",
          "data": {
            "application/vnd.google.colaboratory.intrinsic+json": {
              "type": "string"
            },
            "text/plain": [
              "'黑色'"
            ]
          },
          "metadata": {},
          "execution_count": 37
        }
      ]
    },
    {
      "cell_type": "code",
      "metadata": {
        "colab": {
          "base_uri": "https://localhost:8080/",
          "height": 35
        },
        "id": "YvZHizlIrWxO",
        "outputId": "94b802bf-854e-4fa2-8a25-901936229494"
      },
      "source": [
        "obj=Dog(\"白色\")\n",
        "obj.color"
      ],
      "execution_count": null,
      "outputs": [
        {
          "output_type": "execute_result",
          "data": {
            "application/vnd.google.colaboratory.intrinsic+json": {
              "type": "string"
            },
            "text/plain": [
              "'白色'"
            ]
          },
          "metadata": {},
          "execution_count": 39
        }
      ]
    },
    {
      "cell_type": "code",
      "metadata": {
        "colab": {
          "base_uri": "https://localhost:8080/",
          "height": 35
        },
        "id": "R6QsjbEjr26n",
        "outputId": "692d5b35-a96a-418a-d129-52fa3729ecbe"
      },
      "source": [
        "obj=Dog(color=\"綠色\")\n",
        "obj.color"
      ],
      "execution_count": null,
      "outputs": [
        {
          "output_type": "execute_result",
          "data": {
            "application/vnd.google.colaboratory.intrinsic+json": {
              "type": "string"
            },
            "text/plain": [
              "'綠色'"
            ]
          },
          "metadata": {},
          "execution_count": 40
        }
      ]
    },
    {
      "cell_type": "code",
      "metadata": {
        "id": "Ic8tmhTVsBIs"
      },
      "source": [
        "class Dog:\n",
        "  def __init__(self,color=\"黑色\",voice=\"wo\",name=\"Roger\",age=\"3\"):#初始化，指定給自己本身(self)=黑色\n",
        "    self.color=color\n",
        "    self.voice=voice\n",
        "    self.name=name\n",
        "    self.__age=age # 隱藏 防止更動\n",
        "  # def voice(self,x=\"wung\"):# 叫聲 wung\n",
        "  #   self.x=x\n",
        "  def bark(self):# 動作：吠\n",
        "    for i in range(3):\n",
        "      print(self.voice,end=\"...\")"
      ],
      "execution_count": null,
      "outputs": []
    },
    {
      "cell_type": "code",
      "metadata": {
        "id": "njt_k_q6uGXL"
      },
      "source": [
        "obj1=Dog(\"白色\",\"woof\",\"jeck\")\n",
        "obj2=Dog(\"黑色\")\n"
      ],
      "execution_count": null,
      "outputs": []
    },
    {
      "cell_type": "code",
      "metadata": {
        "colab": {
          "base_uri": "https://localhost:8080/"
        },
        "id": "gGYg9u9iuq05",
        "outputId": "3007c1e7-8945-4857-9eaf-54c9730ee444"
      },
      "source": [
        "for obj in [obj1,obj2]:\n",
        "  print(obj.name,end=\" \")\n",
        "  print(obj.color+\"的狗\",end=\" \")\n",
        "  #print(obj.__age) N\n",
        "  obj.bark()\n",
        "  print(\"\\n\") "
      ],
      "execution_count": null,
      "outputs": [
        {
          "output_type": "stream",
          "name": "stdout",
          "text": [
            "jeck 白色的狗 woof...woof...woof...\n",
            "\n",
            "Roger 黑色的狗 wo...wo...wo...\n",
            "\n"
          ]
        }
      ]
    },
    {
      "cell_type": "code",
      "metadata": {
        "id": "hTy07KRMw1Dg"
      },
      "source": [
        ""
      ],
      "execution_count": null,
      "outputs": []
    },
    {
      "cell_type": "markdown",
      "metadata": {
        "id": "tzVOawpmRf40"
      },
      "source": [
        "### 類別一"
      ]
    },
    {
      "cell_type": "code",
      "metadata": {
        "id": "Irc47P26U4Ka"
      },
      "source": [
        "class Person:\n",
        "  pass"
      ],
      "execution_count": null,
      "outputs": []
    },
    {
      "cell_type": "code",
      "metadata": {
        "id": "oKOEho7FU7dg"
      },
      "source": [
        "p1=Person()\n",
        "p2=Person()"
      ],
      "execution_count": null,
      "outputs": []
    },
    {
      "cell_type": "code",
      "metadata": {
        "id": "zZBSsATtU-r-"
      },
      "source": [
        "p1.name=\"John\"\n",
        "p2.name=\"Mary\""
      ],
      "execution_count": null,
      "outputs": []
    },
    {
      "cell_type": "markdown",
      "metadata": {
        "id": "tHUbMe3xVFEG"
      },
      "source": [
        "### 類別二"
      ]
    },
    {
      "cell_type": "code",
      "metadata": {
        "id": "7GqNx1B5TMyI"
      },
      "source": [
        "class Person:\n",
        "  def __init__(self):\n",
        "    print(\"builb a person\")"
      ],
      "execution_count": null,
      "outputs": []
    },
    {
      "cell_type": "code",
      "metadata": {
        "colab": {
          "base_uri": "https://localhost:8080/"
        },
        "id": "lmB8QBduTU8o",
        "outputId": "e4988eb0-fca7-4052-bcfb-e7305214345a"
      },
      "source": [
        "p1=Person()"
      ],
      "execution_count": null,
      "outputs": [
        {
          "output_type": "stream",
          "name": "stdout",
          "text": [
            "builb a person\n"
          ]
        }
      ]
    },
    {
      "cell_type": "markdown",
      "metadata": {
        "id": "zjiVBio0VH5x"
      },
      "source": [
        "### 類別三"
      ]
    },
    {
      "cell_type": "code",
      "metadata": {
        "id": "EZ5JIS3CRilQ"
      },
      "source": [
        "class Person:\n",
        "  def __init__(self,name):\n",
        "    self.name=name\n"
      ],
      "execution_count": null,
      "outputs": []
    },
    {
      "cell_type": "code",
      "metadata": {
        "id": "y0k_O9trTIGO"
      },
      "source": [
        "p1=Person(\"John\")"
      ],
      "execution_count": null,
      "outputs": []
    },
    {
      "cell_type": "markdown",
      "metadata": {
        "id": "YLU7iKL7VLkq"
      },
      "source": [
        "### 類別四"
      ]
    },
    {
      "cell_type": "code",
      "metadata": {
        "id": "tdR5-OBuVNX3"
      },
      "source": [
        "class Person:\n",
        "  #物件初始化\n",
        "  def __init__(self,name,nationality=\"台灣\",hair_color='black',eye_color=\"black\"):\n",
        "    self.name=name\n",
        "    self.nationality=nationality\n",
        "    self.hair_color=hair_color\n",
        "    self.eye_color=eye_color"
      ],
      "execution_count": null,
      "outputs": []
    },
    {
      "cell_type": "code",
      "metadata": {
        "id": "Q4gjI9iTWEA4"
      },
      "source": [
        "p1=Person(\"John\")"
      ],
      "execution_count": null,
      "outputs": []
    },
    {
      "cell_type": "code",
      "metadata": {
        "colab": {
          "base_uri": "https://localhost:8080/",
          "height": 35
        },
        "id": "MP-leUxlV89N",
        "outputId": "9dced139-57e8-4636-fcaa-2a4c14dee580"
      },
      "source": [
        "p1.hair_color"
      ],
      "execution_count": null,
      "outputs": [
        {
          "output_type": "execute_result",
          "data": {
            "application/vnd.google.colaboratory.intrinsic+json": {
              "type": "string"
            },
            "text/plain": [
              "'black'"
            ]
          },
          "metadata": {},
          "execution_count": 20
        }
      ]
    },
    {
      "cell_type": "code",
      "metadata": {
        "colab": {
          "base_uri": "https://localhost:8080/",
          "height": 35
        },
        "id": "rSP29_8OWI4w",
        "outputId": "66c51937-54df-4f06-9466-a09203f8e00b"
      },
      "source": [
        "p1.nationality"
      ],
      "execution_count": null,
      "outputs": [
        {
          "output_type": "execute_result",
          "data": {
            "application/vnd.google.colaboratory.intrinsic+json": {
              "type": "string"
            },
            "text/plain": [
              "'台灣'"
            ]
          },
          "metadata": {},
          "execution_count": 21
        }
      ]
    },
    {
      "cell_type": "markdown",
      "metadata": {
        "id": "J0R88b7qWKbG"
      },
      "source": [
        "### 類別五"
      ]
    },
    {
      "cell_type": "code",
      "metadata": {
        "id": "ql3Eqo1NWMV1"
      },
      "source": [
        "class Person:\n",
        "  #物件初始化\n",
        "  def __init__(self,name,nationality=\"台灣\",hair_color='black',eye_color=\"black\"):\n",
        "    self.name=name\n",
        "    self.nationality=nationality\n",
        "    self.hair_color=hair_color\n",
        "    self.eye_color=eye_color\n",
        "\n",
        "  #物件方法\n",
        "  def greetings(self):\n",
        "    print(\"How are you?\")\n",
        "\n",
        "  def hobbies(self):\n",
        "    print(\"Gaming\")"
      ],
      "execution_count": null,
      "outputs": []
    },
    {
      "cell_type": "code",
      "metadata": {
        "id": "3Aw_NKk9WcQY"
      },
      "source": [
        "p1=Person(\"Jam\")"
      ],
      "execution_count": null,
      "outputs": []
    },
    {
      "cell_type": "code",
      "metadata": {
        "colab": {
          "base_uri": "https://localhost:8080/"
        },
        "id": "YTBC9T2aWgAS",
        "outputId": "a76edc7f-5603-4c73-c49b-dba5e70742c4"
      },
      "source": [
        "p1.greetings()"
      ],
      "execution_count": null,
      "outputs": [
        {
          "output_type": "stream",
          "name": "stdout",
          "text": [
            "How are you?\n"
          ]
        }
      ]
    },
    {
      "cell_type": "code",
      "metadata": {
        "colab": {
          "base_uri": "https://localhost:8080/"
        },
        "id": "yHFy-LBKZAWw",
        "outputId": "cb2daf3f-6ff0-4b78-c4e7-ba356e8ad063"
      },
      "source": [
        "p1.hobbies()"
      ],
      "execution_count": null,
      "outputs": [
        {
          "output_type": "stream",
          "name": "stdout",
          "text": [
            "Gaming\n"
          ]
        }
      ]
    },
    {
      "cell_type": "markdown",
      "metadata": {
        "id": "Iv7rxWtkZJT1"
      },
      "source": [
        "## 繼承"
      ]
    },
    {
      "cell_type": "markdown",
      "metadata": {
        "id": "nUDIeToSdOHZ"
      },
      "source": [
        "### 繼承一"
      ]
    },
    {
      "cell_type": "code",
      "metadata": {
        "id": "-1T2nC7BZMov"
      },
      "source": [
        "class Person:\n",
        "  #物件初始化\n",
        "  def __init__(self,name, nationality=\"台灣\", hair_color='black', eye_color=\"black\"):\n",
        "    self.name=name\n",
        "    self.nationality=nationality\n",
        "    self.hair_color=hair_color\n",
        "    self.eye_color=eye_color\n",
        "\n",
        "  #物件方法\n",
        "  def greetings(self):\n",
        "    print(\"How are you?\")\n",
        "\n",
        "  def hobbies(self):\n",
        "    print(\"Gaming\")"
      ],
      "execution_count": null,
      "outputs": []
    },
    {
      "cell_type": "code",
      "metadata": {
        "id": "o0aS5lcLZrXF"
      },
      "source": [
        "class Employee(Person):\n",
        "    def __init__(self, name, salary, post, nationality=\"台灣\", hair_color='black', eye_color=\"black\"):\n",
        "        self.salary = salary\n",
        "        self.post = post\n",
        "  \n",
        "        # invoking the __init__ of the parent class\n",
        "        #Person.__init__(self, name, nationality, hair_color, eye_color)\n",
        "        #副類別 使用person易出錯 super不需要self\n",
        "        #super()呼叫Person某個方法\n",
        "        super().__init__(name, nationality, hair_color, eye_color) \n",
        "          \n",
        "    def details(self):\n",
        "        print(\"My name is {}\".format(self.name))\n",
        "        print(\"Post: {}\".format(self.post))\n",
        "        print(\"國籍： {}\".format(self.nationality))"
      ],
      "execution_count": null,
      "outputs": []
    },
    {
      "cell_type": "code",
      "metadata": {
        "id": "BrsApKH4afQj"
      },
      "source": [
        "e1=Employee(\"Jam\",25000,\"Intern\")"
      ],
      "execution_count": null,
      "outputs": []
    },
    {
      "cell_type": "code",
      "metadata": {
        "colab": {
          "base_uri": "https://localhost:8080/"
        },
        "id": "Lm0TL_BKa4D6",
        "outputId": "ac7b12fb-2554-4eaa-fe85-9b389f74eb33"
      },
      "source": [
        "e1.greetings()"
      ],
      "execution_count": null,
      "outputs": [
        {
          "output_type": "stream",
          "name": "stdout",
          "text": [
            "How are you?\n"
          ]
        }
      ]
    },
    {
      "cell_type": "code",
      "metadata": {
        "colab": {
          "base_uri": "https://localhost:8080/"
        },
        "id": "WgEmVEcXa6f9",
        "outputId": "a6ea2e6f-25ab-4764-ae3b-593fa8c09c87"
      },
      "source": [
        "e1.hobbies()"
      ],
      "execution_count": null,
      "outputs": [
        {
          "output_type": "stream",
          "name": "stdout",
          "text": [
            "Gaming\n"
          ]
        }
      ]
    },
    {
      "cell_type": "code",
      "metadata": {
        "colab": {
          "base_uri": "https://localhost:8080/"
        },
        "id": "B1_aYwxJcecN",
        "outputId": "15f08880-dab4-42a8-9ebd-4235941bd17b"
      },
      "source": [
        "e1.details()"
      ],
      "execution_count": null,
      "outputs": [
        {
          "output_type": "stream",
          "name": "stdout",
          "text": [
            "My name is Jam\n",
            "Post: Intern\n",
            "國籍： 台灣\n"
          ]
        }
      ]
    },
    {
      "cell_type": "markdown",
      "metadata": {
        "id": "T48WoDLgdJDE"
      },
      "source": [
        "### 繼承二"
      ]
    },
    {
      "cell_type": "code",
      "metadata": {
        "id": "n-L6JanGdMyP"
      },
      "source": [
        "class Person:\n",
        "  # 物件初始化\n",
        "  def __init__(self, name,nationality=\"台灣\", hair_color=\"black\", eye_color=\"black\"):\n",
        "    self.name = name\n",
        "    self.nationality = nationality\n",
        "    self.hair_color = hair_color\n",
        "    self.eye_color = eye_color\n",
        "\n",
        "  # 物件方法\n",
        "  def greetings(self):\n",
        "    print(\"How are you?\")\n",
        "  \n",
        "  def hobbies(self):\n",
        "    print(\"Snowboarding\")"
      ],
      "execution_count": null,
      "outputs": []
    },
    {
      "cell_type": "code",
      "metadata": {
        "id": "oMFrSLA6dTXJ"
      },
      "source": [
        "class Employee(Person):\n",
        "    def __init__(self, name, salary, post, nationality=\"台灣\", hair_color=\"black\", eye_color=\"black\"):\n",
        "        self.salary = salary\n",
        "        self.post = post\n",
        "  \n",
        "        # invoking the __init__ of the parent class\n",
        "        super(Employee,self).__init__(name, nationality, hair_color, eye_color)\n",
        "    \n",
        "    def greetings(self):\n",
        "      print(\"晚上一起吃飯？\")\n",
        "\n",
        "    def details(self):\n",
        "        print(\"My name is {}\".format(self.name))\n",
        "        print(\"Post: {}\".format(self.post))\n",
        "        print(\"國籍: {}\".format(self.nationality))"
      ],
      "execution_count": null,
      "outputs": []
    },
    {
      "cell_type": "code",
      "metadata": {
        "id": "09TGChQWdY7M"
      },
      "source": [
        "e1 = Employee(\"John\",25000,\"intern\")"
      ],
      "execution_count": null,
      "outputs": []
    },
    {
      "cell_type": "code",
      "metadata": {
        "colab": {
          "base_uri": "https://localhost:8080/"
        },
        "id": "Odoxtwd5de-C",
        "outputId": "1cbd1148-3883-4307-d2b8-e386f7748a56"
      },
      "source": [
        "e1.greetings()"
      ],
      "execution_count": null,
      "outputs": [
        {
          "output_type": "stream",
          "name": "stdout",
          "text": [
            "晚上一起吃飯？\n"
          ]
        }
      ]
    },
    {
      "cell_type": "code",
      "metadata": {
        "colab": {
          "base_uri": "https://localhost:8080/"
        },
        "id": "kiXQojl7d6SA",
        "outputId": "acb50e66-c44a-481b-fd07-c0c700b43460"
      },
      "source": [
        "e1.salary"
      ],
      "execution_count": null,
      "outputs": [
        {
          "output_type": "execute_result",
          "data": {
            "text/plain": [
              "25000"
            ]
          },
          "metadata": {},
          "execution_count": 91
        }
      ]
    }
  ]
}