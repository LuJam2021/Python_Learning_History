{
  "nbformat": 4,
  "nbformat_minor": 0,
  "metadata": {
    "colab": {
      "name": "20211015 - 股票績效計算練習.ipynb",
      "provenance": [],
      "collapsed_sections": [],
      "include_colab_link": true
    },
    "kernelspec": {
      "name": "python3",
      "display_name": "Python 3"
    },
    "language_info": {
      "name": "python"
    }
  },
  "cells": [
    {
      "cell_type": "markdown",
      "metadata": {
        "id": "view-in-github",
        "colab_type": "text"
      },
      "source": [
        "<a href=\"https://colab.research.google.com/github/LuJam2021/Python_Learning_History/blob/main/20211015_%E8%82%A1%E7%A5%A8%E7%B8%BE%E6%95%88%E8%A8%88%E7%AE%97%E7%B7%B4%E7%BF%92.ipynb\" target=\"_parent\"><img src=\"https://colab.research.google.com/assets/colab-badge.svg\" alt=\"Open In Colab\"/></a>"
      ]
    },
    {
      "cell_type": "code",
      "metadata": {
        "id": "PL3t8OOdkWRX"
      },
      "source": [
        "!pip install -q pyfolio"
      ],
      "execution_count": null,
      "outputs": []
    },
    {
      "cell_type": "code",
      "metadata": {
        "id": "ilGBQIHPj85Q",
        "colab": {
          "base_uri": "https://localhost:8080/"
        },
        "outputId": "a34a9890-04de-462d-dc1d-ad6c38f0ec68"
      },
      "source": [
        "import pyfolio as pf"
      ],
      "execution_count": null,
      "outputs": [
        {
          "output_type": "stream",
          "name": "stderr",
          "text": [
            "/usr/local/lib/python3.7/dist-packages/pyfolio/pos.py:27: UserWarning: Module \"zipline.assets\" not found; mutltipliers will not be applied to position notionals.\n",
            "  'Module \"zipline.assets\" not found; mutltipliers will not be applied' +\n"
          ]
        }
      ]
    },
    {
      "cell_type": "markdown",
      "metadata": {
        "id": "N8SLG5xSlmnD"
      },
      "source": [
        "## 抓FB的歷史股價"
      ]
    },
    {
      "cell_type": "code",
      "metadata": {
        "id": "ti-6DpYmkTlP"
      },
      "source": [
        "import pandas_datareader.data as web"
      ],
      "execution_count": null,
      "outputs": []
    },
    {
      "cell_type": "code",
      "metadata": {
        "id": "WSPvWNFslj-i"
      },
      "source": [
        "import requests"
      ],
      "execution_count": null,
      "outputs": []
    },
    {
      "cell_type": "code",
      "metadata": {
        "id": "15_GZgZqlq1r"
      },
      "source": [
        "s = requests.session()\n",
        "headers = {'user-agent':'Mozilla/5.0 (Windows NT 10.0; Win64; x64) AppleWebKit/537.36 (KHTML, like Gecko) Chrome/70.0.3538.77 Safari/537.36'}"
      ],
      "execution_count": null,
      "outputs": []
    },
    {
      "cell_type": "code",
      "metadata": {
        "id": "AjtYTYLpl9aa"
      },
      "source": [
        "s.headers = headers"
      ],
      "execution_count": null,
      "outputs": []
    },
    {
      "cell_type": "code",
      "metadata": {
        "id": "W3Txg1NUmAQv"
      },
      "source": [
        "df = web.DataReader('FB', 'yahoo', session=s)"
      ],
      "execution_count": null,
      "outputs": []
    },
    {
      "cell_type": "code",
      "metadata": {
        "colab": {
          "base_uri": "https://localhost:8080/",
          "height": 236
        },
        "id": "lfGJJsJGmLm_",
        "outputId": "617c34b5-dac9-4dde-d221-fa3ee4c04dec"
      },
      "source": [
        "df.head()"
      ],
      "execution_count": null,
      "outputs": [
        {
          "output_type": "execute_result",
          "data": {
            "text/html": [
              "<div>\n",
              "<style scoped>\n",
              "    .dataframe tbody tr th:only-of-type {\n",
              "        vertical-align: middle;\n",
              "    }\n",
              "\n",
              "    .dataframe tbody tr th {\n",
              "        vertical-align: top;\n",
              "    }\n",
              "\n",
              "    .dataframe thead th {\n",
              "        text-align: right;\n",
              "    }\n",
              "</style>\n",
              "<table border=\"1\" class=\"dataframe\">\n",
              "  <thead>\n",
              "    <tr style=\"text-align: right;\">\n",
              "      <th></th>\n",
              "      <th>High</th>\n",
              "      <th>Low</th>\n",
              "      <th>Open</th>\n",
              "      <th>Close</th>\n",
              "      <th>Volume</th>\n",
              "      <th>Adj Close</th>\n",
              "    </tr>\n",
              "    <tr>\n",
              "      <th>Date</th>\n",
              "      <th></th>\n",
              "      <th></th>\n",
              "      <th></th>\n",
              "      <th></th>\n",
              "      <th></th>\n",
              "      <th></th>\n",
              "    </tr>\n",
              "  </thead>\n",
              "  <tbody>\n",
              "    <tr>\n",
              "      <th>2016-10-17</th>\n",
              "      <td>128.470001</td>\n",
              "      <td>127.320000</td>\n",
              "      <td>128.199997</td>\n",
              "      <td>127.540001</td>\n",
              "      <td>11351700</td>\n",
              "      <td>127.540001</td>\n",
              "    </tr>\n",
              "    <tr>\n",
              "      <th>2016-10-18</th>\n",
              "      <td>129.389999</td>\n",
              "      <td>128.009995</td>\n",
              "      <td>128.679993</td>\n",
              "      <td>128.570007</td>\n",
              "      <td>13504000</td>\n",
              "      <td>128.570007</td>\n",
              "    </tr>\n",
              "    <tr>\n",
              "      <th>2016-10-19</th>\n",
              "      <td>130.470001</td>\n",
              "      <td>128.600006</td>\n",
              "      <td>128.740005</td>\n",
              "      <td>130.110001</td>\n",
              "      <td>16752300</td>\n",
              "      <td>130.110001</td>\n",
              "    </tr>\n",
              "    <tr>\n",
              "      <th>2016-10-20</th>\n",
              "      <td>130.660004</td>\n",
              "      <td>129.500000</td>\n",
              "      <td>130.070007</td>\n",
              "      <td>130.000000</td>\n",
              "      <td>13167500</td>\n",
              "      <td>130.000000</td>\n",
              "    </tr>\n",
              "    <tr>\n",
              "      <th>2016-10-21</th>\n",
              "      <td>132.130005</td>\n",
              "      <td>129.699997</td>\n",
              "      <td>129.779999</td>\n",
              "      <td>132.070007</td>\n",
              "      <td>19088800</td>\n",
              "      <td>132.070007</td>\n",
              "    </tr>\n",
              "  </tbody>\n",
              "</table>\n",
              "</div>"
            ],
            "text/plain": [
              "                  High         Low  ...    Volume   Adj Close\n",
              "Date                                ...                      \n",
              "2016-10-17  128.470001  127.320000  ...  11351700  127.540001\n",
              "2016-10-18  129.389999  128.009995  ...  13504000  128.570007\n",
              "2016-10-19  130.470001  128.600006  ...  16752300  130.110001\n",
              "2016-10-20  130.660004  129.500000  ...  13167500  130.000000\n",
              "2016-10-21  132.130005  129.699997  ...  19088800  132.070007\n",
              "\n",
              "[5 rows x 6 columns]"
            ]
          },
          "metadata": {},
          "execution_count": 9
        }
      ]
    },
    {
      "cell_type": "code",
      "metadata": {
        "id": "8KrKzoxgmQxV"
      },
      "source": [
        "stock_rets = df['Close'].pct_change()"
      ],
      "execution_count": null,
      "outputs": []
    },
    {
      "cell_type": "code",
      "metadata": {
        "id": "-wHzk63Xmy4g"
      },
      "source": [
        "df['ret'] = stock_rets"
      ],
      "execution_count": null,
      "outputs": []
    },
    {
      "cell_type": "code",
      "metadata": {
        "colab": {
          "base_uri": "https://localhost:8080/",
          "height": 236
        },
        "id": "7jgvjN3Wm05n",
        "outputId": "37f75fbf-948d-4f16-cb86-75d0175d43cb"
      },
      "source": [
        "df.head()"
      ],
      "execution_count": null,
      "outputs": [
        {
          "output_type": "execute_result",
          "data": {
            "text/html": [
              "<div>\n",
              "<style scoped>\n",
              "    .dataframe tbody tr th:only-of-type {\n",
              "        vertical-align: middle;\n",
              "    }\n",
              "\n",
              "    .dataframe tbody tr th {\n",
              "        vertical-align: top;\n",
              "    }\n",
              "\n",
              "    .dataframe thead th {\n",
              "        text-align: right;\n",
              "    }\n",
              "</style>\n",
              "<table border=\"1\" class=\"dataframe\">\n",
              "  <thead>\n",
              "    <tr style=\"text-align: right;\">\n",
              "      <th></th>\n",
              "      <th>High</th>\n",
              "      <th>Low</th>\n",
              "      <th>Open</th>\n",
              "      <th>Close</th>\n",
              "      <th>Volume</th>\n",
              "      <th>Adj Close</th>\n",
              "      <th>ret</th>\n",
              "    </tr>\n",
              "    <tr>\n",
              "      <th>Date</th>\n",
              "      <th></th>\n",
              "      <th></th>\n",
              "      <th></th>\n",
              "      <th></th>\n",
              "      <th></th>\n",
              "      <th></th>\n",
              "      <th></th>\n",
              "    </tr>\n",
              "  </thead>\n",
              "  <tbody>\n",
              "    <tr>\n",
              "      <th>2016-10-17</th>\n",
              "      <td>128.470001</td>\n",
              "      <td>127.320000</td>\n",
              "      <td>128.199997</td>\n",
              "      <td>127.540001</td>\n",
              "      <td>11351700</td>\n",
              "      <td>127.540001</td>\n",
              "      <td>NaN</td>\n",
              "    </tr>\n",
              "    <tr>\n",
              "      <th>2016-10-18</th>\n",
              "      <td>129.389999</td>\n",
              "      <td>128.009995</td>\n",
              "      <td>128.679993</td>\n",
              "      <td>128.570007</td>\n",
              "      <td>13504000</td>\n",
              "      <td>128.570007</td>\n",
              "      <td>0.008076</td>\n",
              "    </tr>\n",
              "    <tr>\n",
              "      <th>2016-10-19</th>\n",
              "      <td>130.470001</td>\n",
              "      <td>128.600006</td>\n",
              "      <td>128.740005</td>\n",
              "      <td>130.110001</td>\n",
              "      <td>16752300</td>\n",
              "      <td>130.110001</td>\n",
              "      <td>0.011978</td>\n",
              "    </tr>\n",
              "    <tr>\n",
              "      <th>2016-10-20</th>\n",
              "      <td>130.660004</td>\n",
              "      <td>129.500000</td>\n",
              "      <td>130.070007</td>\n",
              "      <td>130.000000</td>\n",
              "      <td>13167500</td>\n",
              "      <td>130.000000</td>\n",
              "      <td>-0.000845</td>\n",
              "    </tr>\n",
              "    <tr>\n",
              "      <th>2016-10-21</th>\n",
              "      <td>132.130005</td>\n",
              "      <td>129.699997</td>\n",
              "      <td>129.779999</td>\n",
              "      <td>132.070007</td>\n",
              "      <td>19088800</td>\n",
              "      <td>132.070007</td>\n",
              "      <td>0.015923</td>\n",
              "    </tr>\n",
              "  </tbody>\n",
              "</table>\n",
              "</div>"
            ],
            "text/plain": [
              "                  High         Low        Open  ...    Volume   Adj Close       ret\n",
              "Date                                            ...                                \n",
              "2016-10-17  128.470001  127.320000  128.199997  ...  11351700  127.540001       NaN\n",
              "2016-10-18  129.389999  128.009995  128.679993  ...  13504000  128.570007  0.008076\n",
              "2016-10-19  130.470001  128.600006  128.740005  ...  16752300  130.110001  0.011978\n",
              "2016-10-20  130.660004  129.500000  130.070007  ...  13167500  130.000000 -0.000845\n",
              "2016-10-21  132.130005  129.699997  129.779999  ...  19088800  132.070007  0.015923\n",
              "\n",
              "[5 rows x 7 columns]"
            ]
          },
          "metadata": {},
          "execution_count": 12
        }
      ]
    },
    {
      "cell_type": "code",
      "metadata": {
        "colab": {
          "base_uri": "https://localhost:8080/",
          "height": 844
        },
        "id": "da-ul2lGm1sX",
        "outputId": "67d04e42-b072-47fa-f015-348628f11b05"
      },
      "source": [
        "# pyfolio這個套件裡面目前有一些錯誤\n",
        "# 可以查詢他的 github 上面的 issues: https://github.com/quantopian/pyfolio/issues\n",
        "# 所以我們改用 ffn 來計算 performance\n",
        "pf.create_returns_tear_sheet(stock_rets)"
      ],
      "execution_count": null,
      "outputs": [
        {
          "output_type": "display_data",
          "data": {
            "text/html": [
              "<table border=\"1\" class=\"dataframe\">\n",
              "  <thead>\n",
              "    <tr style=\"text-align: right;\"><th>Start date</th><td colspan=2>2016-10-17</td></tr>\n",
              "    <tr style=\"text-align: right;\"><th>End date</th><td colspan=2>2021-10-14</td></tr>\n",
              "    <tr style=\"text-align: right;\"><th>Total months</th><td colspan=2>59</td></tr>\n",
              "    <tr style=\"text-align: right;\">\n",
              "      <th></th>\n",
              "      <th>Backtest</th>\n",
              "    </tr>\n",
              "  </thead>\n",
              "  <tbody>\n",
              "    <tr>\n",
              "      <th>Annual return</th>\n",
              "      <td>20.9%</td>\n",
              "    </tr>\n",
              "    <tr>\n",
              "      <th>Cumulative returns</th>\n",
              "      <td>157.6%</td>\n",
              "    </tr>\n",
              "    <tr>\n",
              "      <th>Annual volatility</th>\n",
              "      <td>32.9%</td>\n",
              "    </tr>\n",
              "    <tr>\n",
              "      <th>Sharpe ratio</th>\n",
              "      <td>0.74</td>\n",
              "    </tr>\n",
              "    <tr>\n",
              "      <th>Calmar ratio</th>\n",
              "      <td>0.49</td>\n",
              "    </tr>\n",
              "    <tr>\n",
              "      <th>Stability</th>\n",
              "      <td>0.78</td>\n",
              "    </tr>\n",
              "    <tr>\n",
              "      <th>Max drawdown</th>\n",
              "      <td>-43.0%</td>\n",
              "    </tr>\n",
              "    <tr>\n",
              "      <th>Omega ratio</th>\n",
              "      <td>1.15</td>\n",
              "    </tr>\n",
              "    <tr>\n",
              "      <th>Sortino ratio</th>\n",
              "      <td>1.05</td>\n",
              "    </tr>\n",
              "    <tr>\n",
              "      <th>Skew</th>\n",
              "      <td>NaN</td>\n",
              "    </tr>\n",
              "    <tr>\n",
              "      <th>Kurtosis</th>\n",
              "      <td>NaN</td>\n",
              "    </tr>\n",
              "    <tr>\n",
              "      <th>Tail ratio</th>\n",
              "      <td>0.99</td>\n",
              "    </tr>\n",
              "    <tr>\n",
              "      <th>Daily value at risk</th>\n",
              "      <td>-4.0%</td>\n",
              "    </tr>\n",
              "  </tbody>\n",
              "</table>"
            ],
            "text/plain": [
              "<IPython.core.display.HTML object>"
            ]
          },
          "metadata": {}
        },
        {
          "output_type": "error",
          "ename": "AttributeError",
          "evalue": "ignored",
          "traceback": [
            "\u001b[0;31m---------------------------------------------------------------------------\u001b[0m",
            "\u001b[0;31mAttributeError\u001b[0m                            Traceback (most recent call last)",
            "\u001b[0;32m<ipython-input-13-1af09fa45d4e>\u001b[0m in \u001b[0;36m<module>\u001b[0;34m()\u001b[0m\n\u001b[0;32m----> 1\u001b[0;31m \u001b[0mpf\u001b[0m\u001b[0;34m.\u001b[0m\u001b[0mcreate_returns_tear_sheet\u001b[0m\u001b[0;34m(\u001b[0m\u001b[0mstock_rets\u001b[0m\u001b[0;34m)\u001b[0m\u001b[0;34m\u001b[0m\u001b[0;34m\u001b[0m\u001b[0m\n\u001b[0m",
            "\u001b[0;32m/usr/local/lib/python3.7/dist-packages/pyfolio/plotting.py\u001b[0m in \u001b[0;36mcall_w_context\u001b[0;34m(*args, **kwargs)\u001b[0m\n\u001b[1;32m     50\u001b[0m         \u001b[0;32mif\u001b[0m \u001b[0mset_context\u001b[0m\u001b[0;34m:\u001b[0m\u001b[0;34m\u001b[0m\u001b[0;34m\u001b[0m\u001b[0m\n\u001b[1;32m     51\u001b[0m             \u001b[0;32mwith\u001b[0m \u001b[0mplotting_context\u001b[0m\u001b[0;34m(\u001b[0m\u001b[0;34m)\u001b[0m\u001b[0;34m,\u001b[0m \u001b[0maxes_style\u001b[0m\u001b[0;34m(\u001b[0m\u001b[0;34m)\u001b[0m\u001b[0;34m:\u001b[0m\u001b[0;34m\u001b[0m\u001b[0;34m\u001b[0m\u001b[0m\n\u001b[0;32m---> 52\u001b[0;31m                 \u001b[0;32mreturn\u001b[0m \u001b[0mfunc\u001b[0m\u001b[0;34m(\u001b[0m\u001b[0;34m*\u001b[0m\u001b[0margs\u001b[0m\u001b[0;34m,\u001b[0m \u001b[0;34m**\u001b[0m\u001b[0mkwargs\u001b[0m\u001b[0;34m)\u001b[0m\u001b[0;34m\u001b[0m\u001b[0;34m\u001b[0m\u001b[0m\n\u001b[0m\u001b[1;32m     53\u001b[0m         \u001b[0;32melse\u001b[0m\u001b[0;34m:\u001b[0m\u001b[0;34m\u001b[0m\u001b[0;34m\u001b[0m\u001b[0m\n\u001b[1;32m     54\u001b[0m             \u001b[0;32mreturn\u001b[0m \u001b[0mfunc\u001b[0m\u001b[0;34m(\u001b[0m\u001b[0;34m*\u001b[0m\u001b[0margs\u001b[0m\u001b[0;34m,\u001b[0m \u001b[0;34m**\u001b[0m\u001b[0mkwargs\u001b[0m\u001b[0;34m)\u001b[0m\u001b[0;34m\u001b[0m\u001b[0;34m\u001b[0m\u001b[0m\n",
            "\u001b[0;32m/usr/local/lib/python3.7/dist-packages/pyfolio/tears.py\u001b[0m in \u001b[0;36mcreate_returns_tear_sheet\u001b[0;34m(returns, positions, transactions, live_start_date, cone_std, benchmark_rets, bootstrap, turnover_denom, header_rows, return_fig)\u001b[0m\n\u001b[1;32m    502\u001b[0m                              header_rows=header_rows)\n\u001b[1;32m    503\u001b[0m \u001b[0;34m\u001b[0m\u001b[0m\n\u001b[0;32m--> 504\u001b[0;31m     \u001b[0mplotting\u001b[0m\u001b[0;34m.\u001b[0m\u001b[0mshow_worst_drawdown_periods\u001b[0m\u001b[0;34m(\u001b[0m\u001b[0mreturns\u001b[0m\u001b[0;34m)\u001b[0m\u001b[0;34m\u001b[0m\u001b[0;34m\u001b[0m\u001b[0m\n\u001b[0m\u001b[1;32m    505\u001b[0m \u001b[0;34m\u001b[0m\u001b[0m\n\u001b[1;32m    506\u001b[0m     \u001b[0mvertical_sections\u001b[0m \u001b[0;34m=\u001b[0m \u001b[0;36m11\u001b[0m\u001b[0;34m\u001b[0m\u001b[0;34m\u001b[0m\u001b[0m\n",
            "\u001b[0;32m/usr/local/lib/python3.7/dist-packages/pyfolio/plotting.py\u001b[0m in \u001b[0;36mshow_worst_drawdown_periods\u001b[0;34m(returns, top)\u001b[0m\n\u001b[1;32m   1662\u001b[0m     \"\"\"\n\u001b[1;32m   1663\u001b[0m \u001b[0;34m\u001b[0m\u001b[0m\n\u001b[0;32m-> 1664\u001b[0;31m     \u001b[0mdrawdown_df\u001b[0m \u001b[0;34m=\u001b[0m \u001b[0mtimeseries\u001b[0m\u001b[0;34m.\u001b[0m\u001b[0mgen_drawdown_table\u001b[0m\u001b[0;34m(\u001b[0m\u001b[0mreturns\u001b[0m\u001b[0;34m,\u001b[0m \u001b[0mtop\u001b[0m\u001b[0;34m=\u001b[0m\u001b[0mtop\u001b[0m\u001b[0;34m)\u001b[0m\u001b[0;34m\u001b[0m\u001b[0;34m\u001b[0m\u001b[0m\n\u001b[0m\u001b[1;32m   1665\u001b[0m     utils.print_table(\n\u001b[1;32m   1666\u001b[0m         \u001b[0mdrawdown_df\u001b[0m\u001b[0;34m.\u001b[0m\u001b[0msort_values\u001b[0m\u001b[0;34m(\u001b[0m\u001b[0;34m'Net drawdown in %'\u001b[0m\u001b[0;34m,\u001b[0m \u001b[0mascending\u001b[0m\u001b[0;34m=\u001b[0m\u001b[0;32mFalse\u001b[0m\u001b[0;34m)\u001b[0m\u001b[0;34m,\u001b[0m\u001b[0;34m\u001b[0m\u001b[0;34m\u001b[0m\u001b[0m\n",
            "\u001b[0;32m/usr/local/lib/python3.7/dist-packages/pyfolio/timeseries.py\u001b[0m in \u001b[0;36mgen_drawdown_table\u001b[0;34m(returns, top)\u001b[0m\n\u001b[1;32m   1006\u001b[0m         df_drawdowns.loc[i, 'Peak date'] = (peak.to_pydatetime()\n\u001b[1;32m   1007\u001b[0m                                             .strftime('%Y-%m-%d'))\n\u001b[0;32m-> 1008\u001b[0;31m         df_drawdowns.loc[i, 'Valley date'] = (valley.to_pydatetime()\n\u001b[0m\u001b[1;32m   1009\u001b[0m                                               .strftime('%Y-%m-%d'))\n\u001b[1;32m   1010\u001b[0m         \u001b[0;32mif\u001b[0m \u001b[0misinstance\u001b[0m\u001b[0;34m(\u001b[0m\u001b[0mrecovery\u001b[0m\u001b[0;34m,\u001b[0m \u001b[0mfloat\u001b[0m\u001b[0;34m)\u001b[0m\u001b[0;34m:\u001b[0m\u001b[0;34m\u001b[0m\u001b[0;34m\u001b[0m\u001b[0m\n",
            "\u001b[0;31mAttributeError\u001b[0m: 'numpy.int64' object has no attribute 'to_pydatetime'"
          ]
        }
      ]
    },
    {
      "cell_type": "markdown",
      "metadata": {
        "id": "xVved1QfyIpJ"
      },
      "source": [
        "## 使用 ffn 計算股票的績效表現\n",
        "\n",
        "https://pmorissette.github.io/ffn/"
      ]
    },
    {
      "cell_type": "code",
      "metadata": {
        "id": "bieVC5v1ygBS"
      },
      "source": [
        "!pip install -q ffn"
      ],
      "execution_count": null,
      "outputs": []
    },
    {
      "cell_type": "code",
      "metadata": {
        "id": "EE5XNftmoP9T"
      },
      "source": [
        "import ffn"
      ],
      "execution_count": null,
      "outputs": []
    },
    {
      "cell_type": "code",
      "metadata": {
        "id": "Kp0njr2y4O7i"
      },
      "source": [
        "import pandas as pd"
      ],
      "execution_count": null,
      "outputs": []
    },
    {
      "cell_type": "code",
      "metadata": {
        "id": "YAMVqNy52z-v"
      },
      "source": [
        "import matplotlib.pyplot as plt"
      ],
      "execution_count": null,
      "outputs": []
    },
    {
      "cell_type": "code",
      "metadata": {
        "id": "qRq9JULs4LYO"
      },
      "source": [
        "prices = pd.DataFrame()"
      ],
      "execution_count": null,
      "outputs": []
    },
    {
      "cell_type": "code",
      "metadata": {
        "id": "6fXFsFX50a1L"
      },
      "source": [
        "prices['AAPL'] = web.DataReader('AAPL', 'yahoo', start='2010-01-01', session=s)['Close']"
      ],
      "execution_count": null,
      "outputs": []
    },
    {
      "cell_type": "code",
      "metadata": {
        "id": "stzoW1UA2WYV"
      },
      "source": [
        "prices['MSFT'] = web.DataReader('MSFT', 'yahoo', start='2010-01-01', session=s)['Close']"
      ],
      "execution_count": null,
      "outputs": []
    },
    {
      "cell_type": "code",
      "metadata": {
        "id": "dTiD78vq-fIJ"
      },
      "source": [
        "prices['GOOG'] = web.DataReader('GOOG', 'yahoo', start='2010-01-01', session=s)['Close']"
      ],
      "execution_count": null,
      "outputs": []
    },
    {
      "cell_type": "code",
      "metadata": {
        "id": "8UCdrvVX-ixc"
      },
      "source": [
        "prices['TSLA'] = web.DataReader('TSLA', 'yahoo', start='2010-01-01', session=s)['Close']"
      ],
      "execution_count": null,
      "outputs": []
    },
    {
      "cell_type": "code",
      "metadata": {
        "colab": {
          "base_uri": "https://localhost:8080/",
          "height": 236
        },
        "id": "E9tnaHNY3Q2N",
        "outputId": "e1c59387-5ae6-4cce-b5a6-d70fff7b3c29"
      },
      "source": [
        "prices.head()"
      ],
      "execution_count": null,
      "outputs": [
        {
          "output_type": "execute_result",
          "data": {
            "text/html": [
              "<div>\n",
              "<style scoped>\n",
              "    .dataframe tbody tr th:only-of-type {\n",
              "        vertical-align: middle;\n",
              "    }\n",
              "\n",
              "    .dataframe tbody tr th {\n",
              "        vertical-align: top;\n",
              "    }\n",
              "\n",
              "    .dataframe thead th {\n",
              "        text-align: right;\n",
              "    }\n",
              "</style>\n",
              "<table border=\"1\" class=\"dataframe\">\n",
              "  <thead>\n",
              "    <tr style=\"text-align: right;\">\n",
              "      <th></th>\n",
              "      <th>AAPL</th>\n",
              "      <th>MSFT</th>\n",
              "      <th>GOOG</th>\n",
              "      <th>TSLA</th>\n",
              "    </tr>\n",
              "    <tr>\n",
              "      <th>Date</th>\n",
              "      <th></th>\n",
              "      <th></th>\n",
              "      <th></th>\n",
              "      <th></th>\n",
              "    </tr>\n",
              "  </thead>\n",
              "  <tbody>\n",
              "    <tr>\n",
              "      <th>2010-01-04</th>\n",
              "      <td>7.643214</td>\n",
              "      <td>30.950001</td>\n",
              "      <td>312.204773</td>\n",
              "      <td>NaN</td>\n",
              "    </tr>\n",
              "    <tr>\n",
              "      <th>2010-01-05</th>\n",
              "      <td>7.656429</td>\n",
              "      <td>30.959999</td>\n",
              "      <td>310.829926</td>\n",
              "      <td>NaN</td>\n",
              "    </tr>\n",
              "    <tr>\n",
              "      <th>2010-01-06</th>\n",
              "      <td>7.534643</td>\n",
              "      <td>30.770000</td>\n",
              "      <td>302.994293</td>\n",
              "      <td>NaN</td>\n",
              "    </tr>\n",
              "    <tr>\n",
              "      <th>2010-01-07</th>\n",
              "      <td>7.520714</td>\n",
              "      <td>30.450001</td>\n",
              "      <td>295.940735</td>\n",
              "      <td>NaN</td>\n",
              "    </tr>\n",
              "    <tr>\n",
              "      <th>2010-01-08</th>\n",
              "      <td>7.570714</td>\n",
              "      <td>30.660000</td>\n",
              "      <td>299.885956</td>\n",
              "      <td>NaN</td>\n",
              "    </tr>\n",
              "  </tbody>\n",
              "</table>\n",
              "</div>"
            ],
            "text/plain": [
              "                AAPL       MSFT        GOOG  TSLA\n",
              "Date                                             \n",
              "2010-01-04  7.643214  30.950001  312.204773   NaN\n",
              "2010-01-05  7.656429  30.959999  310.829926   NaN\n",
              "2010-01-06  7.534643  30.770000  302.994293   NaN\n",
              "2010-01-07  7.520714  30.450001  295.940735   NaN\n",
              "2010-01-08  7.570714  30.660000  299.885956   NaN"
            ]
          },
          "metadata": {},
          "execution_count": 64
        }
      ]
    },
    {
      "cell_type": "code",
      "metadata": {
        "colab": {
          "base_uri": "https://localhost:8080/",
          "height": 522
        },
        "id": "RtjjvCzt2aRH",
        "outputId": "cab13b56-2eb1-4dc1-d20e-e3b906e9da6c"
      },
      "source": [
        "fig, ax = plt.subplots()\n",
        "ax = prices[:'2014'].rebase().plot()"
      ],
      "execution_count": null,
      "outputs": [
        {
          "output_type": "display_data",
          "data": {
            "image/png": "[encoded data removed]",
            "text/plain": [
              "<Figure size 432x288 with 1 Axes>"
            ]
          },
          "metadata": {
            "needs_background": "light"
          }
        },
        {
          "output_type": "display_data",
          "data": {
            "image/png": "[encoded data removed]",
            "text/plain": [
              "<Figure size 432x288 with 1 Axes>"
            ]
          },
          "metadata": {
            "needs_background": "light"
          }
        }
      ]
    },
    {
      "cell_type": "code",
      "metadata": {
        "colab": {
          "base_uri": "https://localhost:8080/",
          "height": 336
        },
        "id": "NHa4m7op2gJ7",
        "outputId": "f777ea12-187c-4643-9747-a2e1bd79a3c5"
      },
      "source": [
        "returns = prices.to_returns().dropna()\n",
        "ax = returns.hist(figsize=(10, 5))"
      ],
      "execution_count": null,
      "outputs": [
        {
          "output_type": "display_data",
          "data": {
            "image/png": "[encoded data removed]",
            "text/plain": [
              "<Figure size 720x360 with 4 Axes>"
            ]
          },
          "metadata": {
            "needs_background": "light"
          }
        }
      ]
    },
    {
      "cell_type": "code",
      "metadata": {
        "colab": {
          "base_uri": "https://localhost:8080/"
        },
        "id": "nNFQEioL5O_3",
        "outputId": "0ef5b1ab-1309-42b4-dca3-c1d04dad3c9b"
      },
      "source": [
        "stats = prices.calc_stats()\n",
        "stats.display()"
      ],
      "execution_count": null,
      "outputs": [
        {
          "output_type": "stream",
          "name": "stdout",
          "text": [
            "Stat                 AAPL        MSFT        GOOG        TSLA\n",
            "-------------------  ----------  ----------  ----------  ----------\n",
            "Start                2010-06-29  2010-06-29  2010-06-29  2010-06-29\n",
            "End                  2021-10-14  2021-10-14  2021-10-14  2021-10-14\n",
            "Risk-free rate       0.00%       0.00%       0.00%       0.00%\n",
            "\n",
            "Total Return         1471.33%    1198.80%    1149.87%    17026.83%\n",
            "Daily Sharpe         1.01        1.03        1.00        1.09\n",
            "Daily Sortino        1.68        1.73        1.69        1.92\n",
            "CAGR                 27.62%      25.49%      25.06%      57.68%\n",
            "Max Drawdown         -44.38%     -28.24%     -30.79%     -60.63%\n",
            "Calmar Ratio         0.62        0.90        0.81        0.95\n",
            "\n",
            "MTD                  1.60%       7.39%       6.11%       5.52%\n",
            "3m                   -3.61%      7.16%       7.06%       25.24%\n",
            "6m                   8.88%       18.45%      25.43%      11.76%\n",
            "YTD                  8.34%       36.12%      61.44%      15.96%\n",
            "1Y                   18.62%      37.08%      80.36%      77.39%\n",
            "3Y (ann.)            38.34%      41.21%      37.35%      150.89%\n",
            "5Y (ann.)            37.36%      39.45%      29.44%      83.54%\n",
            "10Y (ann.)           25.30%      27.21%      25.37%      64.58%\n",
            "Since Incep. (ann.)  27.62%      25.49%      25.06%      57.68%\n",
            "\n",
            "Daily Sharpe         1.01        1.03        1.00        1.09\n",
            "Daily Sortino        1.68        1.73        1.69        1.92\n",
            "Daily Mean (ann.)    28.33%      25.90%      25.70%      61.18%\n",
            "Daily Vol (ann.)     27.96%      25.17%      25.81%      56.00%\n",
            "Daily Skew           -0.11       0.05        0.65        0.42\n",
            "Daily Kurt           6.11        10.02       11.37       6.01\n",
            "Best Day             11.98%      14.22%      16.05%      24.40%\n",
            "Worst Day            -12.86%     -14.74%     -11.10%     -21.06%\n",
            "\n",
            "Monthly Sharpe       1.05        1.23        1.08        1.00\n",
            "Monthly Sortino      2.15        2.70        2.44        2.94\n",
            "Monthly Mean (ann.)  28.27%      24.96%      25.34%      62.72%\n",
            "Monthly Vol (ann.)   26.89%      20.35%      23.50%      62.46%\n",
            "Monthly Skew         -0.10       0.18        0.33        1.48\n",
            "Monthly Kurt         -0.19       0.31        0.06        3.56\n",
            "Best Month           21.44%      19.63%      20.19%      81.07%\n",
            "Worst Month          -18.40%     -13.02%     -13.18%     -24.62%\n",
            "\n",
            "Yearly Sharpe        0.92        1.38        1.04        0.49\n",
            "Yearly Sortino       12.32       12.10       13.84       34.44\n",
            "Yearly Mean          29.10%      25.49%      24.83%      113.86%\n",
            "Yearly Vol           31.76%      18.53%      23.82%      231.18%\n",
            "Yearly Skew          0.82        -0.24       0.27        2.50\n",
            "Yearly Kurt          -0.31       -0.54       -1.33       6.16\n",
            "Best Year            86.16%      55.26%      61.44%      743.44%\n",
            "Worst Year           -6.79%      -6.99%      -5.97%      -10.97%\n",
            "\n",
            "Avg. Drawdown        -4.25%      -2.99%      -3.43%      -9.41%\n",
            "Avg. Drawdown Days   31.48       23.30       28.11       52.73\n",
            "Avg. Up Month        7.27%       5.24%       6.03%       16.49%\n",
            "Avg. Down Month      -5.33%      -4.31%      -4.63%      -8.63%\n",
            "Win Year %           81.82%      90.91%      81.82%      90.91%\n",
            "Win 12m %            79.37%      92.86%      87.30%      72.22%\n"
          ]
        }
      ]
    },
    {
      "cell_type": "code",
      "metadata": {
        "colab": {
          "base_uri": "https://localhost:8080/",
          "height": 269
        },
        "id": "7ty8HK7f5eHh",
        "outputId": "a35f5288-9927-40eb-f665-f615544b1fdd"
      },
      "source": [
        "# what about the drawdowns?\n",
        "ax = stats.prices.to_drawdown_series().plot()"
      ],
      "execution_count": null,
      "outputs": [
        {
          "output_type": "display_data",
          "data": {
            "image/png": "[encoded data removed]",
            "text/plain": [
              "<Figure size 432x288 with 1 Axes>"
            ]
          },
          "metadata": {
            "needs_background": "light"
          }
        }
      ]
    },
    {
      "cell_type": "code",
      "metadata": {
        "colab": {
          "base_uri": "https://localhost:8080/",
          "height": 173
        },
        "id": "4PC0h7839G6I",
        "outputId": "4f824b78-4ca3-4eb3-9772-9c0fe30f4723"
      },
      "source": [
        "returns.corr().as_format('.2f')"
      ],
      "execution_count": null,
      "outputs": [
        {
          "output_type": "execute_result",
          "data": {
            "text/html": [
              "<div>\n",
              "<style scoped>\n",
              "    .dataframe tbody tr th:only-of-type {\n",
              "        vertical-align: middle;\n",
              "    }\n",
              "\n",
              "    .dataframe tbody tr th {\n",
              "        vertical-align: top;\n",
              "    }\n",
              "\n",
              "    .dataframe thead th {\n",
              "        text-align: right;\n",
              "    }\n",
              "</style>\n",
              "<table border=\"1\" class=\"dataframe\">\n",
              "  <thead>\n",
              "    <tr style=\"text-align: right;\">\n",
              "      <th></th>\n",
              "      <th>AAPL</th>\n",
              "      <th>MSFT</th>\n",
              "      <th>GOOG</th>\n",
              "      <th>TSLA</th>\n",
              "    </tr>\n",
              "  </thead>\n",
              "  <tbody>\n",
              "    <tr>\n",
              "      <th>AAPL</th>\n",
              "      <td>1.00</td>\n",
              "      <td>0.56</td>\n",
              "      <td>0.53</td>\n",
              "      <td>0.31</td>\n",
              "    </tr>\n",
              "    <tr>\n",
              "      <th>MSFT</th>\n",
              "      <td>0.56</td>\n",
              "      <td>1.00</td>\n",
              "      <td>0.62</td>\n",
              "      <td>0.32</td>\n",
              "    </tr>\n",
              "    <tr>\n",
              "      <th>GOOG</th>\n",
              "      <td>0.53</td>\n",
              "      <td>0.62</td>\n",
              "      <td>1.00</td>\n",
              "      <td>0.31</td>\n",
              "    </tr>\n",
              "    <tr>\n",
              "      <th>TSLA</th>\n",
              "      <td>0.31</td>\n",
              "      <td>0.32</td>\n",
              "      <td>0.31</td>\n",
              "      <td>1.00</td>\n",
              "    </tr>\n",
              "  </tbody>\n",
              "</table>\n",
              "</div>"
            ],
            "text/plain": [
              "      AAPL  MSFT  GOOG  TSLA\n",
              "AAPL  1.00  0.56  0.53  0.31\n",
              "MSFT  0.56  1.00  0.62  0.32\n",
              "GOOG  0.53  0.62  1.00  0.31\n",
              "TSLA  0.31  0.32  0.31  1.00"
            ]
          },
          "metadata": {},
          "execution_count": 69
        }
      ]
    },
    {
      "cell_type": "code",
      "metadata": {
        "colab": {
          "base_uri": "https://localhost:8080/",
          "height": 298
        },
        "id": "W026ghZt9HxW",
        "outputId": "912abc19-a118-45ea-9191-ace8eeed8d57"
      },
      "source": [
        "returns.plot_corr_heatmap()"
      ],
      "execution_count": null,
      "outputs": [
        {
          "output_type": "execute_result",
          "data": {
            "text/plain": [
              "<module 'matplotlib.pyplot' from '/usr/local/lib/python3.7/dist-packages/matplotlib/pyplot.py'>"
            ]
          },
          "metadata": {},
          "execution_count": 70
        },
        {
          "output_type": "display_data",
          "data": {
            "image/png": "[encoded data removed]",
            "text/plain": [
              "<Figure size 432x288 with 2 Axes>"
            ]
          },
          "metadata": {
            "needs_background": "light"
          }
        }
      ]
    },
    {
      "cell_type": "code",
      "metadata": {
        "id": "xEvwT8BG-Gv9"
      },
      "source": [
        ""
      ],
      "execution_count": null,
      "outputs": []
    }
  ]
}