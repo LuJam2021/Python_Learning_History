{
  "nbformat": 4,
  "nbformat_minor": 0,
  "metadata": {
    "colab": {
      "name": "20211015 - 財報選股練習.ipynb",
      "provenance": [],
      "collapsed_sections": [],
      "toc_visible": true,
      "authorship_tag": "ABX9TyOtENKSfeXtclO9kZ2oipDh",
      "include_colab_link": true
    },
    "kernelspec": {
      "name": "python3",
      "display_name": "Python 3"
    },
    "language_info": {
      "name": "python"
    }
  },
  "cells": [
    {
      "cell_type": "markdown",
      "metadata": {
        "id": "view-in-github",
        "colab_type": "text"
      },
      "source": [
        "<a href=\"https://colab.research.google.com/github/LuJam2021/Python_Learning_History/blob/main/20211015_%E8%B2%A1%E5%A0%B1%E9%81%B8%E8%82%A1%E7%B7%B4%E7%BF%92.ipynb\" target=\"_parent\"><img src=\"https://colab.research.google.com/assets/colab-badge.svg\" alt=\"Open In Colab\"/></a>"
      ]
    },
    {
      "cell_type": "markdown",
      "metadata": {
        "id": "CPiWtkZqEjR-"
      },
      "source": [
        "# 財報選股練習\n",
        "讀取2330財務比率"
      ]
    },
    {
      "cell_type": "code",
      "metadata": {
        "id": "pg4BfkkRCfUZ"
      },
      "source": [
        "import pandas as pd"
      ],
      "execution_count": null,
      "outputs": []
    },
    {
      "cell_type": "code",
      "metadata": {
        "id": "wWh3RxnoCkeF"
      },
      "source": [
        "url = \"http://jsjustweb.jihsun.com.tw/z/zc/zcr/zcra/zcra_2330.djhtm\""
      ],
      "execution_count": null,
      "outputs": []
    },
    {
      "cell_type": "code",
      "metadata": {
        "id": "r7ojfHoWClzh"
      },
      "source": [
        "dfs = pd.read_html(url, index_col=0)"
      ],
      "execution_count": null,
      "outputs": []
    },
    {
      "cell_type": "code",
      "metadata": {
        "id": "trmdKnPeCn6S"
      },
      "source": [
        "df=dfs[2]"
      ],
      "execution_count": null,
      "outputs": []
    },
    {
      "cell_type": "code",
      "metadata": {
        "id": "ph7Y2e77Cr8J"
      },
      "source": [
        "# 刪除含有'指標'這個字串的列\n",
        "df = df[~df.index.str.contains(\"指標\")]"
      ],
      "execution_count": null,
      "outputs": []
    },
    {
      "cell_type": "code",
      "metadata": {
        "id": "tQC_vBZtDGs6"
      },
      "source": [
        "# 刪除含有'種類'這個字串的列\n",
        "df = df[~df.index.str.contains(\"種類\")]"
      ],
      "execution_count": null,
      "outputs": []
    },
    {
      "cell_type": "code",
      "metadata": {
        "id": "LywuQ8tFDIFE"
      },
      "source": [
        "df = df[~df.index.str.contains('其他')]"
      ],
      "execution_count": null,
      "outputs": []
    },
    {
      "cell_type": "code",
      "metadata": {
        "id": "y-QoJhpIDJpP"
      },
      "source": [
        "# 重複刪除\n",
        "df=df.drop_duplicates()"
      ],
      "execution_count": null,
      "outputs": []
    },
    {
      "cell_type": "code",
      "metadata": {
        "colab": {
          "base_uri": "https://localhost:8080/"
        },
        "id": "WZrfcq1dDRAO",
        "outputId": "1b7f3cdc-408e-41af-f6af-6d6545b3aa94"
      },
      "source": [
        "df.loc['期別']"
      ],
      "execution_count": null,
      "outputs": [
        {
          "output_type": "execute_result",
          "data": {
            "text/plain": [
              "1    2020\n",
              "2    2019\n",
              "3    2018\n",
              "4    2017\n",
              "5    2016\n",
              "6    2015\n",
              "7    2014\n",
              "8    2013\n",
              "Name: 期別, dtype: object"
            ]
          },
          "metadata": {},
          "execution_count": 14
        }
      ]
    },
    {
      "cell_type": "code",
      "metadata": {
        "id": "6xDSZB_ODTFp"
      },
      "source": [
        "df.columns = df.iloc[0].astype(int)"
      ],
      "execution_count": null,
      "outputs": []
    },
    {
      "cell_type": "code",
      "metadata": {
        "id": "UMe-LtTPDd4V"
      },
      "source": [
        "df=df.drop('期別')"
      ],
      "execution_count": null,
      "outputs": []
    },
    {
      "cell_type": "code",
      "metadata": {
        "id": "q3kZ4TXhDxqO"
      },
      "source": [
        "df.index.name = \"財務比率\""
      ],
      "execution_count": null,
      "outputs": []
    },
    {
      "cell_type": "code",
      "metadata": {
        "id": "g_YfrcfCDykH"
      },
      "source": [
        "df = df.astype(float)"
      ],
      "execution_count": null,
      "outputs": []
    },
    {
      "cell_type": "code",
      "metadata": {
        "colab": {
          "base_uri": "https://localhost:8080/",
          "height": 454
        },
        "id": "DN6bM8zzDzAo",
        "outputId": "7ec029c3-4651-4afc-a694-6fd340943293"
      },
      "source": [
        "df"
      ],
      "execution_count": null,
      "outputs": [
        {
          "output_type": "execute_result",
          "data": {
            "text/html": [
              "<div>\n",
              "<style scoped>\n",
              "    .dataframe tbody tr th:only-of-type {\n",
              "        vertical-align: middle;\n",
              "    }\n",
              "\n",
              "    .dataframe tbody tr th {\n",
              "        vertical-align: top;\n",
              "    }\n",
              "\n",
              "    .dataframe thead th {\n",
              "        text-align: right;\n",
              "    }\n",
              "</style>\n",
              "<table border=\"1\" class=\"dataframe\">\n",
              "  <thead>\n",
              "    <tr style=\"text-align: right;\">\n",
              "      <th>期別</th>\n",
              "      <th>2020</th>\n",
              "      <th>2019</th>\n",
              "      <th>2018</th>\n",
              "      <th>2017</th>\n",
              "      <th>2016</th>\n",
              "      <th>2015</th>\n",
              "      <th>2014</th>\n",
              "      <th>2013</th>\n",
              "    </tr>\n",
              "    <tr>\n",
              "      <th>財務比率</th>\n",
              "      <th></th>\n",
              "      <th></th>\n",
              "      <th></th>\n",
              "      <th></th>\n",
              "      <th></th>\n",
              "      <th></th>\n",
              "      <th></th>\n",
              "      <th></th>\n",
              "    </tr>\n",
              "  </thead>\n",
              "  <tbody>\n",
              "    <tr>\n",
              "      <th>ROA(C)稅前息前折舊前</th>\n",
              "      <td>36.17</td>\n",
              "      <td>31.31</td>\n",
              "      <td>34.12</td>\n",
              "      <td>33.89</td>\n",
              "      <td>34.60</td>\n",
              "      <td>35.14</td>\n",
              "      <td>36.67</td>\n",
              "      <td>33.57</td>\n",
              "    </tr>\n",
              "    <tr>\n",
              "      <th>ROA(A)稅後息前</th>\n",
              "      <td>20.69</td>\n",
              "      <td>15.98</td>\n",
              "      <td>17.33</td>\n",
              "      <td>17.84</td>\n",
              "      <td>19.02</td>\n",
              "      <td>19.62</td>\n",
              "      <td>19.32</td>\n",
              "      <td>17.10</td>\n",
              "    </tr>\n",
              "    <tr>\n",
              "      <th>ROA(B)稅後息前折舊前</th>\n",
              "      <td>30.86</td>\n",
              "      <td>26.60</td>\n",
              "      <td>28.95</td>\n",
              "      <td>28.85</td>\n",
              "      <td>29.50</td>\n",
              "      <td>29.93</td>\n",
              "      <td>31.39</td>\n",
              "      <td>28.68</td>\n",
              "    </tr>\n",
              "    <tr>\n",
              "      <th>ROE(A)─稅後</th>\n",
              "      <td>29.84</td>\n",
              "      <td>20.93</td>\n",
              "      <td>21.95</td>\n",
              "      <td>23.56</td>\n",
              "      <td>25.59</td>\n",
              "      <td>27.02</td>\n",
              "      <td>27.85</td>\n",
              "      <td>23.94</td>\n",
              "    </tr>\n",
              "    <tr>\n",
              "      <th>ROE(B)─常續利益</th>\n",
              "      <td>29.28</td>\n",
              "      <td>21.04</td>\n",
              "      <td>22.15</td>\n",
              "      <td>23.39</td>\n",
              "      <td>25.59</td>\n",
              "      <td>25.07</td>\n",
              "      <td>27.87</td>\n",
              "      <td>23.82</td>\n",
              "    </tr>\n",
              "    <tr>\n",
              "      <th>...</th>\n",
              "      <td>...</td>\n",
              "      <td>...</td>\n",
              "      <td>...</td>\n",
              "      <td>...</td>\n",
              "      <td>...</td>\n",
              "      <td>...</td>\n",
              "      <td>...</td>\n",
              "      <td>...</td>\n",
              "    </tr>\n",
              "    <tr>\n",
              "      <th>有息負債利率</th>\n",
              "      <td>0.61</td>\n",
              "      <td>1.88</td>\n",
              "      <td>1.83</td>\n",
              "      <td>1.50</td>\n",
              "      <td>1.37</td>\n",
              "      <td>1.33</td>\n",
              "      <td>1.32</td>\n",
              "      <td>1.29</td>\n",
              "    </tr>\n",
              "    <tr>\n",
              "      <th>稅率(A)</th>\n",
              "      <td>11.39</td>\n",
              "      <td>11.42</td>\n",
              "      <td>11.65</td>\n",
              "      <td>13.38</td>\n",
              "      <td>13.37</td>\n",
              "      <td>12.52</td>\n",
              "      <td>12.68</td>\n",
              "      <td>12.75</td>\n",
              "    </tr>\n",
              "    <tr>\n",
              "      <th>每人營收</th>\n",
              "      <td>23566.00</td>\n",
              "      <td>20859.00</td>\n",
              "      <td>21158.00</td>\n",
              "      <td>20111.00</td>\n",
              "      <td>20183.00</td>\n",
              "      <td>18632.00</td>\n",
              "      <td>17499.00</td>\n",
              "      <td>14748.00</td>\n",
              "    </tr>\n",
              "    <tr>\n",
              "      <th>每人營業利益</th>\n",
              "      <td>9973.00</td>\n",
              "      <td>7266.00</td>\n",
              "      <td>7869.00</td>\n",
              "      <td>7933.00</td>\n",
              "      <td>8047.00</td>\n",
              "      <td>7069.00</td>\n",
              "      <td>6787.00</td>\n",
              "      <td>5173.00</td>\n",
              "    </tr>\n",
              "    <tr>\n",
              "      <th>每人配備率</th>\n",
              "      <td>27372.00</td>\n",
              "      <td>26364.00</td>\n",
              "      <td>21990.00</td>\n",
              "      <td>21862.00</td>\n",
              "      <td>21244.00</td>\n",
              "      <td>18852.00</td>\n",
              "      <td>18770.00</td>\n",
              "      <td>19580.00</td>\n",
              "    </tr>\n",
              "  </tbody>\n",
              "</table>\n",
              "<p>64 rows × 8 columns</p>\n",
              "</div>"
            ],
            "text/plain": [
              "期別                 2020      2019      2018  ...      2015      2014      2013\n",
              "財務比率                                         ...                              \n",
              "ROA(C)稅前息前折舊前     36.17     31.31     34.12  ...     35.14     36.67     33.57\n",
              "ROA(A)稅後息前        20.69     15.98     17.33  ...     19.62     19.32     17.10\n",
              "ROA(B)稅後息前折舊前     30.86     26.60     28.95  ...     29.93     31.39     28.68\n",
              "ROE(A)─稅後         29.84     20.93     21.95  ...     27.02     27.85     23.94\n",
              "ROE(B)─常續利益       29.28     21.04     22.15  ...     25.07     27.87     23.82\n",
              "...                 ...       ...       ...  ...       ...       ...       ...\n",
              "有息負債利率             0.61      1.88      1.83  ...      1.33      1.32      1.29\n",
              "稅率(A)             11.39     11.42     11.65  ...     12.52     12.68     12.75\n",
              "每人營收           23566.00  20859.00  21158.00  ...  18632.00  17499.00  14748.00\n",
              "每人營業利益          9973.00   7266.00   7869.00  ...   7069.00   6787.00   5173.00\n",
              "每人配備率          27372.00  26364.00  21990.00  ...  18852.00  18770.00  19580.00\n",
              "\n",
              "[64 rows x 8 columns]"
            ]
          },
          "metadata": {},
          "execution_count": 20
        }
      ]
    },
    {
      "cell_type": "markdown",
      "metadata": {
        "id": "xSeu_gAdD1J9"
      },
      "source": [
        "## 計算最近五年有幾次ROE>15%"
      ]
    },
    {
      "cell_type": "code",
      "metadata": {
        "colab": {
          "base_uri": "https://localhost:8080/"
        },
        "id": "wXBGwJ0aD5i_",
        "outputId": "16b7b623-8854-4d5a-8617-9590fb68e7d7"
      },
      "source": [
        "(df.loc['ROE(B)─常續利益']>15.0)[:5].sum()"
      ],
      "execution_count": null,
      "outputs": [
        {
          "output_type": "execute_result",
          "data": {
            "text/plain": [
              "5"
            ]
          },
          "metadata": {},
          "execution_count": 32
        }
      ]
    },
    {
      "cell_type": "code",
      "metadata": {
        "id": "_BtRk4z-Epzr"
      },
      "source": [
        "def df_ratio(stock_no):\n",
        "  url=f\"http://jsjustweb.jihsun.com.tw/z/zc/zcr/zcra/zcra_{stock_no}.djhtm\"\n",
        "  dfs = pd.read_html(url, index_col=0)\n",
        "  df=dfs[2]\n",
        "  df = df[~df.index.str.contains(\"指標\")]\n",
        "  df = df[~df.index.str.contains(\"種類\")]\n",
        "  df = df[~df.index.str.contains('其他')]\n",
        "  df = df[~df.index.str.contains('法定比率')]\n",
        "  df=df.drop_duplicates()\n",
        "  df.columns = df.iloc[0].astype(int)\n",
        "  df=df.drop('期別')\n",
        "  df.index.name = \"財務比率\"\n",
        "  df = df.astype(float)   \n",
        "  return df"
      ],
      "execution_count": null,
      "outputs": []
    },
    {
      "cell_type": "code",
      "metadata": {
        "id": "CtMQ6Hy-GOn6"
      },
      "source": [
        "# 近n年幾次ROE>roe\n",
        "def CROE(df,n=5,value=15):\n",
        "  if 'ROE(B)─常續利益' in df.index:\n",
        "    return (df.loc['ROE(B)─常續利益']>value)[:n].sum()\n",
        "  elif 'ROE(B)-常續利益' in df.index:\n",
        "    return (df.loc['ROE(B)-常續利益']>value)[:n].sum()\n",
        "  elif 'ROE(A)-稅後' in df.index:\n",
        "    return (df.loc['ROE(A)-稅後']>value)[:n].sum()"
      ],
      "execution_count": null,
      "outputs": []
    },
    {
      "cell_type": "code",
      "metadata": {
        "colab": {
          "base_uri": "https://localhost:8080/",
          "height": 454
        },
        "id": "Vyqs_rcKFlHz",
        "outputId": "b61264cf-7222-43da-c076-49fda95bf74a"
      },
      "source": [
        "df_ratio(2330)"
      ],
      "execution_count": null,
      "outputs": [
        {
          "output_type": "execute_result",
          "data": {
            "text/html": [
              "<div>\n",
              "<style scoped>\n",
              "    .dataframe tbody tr th:only-of-type {\n",
              "        vertical-align: middle;\n",
              "    }\n",
              "\n",
              "    .dataframe tbody tr th {\n",
              "        vertical-align: top;\n",
              "    }\n",
              "\n",
              "    .dataframe thead th {\n",
              "        text-align: right;\n",
              "    }\n",
              "</style>\n",
              "<table border=\"1\" class=\"dataframe\">\n",
              "  <thead>\n",
              "    <tr style=\"text-align: right;\">\n",
              "      <th>期別</th>\n",
              "      <th>2020</th>\n",
              "      <th>2019</th>\n",
              "      <th>2018</th>\n",
              "      <th>2017</th>\n",
              "      <th>2016</th>\n",
              "      <th>2015</th>\n",
              "      <th>2014</th>\n",
              "      <th>2013</th>\n",
              "    </tr>\n",
              "    <tr>\n",
              "      <th>財務比率</th>\n",
              "      <th></th>\n",
              "      <th></th>\n",
              "      <th></th>\n",
              "      <th></th>\n",
              "      <th></th>\n",
              "      <th></th>\n",
              "      <th></th>\n",
              "      <th></th>\n",
              "    </tr>\n",
              "  </thead>\n",
              "  <tbody>\n",
              "    <tr>\n",
              "      <th>ROA(C)稅前息前折舊前</th>\n",
              "      <td>36.17</td>\n",
              "      <td>31.31</td>\n",
              "      <td>34.12</td>\n",
              "      <td>33.89</td>\n",
              "      <td>34.60</td>\n",
              "      <td>35.14</td>\n",
              "      <td>36.67</td>\n",
              "      <td>33.57</td>\n",
              "    </tr>\n",
              "    <tr>\n",
              "      <th>ROA(A)稅後息前</th>\n",
              "      <td>20.69</td>\n",
              "      <td>15.98</td>\n",
              "      <td>17.33</td>\n",
              "      <td>17.84</td>\n",
              "      <td>19.02</td>\n",
              "      <td>19.62</td>\n",
              "      <td>19.32</td>\n",
              "      <td>17.10</td>\n",
              "    </tr>\n",
              "    <tr>\n",
              "      <th>ROA(B)稅後息前折舊前</th>\n",
              "      <td>30.86</td>\n",
              "      <td>26.60</td>\n",
              "      <td>28.95</td>\n",
              "      <td>28.85</td>\n",
              "      <td>29.50</td>\n",
              "      <td>29.93</td>\n",
              "      <td>31.39</td>\n",
              "      <td>28.68</td>\n",
              "    </tr>\n",
              "    <tr>\n",
              "      <th>ROE(A)─稅後</th>\n",
              "      <td>29.84</td>\n",
              "      <td>20.93</td>\n",
              "      <td>21.95</td>\n",
              "      <td>23.56</td>\n",
              "      <td>25.59</td>\n",
              "      <td>27.02</td>\n",
              "      <td>27.85</td>\n",
              "      <td>23.94</td>\n",
              "    </tr>\n",
              "    <tr>\n",
              "      <th>ROE(B)─常續利益</th>\n",
              "      <td>29.28</td>\n",
              "      <td>21.04</td>\n",
              "      <td>22.15</td>\n",
              "      <td>23.39</td>\n",
              "      <td>25.59</td>\n",
              "      <td>25.07</td>\n",
              "      <td>27.87</td>\n",
              "      <td>23.82</td>\n",
              "    </tr>\n",
              "    <tr>\n",
              "      <th>...</th>\n",
              "      <td>...</td>\n",
              "      <td>...</td>\n",
              "      <td>...</td>\n",
              "      <td>...</td>\n",
              "      <td>...</td>\n",
              "      <td>...</td>\n",
              "      <td>...</td>\n",
              "      <td>...</td>\n",
              "    </tr>\n",
              "    <tr>\n",
              "      <th>有息負債利率</th>\n",
              "      <td>0.61</td>\n",
              "      <td>1.88</td>\n",
              "      <td>1.83</td>\n",
              "      <td>1.50</td>\n",
              "      <td>1.37</td>\n",
              "      <td>1.33</td>\n",
              "      <td>1.32</td>\n",
              "      <td>1.29</td>\n",
              "    </tr>\n",
              "    <tr>\n",
              "      <th>稅率(A)</th>\n",
              "      <td>11.39</td>\n",
              "      <td>11.42</td>\n",
              "      <td>11.65</td>\n",
              "      <td>13.38</td>\n",
              "      <td>13.37</td>\n",
              "      <td>12.52</td>\n",
              "      <td>12.68</td>\n",
              "      <td>12.75</td>\n",
              "    </tr>\n",
              "    <tr>\n",
              "      <th>每人營收</th>\n",
              "      <td>23566.00</td>\n",
              "      <td>20859.00</td>\n",
              "      <td>21158.00</td>\n",
              "      <td>20111.00</td>\n",
              "      <td>20183.00</td>\n",
              "      <td>18632.00</td>\n",
              "      <td>17499.00</td>\n",
              "      <td>14748.00</td>\n",
              "    </tr>\n",
              "    <tr>\n",
              "      <th>每人營業利益</th>\n",
              "      <td>9973.00</td>\n",
              "      <td>7266.00</td>\n",
              "      <td>7869.00</td>\n",
              "      <td>7933.00</td>\n",
              "      <td>8047.00</td>\n",
              "      <td>7069.00</td>\n",
              "      <td>6787.00</td>\n",
              "      <td>5173.00</td>\n",
              "    </tr>\n",
              "    <tr>\n",
              "      <th>每人配備率</th>\n",
              "      <td>27372.00</td>\n",
              "      <td>26364.00</td>\n",
              "      <td>21990.00</td>\n",
              "      <td>21862.00</td>\n",
              "      <td>21244.00</td>\n",
              "      <td>18852.00</td>\n",
              "      <td>18770.00</td>\n",
              "      <td>19580.00</td>\n",
              "    </tr>\n",
              "  </tbody>\n",
              "</table>\n",
              "<p>64 rows × 8 columns</p>\n",
              "</div>"
            ],
            "text/plain": [
              "期別                 2020      2019      2018  ...      2015      2014      2013\n",
              "財務比率                                         ...                              \n",
              "ROA(C)稅前息前折舊前     36.17     31.31     34.12  ...     35.14     36.67     33.57\n",
              "ROA(A)稅後息前        20.69     15.98     17.33  ...     19.62     19.32     17.10\n",
              "ROA(B)稅後息前折舊前     30.86     26.60     28.95  ...     29.93     31.39     28.68\n",
              "ROE(A)─稅後         29.84     20.93     21.95  ...     27.02     27.85     23.94\n",
              "ROE(B)─常續利益       29.28     21.04     22.15  ...     25.07     27.87     23.82\n",
              "...                 ...       ...       ...  ...       ...       ...       ...\n",
              "有息負債利率             0.61      1.88      1.83  ...      1.33      1.32      1.29\n",
              "稅率(A)             11.39     11.42     11.65  ...     12.52     12.68     12.75\n",
              "每人營收           23566.00  20859.00  21158.00  ...  18632.00  17499.00  14748.00\n",
              "每人營業利益          9973.00   7266.00   7869.00  ...   7069.00   6787.00   5173.00\n",
              "每人配備率          27372.00  26364.00  21990.00  ...  18852.00  18770.00  19580.00\n",
              "\n",
              "[64 rows x 8 columns]"
            ]
          },
          "metadata": {},
          "execution_count": 123
        }
      ]
    },
    {
      "cell_type": "code",
      "metadata": {
        "colab": {
          "base_uri": "https://localhost:8080/"
        },
        "id": "elyUcc1ZHgzr",
        "outputId": "67076985-82f1-45b8-e430-5003a9acfd1a"
      },
      "source": [
        "CROE(df_ratio(2303))"
      ],
      "execution_count": null,
      "outputs": [
        {
          "output_type": "execute_result",
          "data": {
            "text/plain": [
              "0"
            ]
          },
          "metadata": {},
          "execution_count": 62
        }
      ]
    },
    {
      "cell_type": "markdown",
      "metadata": {
        "id": "TVQgQGozViP2"
      },
      "source": [
        "## 近五年0050成分股裡，有幾次ROE>15%\n"
      ]
    },
    {
      "cell_type": "markdown",
      "metadata": {
        "id": "isP0Q2-TVsbG"
      },
      "source": [
        "### 取得0050成分股清單"
      ]
    },
    {
      "cell_type": "code",
      "metadata": {
        "id": "nfiGMQqGWiNB"
      },
      "source": [
        "import requests\n",
        "import pandas as pd\n",
        "\n",
        "url=\"https://zh.wikipedia.org/wiki/%E8%87%BA%E7%81%A350%E6%8C%87%E6%95%B8\""
      ],
      "execution_count": null,
      "outputs": []
    },
    {
      "cell_type": "code",
      "metadata": {
        "id": "6b41Lm0QXN6D"
      },
      "source": [
        "dfs=pd.read_html(url)"
      ],
      "execution_count": null,
      "outputs": []
    },
    {
      "cell_type": "code",
      "metadata": {
        "colab": {
          "base_uri": "https://localhost:8080/",
          "height": 799
        },
        "id": "tGO9n9veXoTF",
        "outputId": "8a366e37-4eb2-434c-8547-806c6d3d0d3d"
      },
      "source": [
        "dfs[0]"
      ],
      "execution_count": null,
      "outputs": [
        {
          "output_type": "execute_result",
          "data": {
            "text/html": [
              "<div>\n",
              "<style scoped>\n",
              "    .dataframe tbody tr th:only-of-type {\n",
              "        vertical-align: middle;\n",
              "    }\n",
              "\n",
              "    .dataframe tbody tr th {\n",
              "        vertical-align: top;\n",
              "    }\n",
              "\n",
              "    .dataframe thead th {\n",
              "        text-align: right;\n",
              "    }\n",
              "</style>\n",
              "<table border=\"1\" class=\"dataframe\">\n",
              "  <thead>\n",
              "    <tr style=\"text-align: right;\">\n",
              "      <th></th>\n",
              "      <th>股票代號</th>\n",
              "      <th>名稱</th>\n",
              "      <th>股票代號.1</th>\n",
              "      <th>名稱.1</th>\n",
              "    </tr>\n",
              "  </thead>\n",
              "  <tbody>\n",
              "    <tr>\n",
              "      <th>0</th>\n",
              "      <td>臺證所：1101</td>\n",
              "      <td>亞泥</td>\n",
              "      <td>臺證所：2609</td>\n",
              "      <td>陽明</td>\n",
              "    </tr>\n",
              "    <tr>\n",
              "      <th>1</th>\n",
              "      <td>臺證所：1216</td>\n",
              "      <td>統一企業</td>\n",
              "      <td>臺證所：2615</td>\n",
              "      <td>萬海</td>\n",
              "    </tr>\n",
              "    <tr>\n",
              "      <th>2</th>\n",
              "      <td>臺證所：1301</td>\n",
              "      <td>台塑企業</td>\n",
              "      <td>臺證所：2801</td>\n",
              "      <td>彰化銀行</td>\n",
              "    </tr>\n",
              "    <tr>\n",
              "      <th>3</th>\n",
              "      <td>臺證所：1303</td>\n",
              "      <td>南亞塑膠</td>\n",
              "      <td>臺證所：2880</td>\n",
              "      <td>華南金融控股</td>\n",
              "    </tr>\n",
              "    <tr>\n",
              "      <th>4</th>\n",
              "      <td>臺證所：1326</td>\n",
              "      <td>台灣化學纖維</td>\n",
              "      <td>臺證所：2881</td>\n",
              "      <td>富邦金融控股</td>\n",
              "    </tr>\n",
              "    <tr>\n",
              "      <th>5</th>\n",
              "      <td>臺證所：1402</td>\n",
              "      <td>遠東新世紀</td>\n",
              "      <td>臺證所：2882</td>\n",
              "      <td>國泰金融控股</td>\n",
              "    </tr>\n",
              "    <tr>\n",
              "      <th>6</th>\n",
              "      <td>臺證所：1590</td>\n",
              "      <td>亞德客-KY</td>\n",
              "      <td>臺證所：2884</td>\n",
              "      <td>玉山金融控股</td>\n",
              "    </tr>\n",
              "    <tr>\n",
              "      <th>7</th>\n",
              "      <td>臺證所：2002</td>\n",
              "      <td>中國鋼鐵</td>\n",
              "      <td>臺證所：2885</td>\n",
              "      <td>元大金融控股</td>\n",
              "    </tr>\n",
              "    <tr>\n",
              "      <th>8</th>\n",
              "      <td>臺證所：2207</td>\n",
              "      <td>和泰汽車</td>\n",
              "      <td>臺證所：2886</td>\n",
              "      <td>兆豐金融控股</td>\n",
              "    </tr>\n",
              "    <tr>\n",
              "      <th>9</th>\n",
              "      <td>臺證所：2303</td>\n",
              "      <td>聯華電子</td>\n",
              "      <td>臺證所：2887</td>\n",
              "      <td>台新金融控股</td>\n",
              "    </tr>\n",
              "    <tr>\n",
              "      <th>10</th>\n",
              "      <td>臺證所：2308</td>\n",
              "      <td>台達電子</td>\n",
              "      <td>臺證所：2891</td>\n",
              "      <td>中國信託金融控股</td>\n",
              "    </tr>\n",
              "    <tr>\n",
              "      <th>11</th>\n",
              "      <td>臺證所：2311</td>\n",
              "      <td>日月光</td>\n",
              "      <td>臺證所：2892</td>\n",
              "      <td>第一金融控股</td>\n",
              "    </tr>\n",
              "    <tr>\n",
              "      <th>12</th>\n",
              "      <td>臺證所：2317</td>\n",
              "      <td>鴻海精密</td>\n",
              "      <td>臺證所：2912</td>\n",
              "      <td>統一超商</td>\n",
              "    </tr>\n",
              "    <tr>\n",
              "      <th>13</th>\n",
              "      <td>臺證所：2324</td>\n",
              "      <td>仁寶電腦</td>\n",
              "      <td>臺證所：3008</td>\n",
              "      <td>大立光電</td>\n",
              "    </tr>\n",
              "    <tr>\n",
              "      <th>14</th>\n",
              "      <td>臺證所：2325</td>\n",
              "      <td>矽品精密</td>\n",
              "      <td>臺證所：3034</td>\n",
              "      <td>聯詠科技</td>\n",
              "    </tr>\n",
              "    <tr>\n",
              "      <th>15</th>\n",
              "      <td>臺證所：2330</td>\n",
              "      <td>台積電</td>\n",
              "      <td>臺證所：3045</td>\n",
              "      <td>台灣大哥大</td>\n",
              "    </tr>\n",
              "    <tr>\n",
              "      <th>16</th>\n",
              "      <td>臺證所：2357</td>\n",
              "      <td>華碩</td>\n",
              "      <td>臺證所：4904</td>\n",
              "      <td>遠傳電信</td>\n",
              "    </tr>\n",
              "    <tr>\n",
              "      <th>17</th>\n",
              "      <td>臺證所：2379</td>\n",
              "      <td>瑞昱</td>\n",
              "      <td>臺證所：4938</td>\n",
              "      <td>和碩聯合科技</td>\n",
              "    </tr>\n",
              "    <tr>\n",
              "      <th>18</th>\n",
              "      <td>臺證所：2382</td>\n",
              "      <td>廣達電腦</td>\n",
              "      <td>臺證所：5880</td>\n",
              "      <td>合作金庫金融控股</td>\n",
              "    </tr>\n",
              "    <tr>\n",
              "      <th>19</th>\n",
              "      <td>臺證所：2395</td>\n",
              "      <td>研華股份</td>\n",
              "      <td>臺證所：6415</td>\n",
              "      <td>矽力-KY</td>\n",
              "    </tr>\n",
              "    <tr>\n",
              "      <th>20</th>\n",
              "      <td>臺證所：2408</td>\n",
              "      <td>南亞科技</td>\n",
              "      <td>臺證所：6505</td>\n",
              "      <td>台塑石化</td>\n",
              "    </tr>\n",
              "    <tr>\n",
              "      <th>21</th>\n",
              "      <td>臺證所：2409</td>\n",
              "      <td>友達光電</td>\n",
              "      <td>臺證所：8046</td>\n",
              "      <td>南電</td>\n",
              "    </tr>\n",
              "    <tr>\n",
              "      <th>22</th>\n",
              "      <td>臺證所：2412</td>\n",
              "      <td>中華電信</td>\n",
              "      <td>臺證所：8454</td>\n",
              "      <td>富邦媒體科技</td>\n",
              "    </tr>\n",
              "    <tr>\n",
              "      <th>23</th>\n",
              "      <td>臺證所：2603</td>\n",
              "      <td>長榮</td>\n",
              "      <td>臺證所：9910</td>\n",
              "      <td>豐泰</td>\n",
              "    </tr>\n",
              "  </tbody>\n",
              "</table>\n",
              "</div>"
            ],
            "text/plain": [
              "        股票代號      名稱    股票代號.1      名稱.1\n",
              "0   臺證所：1101      亞泥  臺證所：2609        陽明\n",
              "1   臺證所：1216    統一企業  臺證所：2615        萬海\n",
              "2   臺證所：1301    台塑企業  臺證所：2801      彰化銀行\n",
              "3   臺證所：1303    南亞塑膠  臺證所：2880    華南金融控股\n",
              "4   臺證所：1326  台灣化學纖維  臺證所：2881    富邦金融控股\n",
              "5   臺證所：1402   遠東新世紀  臺證所：2882    國泰金融控股\n",
              "6   臺證所：1590  亞德客-KY  臺證所：2884    玉山金融控股\n",
              "7   臺證所：2002    中國鋼鐵  臺證所：2885    元大金融控股\n",
              "8   臺證所：2207    和泰汽車  臺證所：2886    兆豐金融控股\n",
              "9   臺證所：2303    聯華電子  臺證所：2887    台新金融控股\n",
              "10  臺證所：2308    台達電子  臺證所：2891  中國信託金融控股\n",
              "11  臺證所：2311     日月光  臺證所：2892    第一金融控股\n",
              "12  臺證所：2317    鴻海精密  臺證所：2912      統一超商\n",
              "13  臺證所：2324    仁寶電腦  臺證所：3008      大立光電\n",
              "14  臺證所：2325    矽品精密  臺證所：3034      聯詠科技\n",
              "15  臺證所：2330     台積電  臺證所：3045     台灣大哥大\n",
              "16  臺證所：2357      華碩  臺證所：4904      遠傳電信\n",
              "17  臺證所：2379      瑞昱  臺證所：4938    和碩聯合科技\n",
              "18  臺證所：2382    廣達電腦  臺證所：5880  合作金庫金融控股\n",
              "19  臺證所：2395    研華股份  臺證所：6415     矽力-KY\n",
              "20  臺證所：2408    南亞科技  臺證所：6505      台塑石化\n",
              "21  臺證所：2409    友達光電  臺證所：8046        南電\n",
              "22  臺證所：2412    中華電信  臺證所：8454    富邦媒體科技\n",
              "23  臺證所：2603      長榮  臺證所：9910        豐泰"
            ]
          },
          "metadata": {},
          "execution_count": 265
        }
      ]
    },
    {
      "cell_type": "code",
      "metadata": {
        "id": "6vSZSzveYXpc"
      },
      "source": [
        "df1=dfs[0][['股票代號','名稱']]"
      ],
      "execution_count": null,
      "outputs": []
    },
    {
      "cell_type": "code",
      "metadata": {
        "id": "-tuaZtYsYvs9"
      },
      "source": [
        "df2=dfs[0][['股票代號.1','名稱.1']]"
      ],
      "execution_count": null,
      "outputs": []
    },
    {
      "cell_type": "code",
      "metadata": {
        "id": "4T_GplKQY1vW"
      },
      "source": [
        "df2.columns=['股票代號','名稱']"
      ],
      "execution_count": null,
      "outputs": []
    },
    {
      "cell_type": "code",
      "metadata": {
        "id": "XFCuPGOWY7oq"
      },
      "source": [
        "df=pd.concat([df1,df2],ignore_index=True)"
      ],
      "execution_count": null,
      "outputs": []
    },
    {
      "cell_type": "code",
      "metadata": {
        "colab": {
          "base_uri": "https://localhost:8080/",
          "height": 1000
        },
        "id": "6nFjzrHsZTlK",
        "outputId": "1cb60556-e431-43eb-e166-9860f6d86cd2"
      },
      "source": [
        "df"
      ],
      "execution_count": null,
      "outputs": [
        {
          "output_type": "execute_result",
          "data": {
            "text/html": [
              "<div>\n",
              "<style scoped>\n",
              "    .dataframe tbody tr th:only-of-type {\n",
              "        vertical-align: middle;\n",
              "    }\n",
              "\n",
              "    .dataframe tbody tr th {\n",
              "        vertical-align: top;\n",
              "    }\n",
              "\n",
              "    .dataframe thead th {\n",
              "        text-align: right;\n",
              "    }\n",
              "</style>\n",
              "<table border=\"1\" class=\"dataframe\">\n",
              "  <thead>\n",
              "    <tr style=\"text-align: right;\">\n",
              "      <th></th>\n",
              "      <th>股票代號</th>\n",
              "      <th>名稱</th>\n",
              "    </tr>\n",
              "  </thead>\n",
              "  <tbody>\n",
              "    <tr>\n",
              "      <th>0</th>\n",
              "      <td>臺證所：1101</td>\n",
              "      <td>亞泥</td>\n",
              "    </tr>\n",
              "    <tr>\n",
              "      <th>1</th>\n",
              "      <td>臺證所：1216</td>\n",
              "      <td>統一企業</td>\n",
              "    </tr>\n",
              "    <tr>\n",
              "      <th>2</th>\n",
              "      <td>臺證所：1301</td>\n",
              "      <td>台塑企業</td>\n",
              "    </tr>\n",
              "    <tr>\n",
              "      <th>3</th>\n",
              "      <td>臺證所：1303</td>\n",
              "      <td>南亞塑膠</td>\n",
              "    </tr>\n",
              "    <tr>\n",
              "      <th>4</th>\n",
              "      <td>臺證所：1326</td>\n",
              "      <td>台灣化學纖維</td>\n",
              "    </tr>\n",
              "    <tr>\n",
              "      <th>5</th>\n",
              "      <td>臺證所：1402</td>\n",
              "      <td>遠東新世紀</td>\n",
              "    </tr>\n",
              "    <tr>\n",
              "      <th>6</th>\n",
              "      <td>臺證所：1590</td>\n",
              "      <td>亞德客-KY</td>\n",
              "    </tr>\n",
              "    <tr>\n",
              "      <th>7</th>\n",
              "      <td>臺證所：2002</td>\n",
              "      <td>中國鋼鐵</td>\n",
              "    </tr>\n",
              "    <tr>\n",
              "      <th>8</th>\n",
              "      <td>臺證所：2207</td>\n",
              "      <td>和泰汽車</td>\n",
              "    </tr>\n",
              "    <tr>\n",
              "      <th>9</th>\n",
              "      <td>臺證所：2303</td>\n",
              "      <td>聯華電子</td>\n",
              "    </tr>\n",
              "    <tr>\n",
              "      <th>10</th>\n",
              "      <td>臺證所：2308</td>\n",
              "      <td>台達電子</td>\n",
              "    </tr>\n",
              "    <tr>\n",
              "      <th>11</th>\n",
              "      <td>臺證所：2311</td>\n",
              "      <td>日月光</td>\n",
              "    </tr>\n",
              "    <tr>\n",
              "      <th>12</th>\n",
              "      <td>臺證所：2317</td>\n",
              "      <td>鴻海精密</td>\n",
              "    </tr>\n",
              "    <tr>\n",
              "      <th>13</th>\n",
              "      <td>臺證所：2324</td>\n",
              "      <td>仁寶電腦</td>\n",
              "    </tr>\n",
              "    <tr>\n",
              "      <th>14</th>\n",
              "      <td>臺證所：2325</td>\n",
              "      <td>矽品精密</td>\n",
              "    </tr>\n",
              "    <tr>\n",
              "      <th>15</th>\n",
              "      <td>臺證所：2330</td>\n",
              "      <td>台積電</td>\n",
              "    </tr>\n",
              "    <tr>\n",
              "      <th>16</th>\n",
              "      <td>臺證所：2357</td>\n",
              "      <td>華碩</td>\n",
              "    </tr>\n",
              "    <tr>\n",
              "      <th>17</th>\n",
              "      <td>臺證所：2379</td>\n",
              "      <td>瑞昱</td>\n",
              "    </tr>\n",
              "    <tr>\n",
              "      <th>18</th>\n",
              "      <td>臺證所：2382</td>\n",
              "      <td>廣達電腦</td>\n",
              "    </tr>\n",
              "    <tr>\n",
              "      <th>19</th>\n",
              "      <td>臺證所：2395</td>\n",
              "      <td>研華股份</td>\n",
              "    </tr>\n",
              "    <tr>\n",
              "      <th>20</th>\n",
              "      <td>臺證所：2408</td>\n",
              "      <td>南亞科技</td>\n",
              "    </tr>\n",
              "    <tr>\n",
              "      <th>21</th>\n",
              "      <td>臺證所：2409</td>\n",
              "      <td>友達光電</td>\n",
              "    </tr>\n",
              "    <tr>\n",
              "      <th>22</th>\n",
              "      <td>臺證所：2412</td>\n",
              "      <td>中華電信</td>\n",
              "    </tr>\n",
              "    <tr>\n",
              "      <th>23</th>\n",
              "      <td>臺證所：2603</td>\n",
              "      <td>長榮</td>\n",
              "    </tr>\n",
              "    <tr>\n",
              "      <th>24</th>\n",
              "      <td>臺證所：2609</td>\n",
              "      <td>陽明</td>\n",
              "    </tr>\n",
              "    <tr>\n",
              "      <th>25</th>\n",
              "      <td>臺證所：2615</td>\n",
              "      <td>萬海</td>\n",
              "    </tr>\n",
              "    <tr>\n",
              "      <th>26</th>\n",
              "      <td>臺證所：2801</td>\n",
              "      <td>彰化銀行</td>\n",
              "    </tr>\n",
              "    <tr>\n",
              "      <th>27</th>\n",
              "      <td>臺證所：2880</td>\n",
              "      <td>華南金融控股</td>\n",
              "    </tr>\n",
              "    <tr>\n",
              "      <th>28</th>\n",
              "      <td>臺證所：2881</td>\n",
              "      <td>富邦金融控股</td>\n",
              "    </tr>\n",
              "    <tr>\n",
              "      <th>29</th>\n",
              "      <td>臺證所：2882</td>\n",
              "      <td>國泰金融控股</td>\n",
              "    </tr>\n",
              "    <tr>\n",
              "      <th>30</th>\n",
              "      <td>臺證所：2884</td>\n",
              "      <td>玉山金融控股</td>\n",
              "    </tr>\n",
              "    <tr>\n",
              "      <th>31</th>\n",
              "      <td>臺證所：2885</td>\n",
              "      <td>元大金融控股</td>\n",
              "    </tr>\n",
              "    <tr>\n",
              "      <th>32</th>\n",
              "      <td>臺證所：2886</td>\n",
              "      <td>兆豐金融控股</td>\n",
              "    </tr>\n",
              "    <tr>\n",
              "      <th>33</th>\n",
              "      <td>臺證所：2887</td>\n",
              "      <td>台新金融控股</td>\n",
              "    </tr>\n",
              "    <tr>\n",
              "      <th>34</th>\n",
              "      <td>臺證所：2891</td>\n",
              "      <td>中國信託金融控股</td>\n",
              "    </tr>\n",
              "    <tr>\n",
              "      <th>35</th>\n",
              "      <td>臺證所：2892</td>\n",
              "      <td>第一金融控股</td>\n",
              "    </tr>\n",
              "    <tr>\n",
              "      <th>36</th>\n",
              "      <td>臺證所：2912</td>\n",
              "      <td>統一超商</td>\n",
              "    </tr>\n",
              "    <tr>\n",
              "      <th>37</th>\n",
              "      <td>臺證所：3008</td>\n",
              "      <td>大立光電</td>\n",
              "    </tr>\n",
              "    <tr>\n",
              "      <th>38</th>\n",
              "      <td>臺證所：3034</td>\n",
              "      <td>聯詠科技</td>\n",
              "    </tr>\n",
              "    <tr>\n",
              "      <th>39</th>\n",
              "      <td>臺證所：3045</td>\n",
              "      <td>台灣大哥大</td>\n",
              "    </tr>\n",
              "    <tr>\n",
              "      <th>40</th>\n",
              "      <td>臺證所：4904</td>\n",
              "      <td>遠傳電信</td>\n",
              "    </tr>\n",
              "    <tr>\n",
              "      <th>41</th>\n",
              "      <td>臺證所：4938</td>\n",
              "      <td>和碩聯合科技</td>\n",
              "    </tr>\n",
              "    <tr>\n",
              "      <th>42</th>\n",
              "      <td>臺證所：5880</td>\n",
              "      <td>合作金庫金融控股</td>\n",
              "    </tr>\n",
              "    <tr>\n",
              "      <th>43</th>\n",
              "      <td>臺證所：6415</td>\n",
              "      <td>矽力-KY</td>\n",
              "    </tr>\n",
              "    <tr>\n",
              "      <th>44</th>\n",
              "      <td>臺證所：6505</td>\n",
              "      <td>台塑石化</td>\n",
              "    </tr>\n",
              "    <tr>\n",
              "      <th>45</th>\n",
              "      <td>臺證所：8046</td>\n",
              "      <td>南電</td>\n",
              "    </tr>\n",
              "    <tr>\n",
              "      <th>46</th>\n",
              "      <td>臺證所：8454</td>\n",
              "      <td>富邦媒體科技</td>\n",
              "    </tr>\n",
              "    <tr>\n",
              "      <th>47</th>\n",
              "      <td>臺證所：9910</td>\n",
              "      <td>豐泰</td>\n",
              "    </tr>\n",
              "  </tbody>\n",
              "</table>\n",
              "</div>"
            ],
            "text/plain": [
              "        股票代號        名稱\n",
              "0   臺證所：1101        亞泥\n",
              "1   臺證所：1216      統一企業\n",
              "2   臺證所：1301      台塑企業\n",
              "3   臺證所：1303      南亞塑膠\n",
              "4   臺證所：1326    台灣化學纖維\n",
              "5   臺證所：1402     遠東新世紀\n",
              "6   臺證所：1590    亞德客-KY\n",
              "7   臺證所：2002      中國鋼鐵\n",
              "8   臺證所：2207      和泰汽車\n",
              "9   臺證所：2303      聯華電子\n",
              "10  臺證所：2308      台達電子\n",
              "11  臺證所：2311       日月光\n",
              "12  臺證所：2317      鴻海精密\n",
              "13  臺證所：2324      仁寶電腦\n",
              "14  臺證所：2325      矽品精密\n",
              "15  臺證所：2330       台積電\n",
              "16  臺證所：2357        華碩\n",
              "17  臺證所：2379        瑞昱\n",
              "18  臺證所：2382      廣達電腦\n",
              "19  臺證所：2395      研華股份\n",
              "20  臺證所：2408      南亞科技\n",
              "21  臺證所：2409      友達光電\n",
              "22  臺證所：2412      中華電信\n",
              "23  臺證所：2603        長榮\n",
              "24  臺證所：2609        陽明\n",
              "25  臺證所：2615        萬海\n",
              "26  臺證所：2801      彰化銀行\n",
              "27  臺證所：2880    華南金融控股\n",
              "28  臺證所：2881    富邦金融控股\n",
              "29  臺證所：2882    國泰金融控股\n",
              "30  臺證所：2884    玉山金融控股\n",
              "31  臺證所：2885    元大金融控股\n",
              "32  臺證所：2886    兆豐金融控股\n",
              "33  臺證所：2887    台新金融控股\n",
              "34  臺證所：2891  中國信託金融控股\n",
              "35  臺證所：2892    第一金融控股\n",
              "36  臺證所：2912      統一超商\n",
              "37  臺證所：3008      大立光電\n",
              "38  臺證所：3034      聯詠科技\n",
              "39  臺證所：3045     台灣大哥大\n",
              "40  臺證所：4904      遠傳電信\n",
              "41  臺證所：4938    和碩聯合科技\n",
              "42  臺證所：5880  合作金庫金融控股\n",
              "43  臺證所：6415     矽力-KY\n",
              "44  臺證所：6505      台塑石化\n",
              "45  臺證所：8046        南電\n",
              "46  臺證所：8454    富邦媒體科技\n",
              "47  臺證所：9910        豐泰"
            ]
          },
          "metadata": {},
          "execution_count": 93
        }
      ]
    },
    {
      "cell_type": "code",
      "metadata": {
        "id": "FLtRbXKrZVsV"
      },
      "source": [
        "df['股票代號']=df['股票代號'].apply(lambda x:x.split('：')[1])"
      ],
      "execution_count": null,
      "outputs": []
    },
    {
      "cell_type": "code",
      "metadata": {
        "colab": {
          "base_uri": "https://localhost:8080/",
          "height": 205
        },
        "id": "HUlDRhAjZuo1",
        "outputId": "9b5b5316-131a-4273-fd54-5a53db0c8a2e"
      },
      "source": [
        "df.head()"
      ],
      "execution_count": null,
      "outputs": [
        {
          "output_type": "execute_result",
          "data": {
            "text/html": [
              "<div>\n",
              "<style scoped>\n",
              "    .dataframe tbody tr th:only-of-type {\n",
              "        vertical-align: middle;\n",
              "    }\n",
              "\n",
              "    .dataframe tbody tr th {\n",
              "        vertical-align: top;\n",
              "    }\n",
              "\n",
              "    .dataframe thead th {\n",
              "        text-align: right;\n",
              "    }\n",
              "</style>\n",
              "<table border=\"1\" class=\"dataframe\">\n",
              "  <thead>\n",
              "    <tr style=\"text-align: right;\">\n",
              "      <th></th>\n",
              "      <th>股票代號</th>\n",
              "      <th>名稱</th>\n",
              "    </tr>\n",
              "  </thead>\n",
              "  <tbody>\n",
              "    <tr>\n",
              "      <th>0</th>\n",
              "      <td>1101</td>\n",
              "      <td>亞泥</td>\n",
              "    </tr>\n",
              "    <tr>\n",
              "      <th>1</th>\n",
              "      <td>1216</td>\n",
              "      <td>統一企業</td>\n",
              "    </tr>\n",
              "    <tr>\n",
              "      <th>2</th>\n",
              "      <td>1301</td>\n",
              "      <td>台塑企業</td>\n",
              "    </tr>\n",
              "    <tr>\n",
              "      <th>3</th>\n",
              "      <td>1303</td>\n",
              "      <td>南亞塑膠</td>\n",
              "    </tr>\n",
              "    <tr>\n",
              "      <th>4</th>\n",
              "      <td>1326</td>\n",
              "      <td>台灣化學纖維</td>\n",
              "    </tr>\n",
              "  </tbody>\n",
              "</table>\n",
              "</div>"
            ],
            "text/plain": [
              "   股票代號      名稱\n",
              "0  1101      亞泥\n",
              "1  1216    統一企業\n",
              "2  1301    台塑企業\n",
              "3  1303    南亞塑膠\n",
              "4  1326  台灣化學纖維"
            ]
          },
          "metadata": {},
          "execution_count": 271
        }
      ]
    },
    {
      "cell_type": "code",
      "metadata": {
        "colab": {
          "base_uri": "https://localhost:8080/",
          "height": 35
        },
        "id": "KnG5JXymaG1r",
        "outputId": "b1bcecf3-4a20-42b1-cded-50d79e8e6bbe"
      },
      "source": [
        "df['股票代號'][0]"
      ],
      "execution_count": null,
      "outputs": [
        {
          "output_type": "execute_result",
          "data": {
            "application/vnd.google.colaboratory.intrinsic+json": {
              "type": "string"
            },
            "text/plain": [
              "'1101'"
            ]
          },
          "metadata": {},
          "execution_count": 272
        }
      ]
    },
    {
      "cell_type": "code",
      "metadata": {
        "colab": {
          "base_uri": "https://localhost:8080/"
        },
        "id": "z3CnX8BZaKek",
        "outputId": "64b34800-54fe-4736-c851-5b315e5c0724"
      },
      "source": [
        "data={}\n",
        "for stock_no in df['股票代號']:\n",
        "  try:\n",
        "    data[stock_no]=df_ratio(stock_no)\n",
        "  except Exception as e:\n",
        "    print(stock_no,\"==>\",e.args)"
      ],
      "execution_count": null,
      "outputs": [
        {
          "output_type": "stream",
          "name": "stdout",
          "text": [
            "2311 ==> (\"['期別'] not found in axis\",)\n",
            "2325 ==> (\"['期別'] not found in axis\",)\n"
          ]
        }
      ]
    },
    {
      "cell_type": "markdown",
      "metadata": {
        "id": "pjPkGOHGLQ7q"
      },
      "source": [
        "###資料序列化，把抓到的資料存起來\n"
      ]
    },
    {
      "cell_type": "code",
      "metadata": {
        "id": "hEfUu--XLatB"
      },
      "source": [
        "import pickle"
      ],
      "execution_count": null,
      "outputs": []
    },
    {
      "cell_type": "code",
      "metadata": {
        "id": "1sgvZeGTLdtk"
      },
      "source": [
        "with open(\"財務比率.pkl\",\"wb\") as f:\n",
        "  pickle.dump(data,f)"
      ],
      "execution_count": null,
      "outputs": []
    },
    {
      "cell_type": "code",
      "metadata": {
        "id": "JiagD-OPLxM8"
      },
      "source": [
        "with open(\"財務比率.pkl\",\"rb\") as f:\n",
        "  data1=pickle.load(f)"
      ],
      "execution_count": null,
      "outputs": []
    },
    {
      "cell_type": "code",
      "metadata": {
        "colab": {
          "base_uri": "https://localhost:8080/",
          "height": 236
        },
        "id": "RAb3eziDM5Hk",
        "outputId": "65e8da55-9bf6-4196-fff9-31e129a8d539"
      },
      "source": [
        "data1['2330'].head()"
      ],
      "execution_count": null,
      "outputs": [
        {
          "output_type": "execute_result",
          "data": {
            "text/html": [
              "<div>\n",
              "<style scoped>\n",
              "    .dataframe tbody tr th:only-of-type {\n",
              "        vertical-align: middle;\n",
              "    }\n",
              "\n",
              "    .dataframe tbody tr th {\n",
              "        vertical-align: top;\n",
              "    }\n",
              "\n",
              "    .dataframe thead th {\n",
              "        text-align: right;\n",
              "    }\n",
              "</style>\n",
              "<table border=\"1\" class=\"dataframe\">\n",
              "  <thead>\n",
              "    <tr style=\"text-align: right;\">\n",
              "      <th>期別</th>\n",
              "      <th>2020</th>\n",
              "      <th>2019</th>\n",
              "      <th>2018</th>\n",
              "      <th>2017</th>\n",
              "      <th>2016</th>\n",
              "      <th>2015</th>\n",
              "      <th>2014</th>\n",
              "      <th>2013</th>\n",
              "    </tr>\n",
              "    <tr>\n",
              "      <th>財務比率</th>\n",
              "      <th></th>\n",
              "      <th></th>\n",
              "      <th></th>\n",
              "      <th></th>\n",
              "      <th></th>\n",
              "      <th></th>\n",
              "      <th></th>\n",
              "      <th></th>\n",
              "    </tr>\n",
              "  </thead>\n",
              "  <tbody>\n",
              "    <tr>\n",
              "      <th>ROA(C)稅前息前折舊前</th>\n",
              "      <td>36.17</td>\n",
              "      <td>31.31</td>\n",
              "      <td>34.12</td>\n",
              "      <td>33.89</td>\n",
              "      <td>34.60</td>\n",
              "      <td>35.14</td>\n",
              "      <td>36.67</td>\n",
              "      <td>33.57</td>\n",
              "    </tr>\n",
              "    <tr>\n",
              "      <th>ROA(A)稅後息前</th>\n",
              "      <td>20.69</td>\n",
              "      <td>15.98</td>\n",
              "      <td>17.33</td>\n",
              "      <td>17.84</td>\n",
              "      <td>19.02</td>\n",
              "      <td>19.62</td>\n",
              "      <td>19.32</td>\n",
              "      <td>17.10</td>\n",
              "    </tr>\n",
              "    <tr>\n",
              "      <th>ROA(B)稅後息前折舊前</th>\n",
              "      <td>30.86</td>\n",
              "      <td>26.60</td>\n",
              "      <td>28.95</td>\n",
              "      <td>28.85</td>\n",
              "      <td>29.50</td>\n",
              "      <td>29.93</td>\n",
              "      <td>31.39</td>\n",
              "      <td>28.68</td>\n",
              "    </tr>\n",
              "    <tr>\n",
              "      <th>ROE(A)─稅後</th>\n",
              "      <td>29.84</td>\n",
              "      <td>20.93</td>\n",
              "      <td>21.95</td>\n",
              "      <td>23.56</td>\n",
              "      <td>25.59</td>\n",
              "      <td>27.02</td>\n",
              "      <td>27.85</td>\n",
              "      <td>23.94</td>\n",
              "    </tr>\n",
              "    <tr>\n",
              "      <th>ROE(B)─常續利益</th>\n",
              "      <td>29.28</td>\n",
              "      <td>21.04</td>\n",
              "      <td>22.15</td>\n",
              "      <td>23.39</td>\n",
              "      <td>25.59</td>\n",
              "      <td>25.07</td>\n",
              "      <td>27.87</td>\n",
              "      <td>23.82</td>\n",
              "    </tr>\n",
              "  </tbody>\n",
              "</table>\n",
              "</div>"
            ],
            "text/plain": [
              "期別              2020   2019   2018   2017   2016   2015   2014   2013\n",
              "財務比率                                                                 \n",
              "ROA(C)稅前息前折舊前  36.17  31.31  34.12  33.89  34.60  35.14  36.67  33.57\n",
              "ROA(A)稅後息前     20.69  15.98  17.33  17.84  19.02  19.62  19.32  17.10\n",
              "ROA(B)稅後息前折舊前  30.86  26.60  28.95  28.85  29.50  29.93  31.39  28.68\n",
              "ROE(A)─稅後      29.84  20.93  21.95  23.56  25.59  27.02  27.85  23.94\n",
              "ROE(B)─常續利益    29.28  21.04  22.15  23.39  25.59  25.07  27.87  23.82"
            ]
          },
          "metadata": {},
          "execution_count": 283
        }
      ]
    },
    {
      "cell_type": "code",
      "metadata": {
        "colab": {
          "base_uri": "https://localhost:8080/"
        },
        "id": "mkKz4IMQLHXm",
        "outputId": "8a585a7c-a289-4db6-f76d-9176724516fa"
      },
      "source": [
        "data.keys()"
      ],
      "execution_count": null,
      "outputs": [
        {
          "output_type": "execute_result",
          "data": {
            "text/plain": [
              "dict_keys(['1101', '1216', '1301', '1303', '1326', '1402', '1590', '2002', '2207', '2303', '2308', '2317', '2324', '2330', '2357', '2379', '2382', '2395', '2408', '2409', '2412', '2603', '2609', '2615', '2801', '2880', '2881', '2882', '2884', '2885', '2886', '2887', '2891', '2892', '2912', '3008', '3034', '3045', '4904', '4938', '5880', '6415', '6505', '8046', '8454', '9910'])"
            ]
          },
          "metadata": {},
          "execution_count": 274
        }
      ]
    },
    {
      "cell_type": "code",
      "metadata": {
        "colab": {
          "base_uri": "https://localhost:8080/",
          "height": 236
        },
        "id": "Kvf01Ti5caan",
        "outputId": "dfdc18d9-6e9c-4a14-aaf5-3b36127a8d1d"
      },
      "source": [
        "data['2002'].head()"
      ],
      "execution_count": null,
      "outputs": [
        {
          "output_type": "execute_result",
          "data": {
            "text/html": [
              "<div>\n",
              "<style scoped>\n",
              "    .dataframe tbody tr th:only-of-type {\n",
              "        vertical-align: middle;\n",
              "    }\n",
              "\n",
              "    .dataframe tbody tr th {\n",
              "        vertical-align: top;\n",
              "    }\n",
              "\n",
              "    .dataframe thead th {\n",
              "        text-align: right;\n",
              "    }\n",
              "</style>\n",
              "<table border=\"1\" class=\"dataframe\">\n",
              "  <thead>\n",
              "    <tr style=\"text-align: right;\">\n",
              "      <th>期別</th>\n",
              "      <th>2020</th>\n",
              "      <th>2019</th>\n",
              "      <th>2018</th>\n",
              "      <th>2017</th>\n",
              "      <th>2016</th>\n",
              "      <th>2015</th>\n",
              "      <th>2014</th>\n",
              "      <th>2013</th>\n",
              "    </tr>\n",
              "    <tr>\n",
              "      <th>財務比率</th>\n",
              "      <th></th>\n",
              "      <th></th>\n",
              "      <th></th>\n",
              "      <th></th>\n",
              "      <th></th>\n",
              "      <th></th>\n",
              "      <th></th>\n",
              "      <th></th>\n",
              "    </tr>\n",
              "  </thead>\n",
              "  <tbody>\n",
              "    <tr>\n",
              "      <th>ROA(C)稅前息前折舊前</th>\n",
              "      <td>5.87</td>\n",
              "      <td>7.56</td>\n",
              "      <td>10.42</td>\n",
              "      <td>9.15</td>\n",
              "      <td>9.14</td>\n",
              "      <td>6.72</td>\n",
              "      <td>10.07</td>\n",
              "      <td>8.84</td>\n",
              "    </tr>\n",
              "    <tr>\n",
              "      <th>ROA(A)稅後息前</th>\n",
              "      <td>0.65</td>\n",
              "      <td>1.92</td>\n",
              "      <td>4.55</td>\n",
              "      <td>3.50</td>\n",
              "      <td>3.30</td>\n",
              "      <td>1.58</td>\n",
              "      <td>4.00</td>\n",
              "      <td>3.19</td>\n",
              "    </tr>\n",
              "    <tr>\n",
              "      <th>ROA(B)稅後息前折舊前</th>\n",
              "      <td>4.69</td>\n",
              "      <td>6.04</td>\n",
              "      <td>8.69</td>\n",
              "      <td>7.73</td>\n",
              "      <td>7.74</td>\n",
              "      <td>5.46</td>\n",
              "      <td>8.44</td>\n",
              "      <td>7.19</td>\n",
              "    </tr>\n",
              "    <tr>\n",
              "      <th>ROE(A)─稅後</th>\n",
              "      <td>0.69</td>\n",
              "      <td>3.06</td>\n",
              "      <td>8.27</td>\n",
              "      <td>6.18</td>\n",
              "      <td>5.90</td>\n",
              "      <td>2.33</td>\n",
              "      <td>7.39</td>\n",
              "      <td>5.90</td>\n",
              "    </tr>\n",
              "    <tr>\n",
              "      <th>ROE(B)─常續利益</th>\n",
              "      <td>0.53</td>\n",
              "      <td>2.86</td>\n",
              "      <td>8.34</td>\n",
              "      <td>6.01</td>\n",
              "      <td>5.94</td>\n",
              "      <td>1.41</td>\n",
              "      <td>7.59</td>\n",
              "      <td>5.85</td>\n",
              "    </tr>\n",
              "  </tbody>\n",
              "</table>\n",
              "</div>"
            ],
            "text/plain": [
              "期別             2020  2019   2018  2017  2016  2015   2014  2013\n",
              "財務比率                                                           \n",
              "ROA(C)稅前息前折舊前  5.87  7.56  10.42  9.15  9.14  6.72  10.07  8.84\n",
              "ROA(A)稅後息前     0.65  1.92   4.55  3.50  3.30  1.58   4.00  3.19\n",
              "ROA(B)稅後息前折舊前  4.69  6.04   8.69  7.73  7.74  5.46   8.44  7.19\n",
              "ROE(A)─稅後      0.69  3.06   8.27  6.18  5.90  2.33   7.39  5.90\n",
              "ROE(B)─常續利益    0.53  2.86   8.34  6.01  5.94  1.41   7.59  5.85"
            ]
          },
          "metadata": {},
          "execution_count": 105
        }
      ]
    },
    {
      "cell_type": "code",
      "metadata": {
        "colab": {
          "base_uri": "https://localhost:8080/"
        },
        "id": "nOzoV1WQdCwJ",
        "outputId": "78b96fb2-6605-401b-d73b-071a63fca79b"
      },
      "source": [
        "print('近五年內ROE>15%次數\\n')\n",
        "for stock_no in data:\n",
        "  try:\n",
        "    print(stock_no,\"==>\",CROE(data[stock_no]),'次','==>',df[df['股票代號']==stock_no].iloc[0]['名稱'])\n",
        "  except Exception as e:\n",
        "    print(stock_no,\"==>\",e.args)\n",
        "    "
      ],
      "execution_count": null,
      "outputs": [
        {
          "output_type": "stream",
          "name": "stdout",
          "text": [
            "近五年內ROE>15%次數\n",
            "\n",
            "1101 ==> 0 次 ==> 亞泥\n",
            "1216 ==> 2 次 ==> 統一企業\n",
            "1301 ==> 1 次 ==> 台塑企業\n",
            "1303 ==> 1 次 ==> 南亞塑膠\n",
            "1326 ==> 0 次 ==> 台灣化學纖維\n",
            "1402 ==> 0 次 ==> 遠東新世紀\n",
            "1590 ==> 4 次 ==> 亞德客-KY\n",
            "2002 ==> 0 次 ==> 中國鋼鐵\n",
            "2207 ==> 5 次 ==> 和泰汽車\n",
            "2303 ==> 0 次 ==> 聯華電子\n",
            "2308 ==> 1 次 ==> 台達電子\n",
            "2317 ==> 0 次 ==> 鴻海精密\n",
            "2324 ==> 0 次 ==> 仁寶電腦\n",
            "2330 ==> 5 次 ==> 台積電\n",
            "2357 ==> 0 次 ==> 華碩\n",
            "2379 ==> 4 次 ==> 瑞昱\n",
            "2382 ==> 1 次 ==> 廣達電腦\n",
            "2395 ==> 5 次 ==> 研華股份\n",
            "2408 ==> 2 次 ==> 南亞科技\n",
            "2409 ==> 0 次 ==> 友達光電\n",
            "2412 ==> 0 次 ==> 中華電信\n",
            "2603 ==> 1 次 ==> 長榮\n",
            "2609 ==> 1 次 ==> 陽明\n",
            "2615 ==> 1 次 ==> 萬海\n",
            "2801 ==> 0 次 ==> 彰化銀行\n",
            "2880 ==> 0 次 ==> 華南金融控股\n",
            "2881 ==> 0 次 ==> 富邦金融控股\n",
            "2882 ==> 0 次 ==> 國泰金融控股\n",
            "2884 ==> 0 次 ==> 玉山金融控股\n",
            "2885 ==> 0 次 ==> 元大金融控股\n",
            "2886 ==> 0 次 ==> 兆豐金融控股\n",
            "2887 ==> 0 次 ==> 台新金融控股\n",
            "2891 ==> 0 次 ==> 中國信託金融控股\n",
            "2892 ==> 0 次 ==> 第一金融控股\n",
            "2912 ==> 4 次 ==> 統一超商\n",
            "3008 ==> 5 次 ==> 大立光電\n",
            "3034 ==> 5 次 ==> 聯詠科技\n",
            "3045 ==> 5 次 ==> 台灣大哥大\n",
            "4904 ==> 2 次 ==> 遠傳電信\n",
            "4938 ==> 0 次 ==> 和碩聯合科技\n",
            "5880 ==> 0 次 ==> 合作金庫金融控股\n",
            "6415 ==> 5 次 ==> 矽力-KY\n",
            "6505 ==> 3 次 ==> 台塑石化\n",
            "8046 ==> 0 次 ==> 南電\n",
            "8454 ==> 5 次 ==> 富邦媒體科技\n",
            "9910 ==> 5 次 ==> 豐泰\n"
          ]
        }
      ]
    },
    {
      "cell_type": "code",
      "metadata": {
        "colab": {
          "base_uri": "https://localhost:8080/"
        },
        "id": "9YO3OvznlWFK",
        "outputId": "d459bea5-5e92-488a-dd3c-13d08a1bd86e"
      },
      "source": [
        "print(\"近五年ROE>15%大於四次\")\n",
        "roe_list=[]\n",
        "for stock_no in data:\n",
        "  try:\n",
        "    n = CROE(data[stock_no])\n",
        "    if n >= 4:\n",
        "      roe_list.append(stock_no)\n",
        "  except Exception as e:\n",
        "    print(stock_no, \"==>\", e.args)\n",
        "roe_list"
      ],
      "execution_count": null,
      "outputs": [
        {
          "output_type": "stream",
          "name": "stdout",
          "text": [
            "近五年ROE>15%大於四次\n"
          ]
        },
        {
          "output_type": "execute_result",
          "data": {
            "text/plain": [
              "['1590',\n",
              " '2207',\n",
              " '2330',\n",
              " '2379',\n",
              " '2395',\n",
              " '2912',\n",
              " '3008',\n",
              " '3034',\n",
              " '3045',\n",
              " '6415',\n",
              " '8454',\n",
              " '9910']"
            ]
          },
          "metadata": {},
          "execution_count": 141
        }
      ]
    },
    {
      "cell_type": "code",
      "metadata": {
        "id": "7D_sJhODl4FA"
      },
      "source": [
        "# 近五年每股盈餘>1\n",
        "def CEPS(df,n=5,value=1):\n",
        "  if '每股盈餘' in df.index:\n",
        "    return (df.loc['每股盈餘']>value)[:n].sum()\n",
        "  else:\n",
        "    return 0"
      ],
      "execution_count": null,
      "outputs": []
    },
    {
      "cell_type": "code",
      "metadata": {
        "colab": {
          "base_uri": "https://localhost:8080/"
        },
        "id": "U2tQFmcHmsv-",
        "outputId": "5d7278d8-fbf0-4635-c624-0766b171d39c"
      },
      "source": [
        "print('近五年每股盈餘(EPS)>1元\\n')\n",
        "eps_list=[]\n",
        "for stock_no in data:\n",
        "  try:\n",
        "    n = CEPS(data[stock_no])\n",
        "    if n >= 1:\n",
        "      eps_list.append(stock_no)\n",
        "  except Exception as e:\n",
        "    print(stock_no, \"==>\", e.args)\n",
        "eps_list"
      ],
      "execution_count": null,
      "outputs": [
        {
          "output_type": "stream",
          "name": "stdout",
          "text": [
            "近五年每股盈餘(EPS)>1元\n",
            "\n"
          ]
        },
        {
          "output_type": "execute_result",
          "data": {
            "text/plain": [
              "['1101',\n",
              " '1216',\n",
              " '1301',\n",
              " '1303',\n",
              " '1326',\n",
              " '1402',\n",
              " '1590',\n",
              " '2002',\n",
              " '2207',\n",
              " '2303',\n",
              " '2308',\n",
              " '2317',\n",
              " '2324',\n",
              " '2330',\n",
              " '2357',\n",
              " '2379',\n",
              " '2382',\n",
              " '2395',\n",
              " '2408',\n",
              " '2409',\n",
              " '2412',\n",
              " '2603',\n",
              " '2609',\n",
              " '2615',\n",
              " '2801',\n",
              " '2881',\n",
              " '2882',\n",
              " '2884',\n",
              " '2885',\n",
              " '2886',\n",
              " '2891',\n",
              " '2892',\n",
              " '2912',\n",
              " '3008',\n",
              " '3034',\n",
              " '3045',\n",
              " '4904',\n",
              " '4938',\n",
              " '5880',\n",
              " '6415',\n",
              " '6505',\n",
              " '8046',\n",
              " '8454',\n",
              " '9910']"
            ]
          },
          "metadata": {},
          "execution_count": 143
        }
      ]
    },
    {
      "cell_type": "code",
      "metadata": {
        "colab": {
          "base_uri": "https://localhost:8080/"
        },
        "id": "Ye-jNyL3nIly",
        "outputId": "e7bce407-befc-4bcf-fb53-7bf13995a452"
      },
      "source": [
        "print('近五年EPS>1元 & 近五年ROE>15%大於四次\\n')\n",
        "for stock_no in set(roe_list)&set(eps_list):\n",
        "  print(stock_no,df[df['股票代號']==stock_no].iloc[0]['名稱'])\n"
      ],
      "execution_count": null,
      "outputs": [
        {
          "output_type": "stream",
          "name": "stdout",
          "text": [
            "近五年EPS>1元 & 近五年ROE>15%大於四次\n",
            "\n",
            "3008 大立光電\n",
            "2207 和泰汽車\n",
            "3045 台灣大哥大\n",
            "2912 統一超商\n",
            "6415 矽力-KY\n",
            "1590 亞德客-KY\n",
            "2330 台積電\n",
            "9910 豐泰\n",
            "2379 瑞昱\n",
            "2395 研華股份\n",
            "3034 聯詠科技\n",
            "8454 富邦媒體科技\n"
          ]
        }
      ]
    },
    {
      "cell_type": "markdown",
      "metadata": {
        "id": "YSlDKxvRqiwy"
      },
      "source": [
        "## 抓取三大法人資料\n",
        "\n",
        "https://www.taifex.com.tw/cht/3/totalTableDateView"
      ]
    },
    {
      "cell_type": "code",
      "metadata": {
        "id": "CdUpIPk8qraN"
      },
      "source": [
        "import requests\n",
        "import pandas as pd\n",
        "url=\"https://www.taifex.com.tw/cht/3/totalTableDateDown\""
      ],
      "execution_count": null,
      "outputs": []
    },
    {
      "cell_type": "code",
      "metadata": {
        "id": "F3dlunSSq086"
      },
      "source": [
        "data={\n",
        "    \"firstDate\":\"2018/10/15 00:00\",\n",
        "    \"lastDate\":\"2021/10/15 00:00\",\n",
        "    \"queryStartDate\":\"2021/10/15\",\n",
        "    \"queryEndDate\":\"2021/10/15\",\n",
        "}"
      ],
      "execution_count": null,
      "outputs": []
    },
    {
      "cell_type": "code",
      "metadata": {
        "id": "rgCtvQnZqi5B"
      },
      "source": [
        "r= requests.post(url,data=data)"
      ],
      "execution_count": null,
      "outputs": []
    },
    {
      "cell_type": "code",
      "metadata": {
        "colab": {
          "base_uri": "https://localhost:8080/",
          "height": 72
        },
        "id": "3jpKd5tQrV7M",
        "outputId": "f393ce11-179b-4e3a-97fb-1f036c98f4c5"
      },
      "source": [
        "r.text"
      ],
      "execution_count": null,
      "outputs": [
        {
          "output_type": "execute_result",
          "data": {
            "application/vnd.google.colaboratory.intrinsic+json": {
              "type": "string"
            },
            "text/plain": [
              "'日期,身份別,多方交易口數,多方交易契約金額(百萬元),空方交易口數,空方交易契約金額(百萬元),多空交易口數淨額,多空交易契約金額淨額(百萬元),多方未平倉口數,多方未平倉契約金額(百萬元),空方未平倉口數,空方未平倉契約金額(百萬元),多空未平倉口數淨額,多空未平倉契約金額淨額(百萬元)\\r\\n2021/10/15,自營商,263735,59083,247235,53703,16500,5380,0,0,0,0,0,0\\r\\n2021/10/15,投信,3766,8083,2269,3062,1497,5021,0,0,0,0,0,0\\r\\n2021/10/15,外資及陸資,459882,344529,453172,346944,6710,-2415,0,0,0,0,0,0\\r\\n'"
            ]
          },
          "metadata": {},
          "execution_count": 157
        }
      ]
    },
    {
      "cell_type": "code",
      "metadata": {
        "colab": {
          "base_uri": "https://localhost:8080/",
          "height": 229
        },
        "id": "n2nMq_OusVax",
        "outputId": "c9d58672-3b89-466c-f25b-caedace78bfb"
      },
      "source": [
        "from io import StringIO\n",
        "df=pd.read_csv(StringIO(r.text))\n",
        "df"
      ],
      "execution_count": null,
      "outputs": [
        {
          "output_type": "execute_result",
          "data": {
            "text/html": [
              "<div>\n",
              "<style scoped>\n",
              "    .dataframe tbody tr th:only-of-type {\n",
              "        vertical-align: middle;\n",
              "    }\n",
              "\n",
              "    .dataframe tbody tr th {\n",
              "        vertical-align: top;\n",
              "    }\n",
              "\n",
              "    .dataframe thead th {\n",
              "        text-align: right;\n",
              "    }\n",
              "</style>\n",
              "<table border=\"1\" class=\"dataframe\">\n",
              "  <thead>\n",
              "    <tr style=\"text-align: right;\">\n",
              "      <th></th>\n",
              "      <th>日期</th>\n",
              "      <th>身份別</th>\n",
              "      <th>多方交易口數</th>\n",
              "      <th>多方交易契約金額(百萬元)</th>\n",
              "      <th>空方交易口數</th>\n",
              "      <th>空方交易契約金額(百萬元)</th>\n",
              "      <th>多空交易口數淨額</th>\n",
              "      <th>多空交易契約金額淨額(百萬元)</th>\n",
              "      <th>多方未平倉口數</th>\n",
              "      <th>多方未平倉契約金額(百萬元)</th>\n",
              "      <th>空方未平倉口數</th>\n",
              "      <th>空方未平倉契約金額(百萬元)</th>\n",
              "      <th>多空未平倉口數淨額</th>\n",
              "      <th>多空未平倉契約金額淨額(百萬元)</th>\n",
              "    </tr>\n",
              "  </thead>\n",
              "  <tbody>\n",
              "    <tr>\n",
              "      <th>0</th>\n",
              "      <td>2021/10/15</td>\n",
              "      <td>自營商</td>\n",
              "      <td>263735</td>\n",
              "      <td>59083</td>\n",
              "      <td>247235</td>\n",
              "      <td>53703</td>\n",
              "      <td>16500</td>\n",
              "      <td>5380</td>\n",
              "      <td>0</td>\n",
              "      <td>0</td>\n",
              "      <td>0</td>\n",
              "      <td>0</td>\n",
              "      <td>0</td>\n",
              "      <td>0</td>\n",
              "    </tr>\n",
              "    <tr>\n",
              "      <th>1</th>\n",
              "      <td>2021/10/15</td>\n",
              "      <td>投信</td>\n",
              "      <td>3766</td>\n",
              "      <td>8083</td>\n",
              "      <td>2269</td>\n",
              "      <td>3062</td>\n",
              "      <td>1497</td>\n",
              "      <td>5021</td>\n",
              "      <td>0</td>\n",
              "      <td>0</td>\n",
              "      <td>0</td>\n",
              "      <td>0</td>\n",
              "      <td>0</td>\n",
              "      <td>0</td>\n",
              "    </tr>\n",
              "    <tr>\n",
              "      <th>2</th>\n",
              "      <td>2021/10/15</td>\n",
              "      <td>外資及陸資</td>\n",
              "      <td>459882</td>\n",
              "      <td>344529</td>\n",
              "      <td>453172</td>\n",
              "      <td>346944</td>\n",
              "      <td>6710</td>\n",
              "      <td>-2415</td>\n",
              "      <td>0</td>\n",
              "      <td>0</td>\n",
              "      <td>0</td>\n",
              "      <td>0</td>\n",
              "      <td>0</td>\n",
              "      <td>0</td>\n",
              "    </tr>\n",
              "  </tbody>\n",
              "</table>\n",
              "</div>"
            ],
            "text/plain": [
              "           日期    身份別  多方交易口數  ...  空方未平倉契約金額(百萬元)  多空未平倉口數淨額  多空未平倉契約金額淨額(百萬元)\n",
              "0  2021/10/15    自營商  263735  ...               0          0                 0\n",
              "1  2021/10/15     投信    3766  ...               0          0                 0\n",
              "2  2021/10/15  外資及陸資  459882  ...               0          0                 0\n",
              "\n",
              "[3 rows x 14 columns]"
            ]
          },
          "metadata": {},
          "execution_count": 168
        }
      ]
    },
    {
      "cell_type": "markdown",
      "metadata": {
        "id": "nn2LZgL1tX0J"
      },
      "source": [
        "### 抓取高雄市公車路線資料\n",
        "\n",
        "https://ibus.tbkc.gov.tw/ibus/driving-map\n"
      ]
    },
    {
      "cell_type": "code",
      "metadata": {
        "id": "kVMmcdYvtprG"
      },
      "source": [
        "from bs4 import BeautifulSoup\n",
        "url=\"https://ibus.tbkc.gov.tw/ibus/graphql\"\n"
      ],
      "execution_count": null,
      "outputs": []
    },
    {
      "cell_type": "code",
      "metadata": {
        "id": "U0KJtgjvx_0r"
      },
      "source": [
        "data={\"operationName\":\"QUERY_SIDE_ROUTES\",\n",
        "      \"variables\":{\"lang\":\"zh\"},\n",
        "      \"query\":\"query QUERY_SIDE_ROUTES($lang: String!) {\\n  routeBranchs(lang: $lang) {\\n    edges {\\n      node {\\n        id\\n        name\\n        master\\n        branchs\\n        __typename\\n      }\\n      __typename\\n    }\\n    __typename\\n  }\\n  routes(lang: $lang) {\\n    edges {\\n      node {\\n        id\\n        opType\\n        gxCode\\n        seq\\n        name\\n        description\\n        __typename\\n      }\\n      __typename\\n    }\\n    __typename\\n  }\\n}\\n\"}"
      ],
      "execution_count": null,
      "outputs": []
    },
    {
      "cell_type": "code",
      "metadata": {
        "id": "BBsMmmjdtsY6"
      },
      "source": [
        "r=requests.post(url,json=data)"
      ],
      "execution_count": null,
      "outputs": []
    },
    {
      "cell_type": "code",
      "metadata": {
        "id": "Cu5HgFLpuG3r"
      },
      "source": [
        "r.text"
      ],
      "execution_count": null,
      "outputs": []
    },
    {
      "cell_type": "code",
      "metadata": {
        "colab": {
          "base_uri": "https://localhost:8080/"
        },
        "id": "hJNi4FE9vwPL",
        "outputId": "0a79c72b-b91c-43e5-a388-d68dc62b6fdc"
      },
      "source": [
        "\"0北\" in r.text"
      ],
      "execution_count": null,
      "outputs": [
        {
          "output_type": "execute_result",
          "data": {
            "text/plain": [
              "True"
            ]
          },
          "metadata": {},
          "execution_count": 220
        }
      ]
    },
    {
      "cell_type": "code",
      "metadata": {
        "id": "LPelTIZKyrsB"
      },
      "source": [
        "result=r.json()['data']['routes']['edges']"
      ],
      "execution_count": null,
      "outputs": []
    },
    {
      "cell_type": "code",
      "metadata": {
        "id": "kJvvOO-83myK"
      },
      "source": [
        "routes=[]\n",
        "for i in result:\n",
        " routes.append(i['node']['name'])"
      ],
      "execution_count": null,
      "outputs": []
    },
    {
      "cell_type": "code",
      "metadata": {
        "colab": {
          "base_uri": "https://localhost:8080/"
        },
        "id": "JHhHePpK38rk",
        "outputId": "b7e56640-5821-4e12-9059-f8b92f6a6114"
      },
      "source": [
        "len(routes)"
      ],
      "execution_count": null,
      "outputs": [
        {
          "output_type": "execute_result",
          "data": {
            "text/plain": [
              "358"
            ]
          },
          "metadata": {},
          "execution_count": 229
        }
      ]
    },
    {
      "cell_type": "code",
      "metadata": {
        "colab": {
          "base_uri": "https://localhost:8080/"
        },
        "id": "VbQW_9jk4CGK",
        "outputId": "732e075b-32f0-493a-827c-ba12a9413463"
      },
      "source": [
        "routes"
      ],
      "execution_count": null,
      "outputs": [
        {
          "output_type": "execute_result",
          "data": {
            "text/plain": [
              "['E03A燕巢快線',\n",
              " '248區間車',\n",
              " '紅22',\n",
              " '95B',\n",
              " '81',\n",
              " '33',\n",
              " '紅5 ',\n",
              " '紅68A(延駛大莊里)',\n",
              " 'JOY公車H21',\n",
              " '24(原 24A)',\n",
              " '29C',\n",
              " 'JOY公車H11區間(旗山轉運站-新開不老溫泉)',\n",
              " '橘16',\n",
              " 'JOY公車H21區間(那瑪夏-甲仙站)',\n",
              " '紅72',\n",
              " '16A(假日去程部分班次延駛高雄靈糧堂)',\n",
              " '紅27',\n",
              " '8035(區間車)',\n",
              " '8029',\n",
              " '23(部分延駛文山高中)公車式小黃',\n",
              " '8010(區間車)',\n",
              " '紅8A',\n",
              " '橘17A',\n",
              " 'T510',\n",
              " '紅60B',\n",
              " 'T505',\n",
              " '245B(延駛高雄大學)',\n",
              " '紅11A',\n",
              " '紅1',\n",
              " '214A',\n",
              " '301',\n",
              " '紅36',\n",
              " 'T506',\n",
              " '8026',\n",
              " '燕巢B',\n",
              " 'E25高旗六龜快線(08:20前不行經高鐵左營站)',\n",
              " 'T702B',\n",
              " '8048',\n",
              " '紅3 (預約)',\n",
              " '紅30',\n",
              " '紅53梓官幹線-區間(原 紅55)',\n",
              " '紅70B(延駛隆后宮)',\n",
              " '12B(去程不繞駛飛機路)',\n",
              " '紅12A',\n",
              " '29B(延駛創新路)',\n",
              " '紅61',\n",
              " 'T606B',\n",
              " '248',\n",
              " 'E03B燕巢快線',\n",
              " '8033',\n",
              " '60覺民幹線區間車',\n",
              " '95A',\n",
              " 'T521',\n",
              " '8001',\n",
              " '90民族幹線',\n",
              " '橘7A(大樹衛生所發車)',\n",
              " '8035(部分延駛實踐大學)',\n",
              " '7C',\n",
              " '橘20A',\n",
              " '5',\n",
              " '8012',\n",
              " '橘21A',\n",
              " 'T102延駛',\n",
              " 'T605',\n",
              " '紅36(17:08－23:30繞文信路)',\n",
              " '橘1B(平日停駛)',\n",
              " '橘21A (預約)',\n",
              " 'E02哈佛快線',\n",
              " '紅35',\n",
              " '26B',\n",
              " '99',\n",
              " 'JOY公車H11A',\n",
              " '橘20D(假日停駛)',\n",
              " 'JOY公車H21區間(甲仙站-旗山)',\n",
              " '紅67A部分班次延駛中正堂(原 紅69B)',\n",
              " '紅6公車式小黃',\n",
              " '紅58A',\n",
              " '紅8B(去繞昭明)',\n",
              " '紅50公車式小黃',\n",
              " '12A',\n",
              " '紅21',\n",
              " '綠1南',\n",
              " '83',\n",
              " '60覺民幹線',\n",
              " '70B三多幹線(延駛鎮州路)',\n",
              " '黃2B',\n",
              " '100百貨幹線',\n",
              " '紅73A',\n",
              " '永安線',\n",
              " '紅65(原 紅68C)',\n",
              " 'T508',\n",
              " '黃2C',\n",
              " '6(星展銀行發車)',\n",
              " '紅51A (預約)',\n",
              " '98',\n",
              " 'T523',\n",
              " '7D',\n",
              " '8020',\n",
              " '37(育英發車)',\n",
              " 'T402 (預約)',\n",
              " '8040',\n",
              " '紅60A',\n",
              " '紅53梓官幹線-主',\n",
              " '218A',\n",
              " '橘17(延駛)',\n",
              " '0南',\n",
              " 'T512',\n",
              " 'T606A',\n",
              " '紅69 (原 紅69A)',\n",
              " '紅16公車式小黃',\n",
              " '橘17B',\n",
              " '8049(區間車)',\n",
              " 'E32高旗甲仙快線',\n",
              " '燕巢A',\n",
              " '紅10',\n",
              " '38D(去返程延駛鼓山三路)',\n",
              " '橘11A',\n",
              " '紅25繞',\n",
              " '99區間',\n",
              " '16A繞(1700-2150繞文信路口)',\n",
              " 'JOY公車H31',\n",
              " '92自由幹線',\n",
              " 'T515(延駛衛生所)',\n",
              " 'T501',\n",
              " '8505',\n",
              " '紅58C(學校寒暑假停駛)',\n",
              " '96',\n",
              " '219B',\n",
              " '23(部分延駛文山高中)',\n",
              " '69A小港幹線',\n",
              " '橘7A(延駛大樹衛生所)',\n",
              " '25',\n",
              " '245A',\n",
              " 'T516',\n",
              " '紅66(原 紅69C)',\n",
              " '8043',\n",
              " '3繞(17:00－20:30繞文信路)',\n",
              " '紅3B林園幹線',\n",
              " '70D三多幹線(延駛仁美)',\n",
              " '橘23',\n",
              " '紅32B(學校寒暑假停駛)',\n",
              " 'T601',\n",
              " '紅51B公車式小黃',\n",
              " 'T502',\n",
              " '8023(區間車)',\n",
              " '橘7B(不延駛佛陀紀念館)',\n",
              " '219A',\n",
              " '8017',\n",
              " '橘12鳳青幹線(白天延駛澄清湖)',\n",
              " 'E04',\n",
              " '52A',\n",
              " '88建國幹線',\n",
              " '紅8C(返繞昭明)',\n",
              " '橘20C',\n",
              " '紅69',\n",
              " '紅9A旗津幹線',\n",
              " '紅32A',\n",
              " '紅56C(學校寒暑假停駛)',\n",
              " '紅76(原紅72B)',\n",
              " '紅1(區間)',\n",
              " '橘21B',\n",
              " '69B小港幹線(延駛明鳳)',\n",
              " '7B(區間車)',\n",
              " '8006',\n",
              " '82',\n",
              " 'T603A(每周二、四、五預約)(6/7)',\n",
              " '30',\n",
              " 'T402',\n",
              " '紅78',\n",
              " '紅56B(延駛德民黃昏市場)',\n",
              " '紅52(原 E05)',\n",
              " '紅18',\n",
              " '217D新昌幹線(高應大發車)',\n",
              " '大寮線',\n",
              " '紅75(原紅72C)',\n",
              " '橘7B(假日停駛)',\n",
              " '橘1C(延駛中山大學文學院)',\n",
              " 'T519',\n",
              " '8023',\n",
              " '紅51A',\n",
              " '橘20B',\n",
              " '16B(假日去程部分班次延駛高雄靈糧堂)',\n",
              " '紅2B(延駛職訓中心)',\n",
              " '紅7B(經紅毛港)',\n",
              " '77昌福幹線(繞三民高中)',\n",
              " 'H21',\n",
              " '63北',\n",
              " '紅58B',\n",
              " 'T522',\n",
              " '紅13(紅毛港文化園區)',\n",
              " '217A新昌幹線',\n",
              " '橘16延駛(假日停駛)',\n",
              " '橘11A(區間車)',\n",
              " '3',\n",
              " 'E28高旗美濃快線',\n",
              " '鼓山線(預約測試)',\n",
              " '紅53梓官幹線-副',\n",
              " '52C(捷運中央公園站－高雄女中)',\n",
              " 'T602',\n",
              " 'T702A',\n",
              " 'T525',\n",
              " '紅2A',\n",
              " '8041B',\n",
              " 'T603B',\n",
              " '紅28(繞中都濕地公園) (預約)',\n",
              " 'T511',\n",
              " '紅3D林園幹線(不經西溪里.宏平路)',\n",
              " 'T518',\n",
              " '紅28延',\n",
              " '168環西幹線',\n",
              " '12C(延駛經大坪頂)',\n",
              " '紅3E林園幹線(延駛鳳鳴里)',\n",
              " '224(原 24B)',\n",
              " 'T520',\n",
              " '橘7A',\n",
              " 'T102',\n",
              " '28',\n",
              " '紅29',\n",
              " '72A',\n",
              " '39',\n",
              " '紅56A',\n",
              " '63南',\n",
              " '橘22',\n",
              " '87',\n",
              " 'JOY公車H11區間(六龜-寶來)',\n",
              " '鼓山線(測試)',\n",
              " '53A',\n",
              " '紅51C',\n",
              " 'H51',\n",
              " 'E10小港燕巢城市快線',\n",
              " '26A',\n",
              " '紅57',\n",
              " '8009',\n",
              " '217E新昌幹線(大華里發車)',\n",
              " 'JOY公車H11',\n",
              " '橘11B',\n",
              " '8042(原 E07 假日延駛博物館、航空站)',\n",
              " '橘23 部分延駛',\n",
              " '紅71B2',\n",
              " '29A',\n",
              " '88建國幹線延駛',\n",
              " 'JOY公車H22',\n",
              " '燕巢C',\n",
              " '8021',\n",
              " '301區間',\n",
              " '橘20C(直達車)',\n",
              " '紅71A',\n",
              " '紅57(區間車)',\n",
              " '紅25',\n",
              " '8502',\n",
              " '黃2A',\n",
              " '紅33明誠幹線',\n",
              " '綠1北',\n",
              " '38A',\n",
              " '8501(部分班次延駛義守大學)',\n",
              " '0北',\n",
              " '紅3C林園幹線(不經西溪里)',\n",
              " '53B',\n",
              " '77昌福幹線',\n",
              " '8010',\n",
              " '紅28公車式小黃',\n",
              " '紅51A公車式小黃',\n",
              " '8503',\n",
              " '97',\n",
              " '橘20B(延駛輔英科大)',\n",
              " '50五福幹線',\n",
              " '大樹祈福線A',\n",
              " '大樹線',\n",
              " 'T517(預約)',\n",
              " '37',\n",
              " '72B(延駛正勤社區)',\n",
              " '紅79',\n",
              " '高雄輕軌',\n",
              " '紅6',\n",
              " '56',\n",
              " 'E01A旗美國道快線(往旗山轉運站)',\n",
              " '紅71B1',\n",
              " '紅71C',\n",
              " '橘8',\n",
              " '紅9C假日觀光公車',\n",
              " '紅3',\n",
              " '239',\n",
              " 'E09鳳山燕巢城市快線',\n",
              " '紅12B(延駛科技產業園區)',\n",
              " '紅28(繞中都濕地公園)',\n",
              " '紅71D',\n",
              " '8046B(部分延駛樹人醫專)',\n",
              " '紅3A林園幹線(行經鳳鳴國小)',\n",
              " '38B(去程延駛鼓山三路)',\n",
              " '紅51B (預約)',\n",
              " '紅1(延駛中鋼公司)',\n",
              " 'JOY公車H11區間(梅山口-桃源)',\n",
              " 'T517',\n",
              " '紅50',\n",
              " '橘10B',\n",
              " '紅11B',\n",
              " '35A(原 紅9D(延駛小港國高中))',\n",
              " '紅73C',\n",
              " '紅16',\n",
              " '8041C(部分延駛樹人醫專)',\n",
              " '紅11',\n",
              " '橘23 部分延駛 (預約)',\n",
              " '6',\n",
              " '紅7A(不經紅毛港)',\n",
              " '橘1A',\n",
              " '大樹祈福線B',\n",
              " '168環東幹線',\n",
              " '33(06:33延駛後備指揮部)',\n",
              " '紅35(繞崇實社區)',\n",
              " '紅50 (預約)',\n",
              " '8046A',\n",
              " '橘10A',\n",
              " 'JOY公車H12',\n",
              " '62',\n",
              " '218B(延駛合群社區)',\n",
              " 'E09(假日行駛)',\n",
              " '8015',\n",
              " '紅67B(原 紅69D)',\n",
              " '紅2C(直達車)',\n",
              " '82公車式小黃',\n",
              " '大湖線-海埔海山三興宮',\n",
              " 'T507',\n",
              " '76',\n",
              " '205中華幹線',\n",
              " 'T503',\n",
              " '8013(假日延駛石頭廟)',\n",
              " '70A三多幹線(部分延駛澄清湖)',\n",
              " '橘12鳳青幹線區間車(寒暑假停駛)',\n",
              " '紅68A',\n",
              " '8049',\n",
              " '8506',\n",
              " '8008',\n",
              " '紅10(區間車)',\n",
              " '紅31',\n",
              " '8036',\n",
              " '黃1',\n",
              " '大湖線',\n",
              " '紅28',\n",
              " '紅70A',\n",
              " '7A',\n",
              " '紅8E',\n",
              " '8041A',\n",
              " '38C(返程延駛鼓山三路)',\n",
              " '紅7C(延駛漁業署)',\n",
              " '紅9B假日觀光公車(延駛旗津漁港)',\n",
              " '8504',\n",
              " '8501延駛佛光山',\n",
              " '紅51B',\n",
              " 'E01B旗美國道快線(往美濃站)',\n",
              " '73',\n",
              " 'JOY公車H11區間(六龜-梅山口)',\n",
              " '36',\n",
              " 'T603C(每周二、四、五預約)(6/7)',\n",
              " '紅68B(部分班次延駛嘉興國中)',\n",
              " '紅28 (預約)',\n",
              " 'E10(假日行駛)',\n",
              " '永安線紅72',\n",
              " '11']"
            ]
          },
          "metadata": {},
          "execution_count": 233
        }
      ]
    },
    {
      "cell_type": "code",
      "metadata": {
        "colab": {
          "base_uri": "https://localhost:8080/",
          "height": 163
        },
        "id": "irQTqGh_7F8N",
        "outputId": "efbcd44e-5e00-4f65-ad78-87ad4d0ae553"
      },
      "source": [
        "', '.join(routes)"
      ],
      "execution_count": null,
      "outputs": [
        {
          "output_type": "execute_result",
          "data": {
            "application/vnd.google.colaboratory.intrinsic+json": {
              "type": "string"
            },
            "text/plain": [
              "'E03A燕巢快線, 248區間車, 紅22, 95B, 81, 33, 紅5 , 紅68A(延駛大莊里), JOY公車H21, 24(原 24A), 29C, JOY公車H11區間(旗山轉運站-新開不老溫泉), 橘16, JOY公車H21區間(那瑪夏-甲仙站), 紅72, 16A(假日去程部分班次延駛高雄靈糧堂), 紅27, 8035(區間車), 8029, 23(部分延駛文山高中)公車式小黃, 8010(區間車), 紅8A, 橘17A, T510, 紅60B, T505, 245B(延駛高雄大學), 紅11A, 紅1, 214A, 301, 紅36, T506, 8026, 燕巢B, E25高旗六龜快線(08:20前不行經高鐵左營站), T702B, 8048, 紅3 (預約), 紅30, 紅53梓官幹線-區間(原 紅55), 紅70B(延駛隆后宮), 12B(去程不繞駛飛機路), 紅12A, 29B(延駛創新路), 紅61, T606B, 248, E03B燕巢快線, 8033, 60覺民幹線區間車, 95A, T521, 8001, 90民族幹線, 橘7A(大樹衛生所發車), 8035(部分延駛實踐大學), 7C, 橘20A, 5, 8012, 橘21A, T102延駛, T605, 紅36(17:08－23:30繞文信路), 橘1B(平日停駛), 橘21A (預約), E02哈佛快線, 紅35, 26B, 99, JOY公車H11A, 橘20D(假日停駛), JOY公車H21區間(甲仙站-旗山), 紅67A部分班次延駛中正堂(原 紅69B), 紅6公車式小黃, 紅58A, 紅8B(去繞昭明), 紅50公車式小黃, 12A, 紅21, 綠1南, 83, 60覺民幹線, 70B三多幹線(延駛鎮州路), 黃2B, 100百貨幹線, 紅73A, 永安線, 紅65(原 紅68C), T508, 黃2C, 6(星展銀行發車), 紅51A (預約), 98, T523, 7D, 8020, 37(育英發車), T402 (預約), 8040, 紅60A, 紅53梓官幹線-主, 218A, 橘17(延駛), 0南, T512, T606A, 紅69 (原 紅69A), 紅16公車式小黃, 橘17B, 8049(區間車), E32高旗甲仙快線, 燕巢A, 紅10, 38D(去返程延駛鼓山三路), 橘11A, 紅25繞, 99區間, 16A繞(1700-2150繞文信路口), JOY公車H31, 92自由幹線, T515(延駛衛生所), T501, 8505, 紅58C(學校寒暑假停駛), 96, 219B, 23(部分延駛文山高中), 69A小港幹線, 橘7A(延駛大樹衛生所), 25, 245A, T516, 紅66(原 紅69C), 8043, 3繞(17:00－20:30繞文信路), 紅3B林園幹線, 70D三多幹線(延駛仁美), 橘23, 紅32B(學校寒暑假停駛), T601, 紅51B公車式小黃, T502, 8023(區間車), 橘7B(不延駛佛陀紀念館), 219A, 8017, 橘12鳳青幹線(白天延駛澄清湖), E04, 52A, 88建國幹線, 紅8C(返繞昭明), 橘20C, 紅69, 紅9A旗津幹線, 紅32A, 紅56C(學校寒暑假停駛), 紅76(原紅72B), 紅1(區間), 橘21B, 69B小港幹線(延駛明鳳), 7B(區間車), 8006, 82, T603A(每周二、四、五預約)(6/7), 30, T402, 紅78, 紅56B(延駛德民黃昏市場), 紅52(原 E05), 紅18, 217D新昌幹線(高應大發車), 大寮線, 紅75(原紅72C), 橘7B(假日停駛), 橘1C(延駛中山大學文學院), T519, 8023, 紅51A, 橘20B, 16B(假日去程部分班次延駛高雄靈糧堂), 紅2B(延駛職訓中心), 紅7B(經紅毛港), 77昌福幹線(繞三民高中), H21, 63北, 紅58B, T522, 紅13(紅毛港文化園區), 217A新昌幹線, 橘16延駛(假日停駛), 橘11A(區間車), 3, E28高旗美濃快線, 鼓山線(預約測試), 紅53梓官幹線-副, 52C(捷運中央公園站－高雄女中), T602, T702A, T525, 紅2A, 8041B, T603B, 紅28(繞中都濕地公園) (預約), T511, 紅3D林園幹線(不經西溪里.宏平路), T518, 紅28延, 168環西幹線, 12C(延駛經大坪頂), 紅3E林園幹線(延駛鳳鳴里), 224(原 24B), T520, 橘7A, T102, 28, 紅29, 72A, 39, 紅56A, 63南, 橘22, 87, JOY公車H11區間(六龜-寶來), 鼓山線(測試), 53A, 紅51C, H51, E10小港燕巢城市快線, 26A, 紅57, 8009, 217E新昌幹線(大華里發車), JOY公車H11, 橘11B, 8042(原 E07 假日延駛博物館、航空站), 橘23 部分延駛, 紅71B2, 29A, 88建國幹線延駛, JOY公車H22, 燕巢C, 8021, 301區間, 橘20C(直達車), 紅71A, 紅57(區間車), 紅25, 8502, 黃2A, 紅33明誠幹線, 綠1北, 38A, 8501(部分班次延駛義守大學), 0北, 紅3C林園幹線(不經西溪里), 53B, 77昌福幹線, 8010, 紅28公車式小黃, 紅51A公車式小黃, 8503, 97, 橘20B(延駛輔英科大), 50五福幹線, 大樹祈福線A, 大樹線, T517(預約), 37, 72B(延駛正勤社區), 紅79, 高雄輕軌, 紅6, 56, E01A旗美國道快線(往旗山轉運站), 紅71B1, 紅71C, 橘8, 紅9C假日觀光公車, 紅3, 239, E09鳳山燕巢城市快線, 紅12B(延駛科技產業園區), 紅28(繞中都濕地公園), 紅71D, 8046B(部分延駛樹人醫專), 紅3A林園幹線(行經鳳鳴國小), 38B(去程延駛鼓山三路), 紅51B (預約), 紅1(延駛中鋼公司), JOY公車H11區間(梅山口-桃源), T517, 紅50, 橘10B, 紅11B, 35A(原 紅9D(延駛小港國高中)), 紅73C, 紅16, 8041C(部分延駛樹人醫專), 紅11, 橘23 部分延駛 (預約), 6, 紅7A(不經紅毛港), 橘1A, 大樹祈福線B, 168環東幹線, 33(06:33延駛後備指揮部), 紅35(繞崇實社區), 紅50 (預約), 8046A, 橘10A, JOY公車H12, 62, 218B(延駛合群社區), E09(假日行駛), 8015, 紅67B(原 紅69D), 紅2C(直達車), 82公車式小黃, 大湖線-海埔海山三興宮, T507, 76, 205中華幹線, T503, 8013(假日延駛石頭廟), 70A三多幹線(部分延駛澄清湖), 橘12鳳青幹線區間車(寒暑假停駛), 紅68A, 8049, 8506, 8008, 紅10(區間車), 紅31, 8036, 黃1, 大湖線, 紅28, 紅70A, 7A, 紅8E, 8041A, 38C(返程延駛鼓山三路), 紅7C(延駛漁業署), 紅9B假日觀光公車(延駛旗津漁港), 8504, 8501延駛佛光山, 紅51B, E01B旗美國道快線(往美濃站), 73, JOY公車H11區間(六龜-梅山口), 36, T603C(每周二、四、五預約)(6/7), 紅68B(部分班次延駛嘉興國中), 紅28 (預約), E10(假日行駛), 永安線紅72, 11'"
            ]
          },
          "metadata": {},
          "execution_count": 234
        }
      ]
    },
    {
      "cell_type": "markdown",
      "metadata": {
        "id": "5Kn8XRtz6u-3"
      },
      "source": [
        "## 使用selenium抓取高雄市公車路線\n",
        "\n",
        "網頁自動化測試平台套件\n",
        "\n",
        "https://ibus.tbkc.gov.tw/ibus/driving-map"
      ]
    },
    {
      "cell_type": "code",
      "metadata": {
        "colab": {
          "base_uri": "https://localhost:8080/"
        },
        "id": "nu45QSZx7QY0",
        "outputId": "03b96b5d-0c09-4bad-f1ba-a930edb048df"
      },
      "source": [
        "# install chromium, its driver, and selenium\n",
        "!apt-get update >> log.txt\n",
        "!apt-get install chromium-chromedriver >> log.txt\n",
        "!pip install -q selenium"
      ],
      "execution_count": null,
      "outputs": [
        {
          "output_type": "stream",
          "name": "stdout",
          "text": [
            "\u001b[K     |████████████████████████████████| 954 kB 5.2 MB/s \n",
            "\u001b[K     |████████████████████████████████| 356 kB 53.5 MB/s \n",
            "\u001b[K     |████████████████████████████████| 138 kB 47.4 MB/s \n",
            "\u001b[K     |████████████████████████████████| 3.5 MB 36.4 MB/s \n",
            "\u001b[K     |████████████████████████████████| 55 kB 2.8 MB/s \n",
            "\u001b[K     |████████████████████████████████| 54 kB 2.9 MB/s \n",
            "\u001b[31mERROR: pip's dependency resolver does not currently take into account all the packages that are installed. This behaviour is the source of the following dependency conflicts.\n",
            "requests 2.23.0 requires urllib3!=1.25.0,!=1.25.1,<1.26,>=1.21.1, but you have urllib3 1.26.7 which is incompatible.\n",
            "datascience 0.10.6 requires folium==0.2.1, but you have folium 0.8.3 which is incompatible.\u001b[0m\n",
            "\u001b[?25h"
          ]
        }
      ]
    },
    {
      "cell_type": "code",
      "metadata": {
        "id": "VSJTmq6L7ndr"
      },
      "source": [
        "# set options to be headless, ..\n",
        "from selenium import webdriver\n",
        "options = webdriver.ChromeOptions()\n",
        "options.add_argument('--headless')\n",
        "options.add_argument('--no-sandbox')\n",
        "options.add_argument('--disable-dev-shm-usage')\n",
        "# 建立一個 chromedriver\n",
        "wd = webdriver.Chrome('chromedriver',options=options)"
      ],
      "execution_count": null,
      "outputs": []
    },
    {
      "cell_type": "code",
      "metadata": {
        "id": "Usei9i7T7o6L"
      },
      "source": [
        "import time\n",
        "url = \"https://ibus.tbkc.gov.tw/ibus/driving-map\""
      ],
      "execution_count": null,
      "outputs": []
    },
    {
      "cell_type": "code",
      "metadata": {
        "id": "2N3dKGMI7qp9"
      },
      "source": [
        "# 連線到指定網址\n",
        "wd.get(url)\n",
        "time.sleep(1)\n",
        "html = wd.page_source\n",
        "wd.close()"
      ],
      "execution_count": null,
      "outputs": []
    },
    {
      "cell_type": "code",
      "metadata": {
        "colab": {
          "base_uri": "https://localhost:8080/"
        },
        "id": "KsC5lvMd-rKR",
        "outputId": "bc77b5c4-0de7-44a1-80ec-c7753bbdde9c"
      },
      "source": [
        "\"0北\" in html"
      ],
      "execution_count": null,
      "outputs": [
        {
          "output_type": "execute_result",
          "data": {
            "text/plain": [
              "True"
            ]
          },
          "metadata": {},
          "execution_count": 250
        }
      ]
    },
    {
      "cell_type": "code",
      "metadata": {
        "id": "HTTCkSvn-w0l"
      },
      "source": [
        "html"
      ],
      "execution_count": null,
      "outputs": []
    },
    {
      "cell_type": "code",
      "metadata": {
        "id": "2qILDNVX8B6A"
      },
      "source": [
        "with open(\"高雄公車.html\",\"w\") as f:\n",
        "  f.write(html)"
      ],
      "execution_count": null,
      "outputs": []
    },
    {
      "cell_type": "code",
      "metadata": {
        "id": "vkYsmM9U--9J"
      },
      "source": [
        "from bs4 import BeautifulSoup\n",
        "soup=BeautifulSoup(html)\n"
      ],
      "execution_count": null,
      "outputs": []
    },
    {
      "cell_type": "code",
      "metadata": {
        "colab": {
          "base_uri": "https://localhost:8080/"
        },
        "id": "Op9Roisb_KWI",
        "outputId": "d9756480-b335-4882-9ed5-40d619a9eddd"
      },
      "source": [
        "soup.select(\".MuiBox-root.jss89.jss77 p\")"
      ],
      "execution_count": null,
      "outputs": [
        {
          "output_type": "execute_result",
          "data": {
            "text/plain": [
              "[<p class=\"MuiTypography-root jss90 jss91 MuiTypography-body1\">0北</p>,\n",
              " <p class=\"MuiTypography-root jss90 jss93 MuiTypography-body1\">0南</p>,\n",
              " <p class=\"MuiTypography-root jss90 jss95 MuiTypography-body1\">3</p>,\n",
              " <p class=\"MuiTypography-root jss90 jss97 MuiTypography-body1\">5</p>,\n",
              " <p class=\"MuiTypography-root jss90 jss99 MuiTypography-body1\">6</p>,\n",
              " <p class=\"MuiTypography-root jss90 jss101 MuiTypography-body1\">7</p>,\n",
              " <p class=\"MuiTypography-root jss90 jss103 MuiTypography-body1\">11</p>,\n",
              " <p class=\"MuiTypography-root jss90 jss105 MuiTypography-body1\">12</p>,\n",
              " <p class=\"MuiTypography-root jss90 jss107 MuiTypography-body1\">16</p>,\n",
              " <p class=\"MuiTypography-root jss90 jss109 MuiTypography-body1\">23(部分延駛文山高中)</p>,\n",
              " <p class=\"MuiTypography-root jss90 jss111 MuiTypography-body1\">24(原 24A)</p>,\n",
              " <p class=\"MuiTypography-root jss90 jss113 MuiTypography-body1\">224(原 24B)</p>,\n",
              " <p class=\"MuiTypography-root jss90 jss115 MuiTypography-body1\">25</p>,\n",
              " <p class=\"MuiTypography-root jss90 jss117 MuiTypography-body1\">26</p>,\n",
              " <p class=\"MuiTypography-root jss90 jss119 MuiTypography-body1\">28</p>,\n",
              " <p class=\"MuiTypography-root jss90 jss121 MuiTypography-body1\">29</p>,\n",
              " <p class=\"MuiTypography-root jss90 jss123 MuiTypography-body1\">30</p>,\n",
              " <p class=\"MuiTypography-root jss90 jss125 MuiTypography-body1\">33(06:33延駛後備指揮部)</p>,\n",
              " <p class=\"MuiTypography-root jss90 jss127 MuiTypography-body1\">35A(原 紅9D(延駛小港國高中))</p>,\n",
              " <p class=\"MuiTypography-root jss90 jss129 MuiTypography-body1\">36</p>,\n",
              " <p class=\"MuiTypography-root jss90 jss131 MuiTypography-body1\">37</p>,\n",
              " <p class=\"MuiTypography-root jss90 jss133 MuiTypography-body1\">38</p>,\n",
              " <p class=\"MuiTypography-root jss90 jss135 MuiTypography-body1\">39</p>,\n",
              " <p class=\"MuiTypography-root jss90 jss137 MuiTypography-body1\">50五福幹線</p>,\n",
              " <p class=\"MuiTypography-root jss90 jss139 MuiTypography-body1\">52</p>,\n",
              " <p class=\"MuiTypography-root jss90 jss141 MuiTypography-body1\">53</p>,\n",
              " <p class=\"MuiTypography-root jss90 jss143 MuiTypography-body1\">56</p>,\n",
              " <p class=\"MuiTypography-root jss90 jss145 MuiTypography-body1\">60覺民幹線(白天延駛澄清湖)</p>,\n",
              " <p class=\"MuiTypography-root jss90 jss147 MuiTypography-body1\">63</p>,\n",
              " <p class=\"MuiTypography-root jss90 jss149 MuiTypography-body1\">69小港幹線</p>,\n",
              " <p class=\"MuiTypography-root jss90 jss151 MuiTypography-body1\">70三多幹線</p>,\n",
              " <p class=\"MuiTypography-root jss90 jss153 MuiTypography-body1\">72</p>,\n",
              " <p class=\"MuiTypography-root jss90 jss155 MuiTypography-body1\">73</p>,\n",
              " <p class=\"MuiTypography-root jss90 jss157 MuiTypography-body1\">76</p>,\n",
              " <p class=\"MuiTypography-root jss90 jss159 MuiTypography-body1\">77昌福幹線</p>,\n",
              " <p class=\"MuiTypography-root jss90 jss161 MuiTypography-body1\">81</p>,\n",
              " <p class=\"MuiTypography-root jss90 jss163 MuiTypography-body1\">82</p>,\n",
              " <p class=\"MuiTypography-root jss90 jss165 MuiTypography-body1\">83</p>,\n",
              " <p class=\"MuiTypography-root jss90 jss167 MuiTypography-body1\">87</p>,\n",
              " <p class=\"MuiTypography-root jss90 jss169 MuiTypography-body1\">88建國幹線</p>,\n",
              " <p class=\"MuiTypography-root jss90 jss171 MuiTypography-body1\">90民族幹線</p>,\n",
              " <p class=\"MuiTypography-root jss90 jss173 MuiTypography-body1\">92自由幹線</p>,\n",
              " <p class=\"MuiTypography-root jss90 jss175 MuiTypography-body1\">96</p>,\n",
              " <p class=\"MuiTypography-root jss90 jss177 MuiTypography-body1\">97</p>,\n",
              " <p class=\"MuiTypography-root jss90 jss179 MuiTypography-body1\">98</p>,\n",
              " <p class=\"MuiTypography-root jss90 jss181 MuiTypography-body1\">99</p>,\n",
              " <p class=\"MuiTypography-root jss90 jss183 MuiTypography-body1\">100百貨幹線</p>,\n",
              " <p class=\"MuiTypography-root jss90 jss185 MuiTypography-body1\">168環西幹線</p>,\n",
              " <p class=\"MuiTypography-root jss90 jss187 MuiTypography-body1\">168環東幹線</p>,\n",
              " <p class=\"MuiTypography-root jss90 jss189 MuiTypography-body1\">205中華幹線</p>,\n",
              " <p class=\"MuiTypography-root jss90 jss191 MuiTypography-body1\">214A</p>,\n",
              " <p class=\"MuiTypography-root jss90 jss193 MuiTypography-body1\">217新昌幹線</p>,\n",
              " <p class=\"MuiTypography-root jss90 jss195 MuiTypography-body1\">218</p>,\n",
              " <p class=\"MuiTypography-root jss90 jss197 MuiTypography-body1\">219</p>,\n",
              " <p class=\"MuiTypography-root jss90 jss199 MuiTypography-body1\">239</p>,\n",
              " <p class=\"MuiTypography-root jss90 jss201 MuiTypography-body1\">245</p>,\n",
              " <p class=\"MuiTypography-root jss90 jss203 MuiTypography-body1\">248</p>,\n",
              " <p class=\"MuiTypography-root jss90 jss205 MuiTypography-body1\">301</p>,\n",
              " <p class=\"MuiTypography-root jss90 jss207 MuiTypography-body1\">8001</p>,\n",
              " <p class=\"MuiTypography-root jss90 jss209 MuiTypography-body1\">8006</p>,\n",
              " <p class=\"MuiTypography-root jss90 jss211 MuiTypography-body1\">8008</p>,\n",
              " <p class=\"MuiTypography-root jss90 jss213 MuiTypography-body1\">8009</p>,\n",
              " <p class=\"MuiTypography-root jss90 jss215 MuiTypography-body1\">8010</p>,\n",
              " <p class=\"MuiTypography-root jss90 jss217 MuiTypography-body1\">8012</p>,\n",
              " <p class=\"MuiTypography-root jss90 jss219 MuiTypography-body1\">8013(假日延駛石頭廟)</p>,\n",
              " <p class=\"MuiTypography-root jss90 jss221 MuiTypography-body1\">8015</p>,\n",
              " <p class=\"MuiTypography-root jss90 jss223 MuiTypography-body1\">8017</p>,\n",
              " <p class=\"MuiTypography-root jss90 jss225 MuiTypography-body1\">8020</p>,\n",
              " <p class=\"MuiTypography-root jss90 jss227 MuiTypography-body1\">8021</p>,\n",
              " <p class=\"MuiTypography-root jss90 jss229 MuiTypography-body1\">8023</p>,\n",
              " <p class=\"MuiTypography-root jss90 jss231 MuiTypography-body1\">8026</p>,\n",
              " <p class=\"MuiTypography-root jss90 jss233 MuiTypography-body1\">8029</p>,\n",
              " <p class=\"MuiTypography-root jss90 jss235 MuiTypography-body1\">8033</p>,\n",
              " <p class=\"MuiTypography-root jss90 jss237 MuiTypography-body1\">8035(區間車)</p>,\n",
              " <p class=\"MuiTypography-root jss90 jss239 MuiTypography-body1\">8035(部分延駛實踐大學)</p>,\n",
              " <p class=\"MuiTypography-root jss90 jss241 MuiTypography-body1\">8036</p>,\n",
              " <p class=\"MuiTypography-root jss90 jss243 MuiTypography-body1\">8040</p>,\n",
              " <p class=\"MuiTypography-root jss90 jss245 MuiTypography-body1\">8041A</p>,\n",
              " <p class=\"MuiTypography-root jss90 jss247 MuiTypography-body1\">8041B</p>,\n",
              " <p class=\"MuiTypography-root jss90 jss249 MuiTypography-body1\">8041C(部分延駛樹人醫專)</p>,\n",
              " <p class=\"MuiTypography-root jss90 jss251 MuiTypography-body1\">8042(原 E07 假日延駛博物館、航空站)</p>,\n",
              " <p class=\"MuiTypography-root jss90 jss253 MuiTypography-body1\">8043</p>,\n",
              " <p class=\"MuiTypography-root jss90 jss255 MuiTypography-body1\">8046(原 E08)</p>,\n",
              " <p class=\"MuiTypography-root jss90 jss257 MuiTypography-body1\">8048</p>,\n",
              " <p class=\"MuiTypography-root jss90 jss259 MuiTypography-body1\">8049</p>,\n",
              " <p class=\"MuiTypography-root jss90 jss261 MuiTypography-body1\">8501</p>,\n",
              " <p class=\"MuiTypography-root jss90 jss263 MuiTypography-body1\">8502</p>,\n",
              " <p class=\"MuiTypography-root jss90 jss265 MuiTypography-body1\">8503</p>,\n",
              " <p class=\"MuiTypography-root jss90 jss267 MuiTypography-body1\">8504</p>,\n",
              " <p class=\"MuiTypography-root jss90 jss269 MuiTypography-body1\">8505</p>,\n",
              " <p class=\"MuiTypography-root jss90 jss271 MuiTypography-body1\">8506</p>,\n",
              " <p class=\"MuiTypography-root jss90 jss273 MuiTypography-body1\">紅1</p>,\n",
              " <p class=\"MuiTypography-root jss90 jss275 MuiTypography-body1\">紅2</p>,\n",
              " <p class=\"MuiTypography-root jss90 jss277 MuiTypography-body1\">紅3林園幹線</p>,\n",
              " <p class=\"MuiTypography-root jss90 jss279 MuiTypography-body1\">紅5 </p>,\n",
              " <p class=\"MuiTypography-root jss90 jss281 MuiTypography-body1\">紅6</p>,\n",
              " <p class=\"MuiTypography-root jss90 jss283 MuiTypography-body1\">紅7</p>,\n",
              " <p class=\"MuiTypography-root jss90 jss285 MuiTypography-body1\">紅8</p>,\n",
              " <p class=\"MuiTypography-root jss90 jss287 MuiTypography-body1\">紅9旗津幹線</p>,\n",
              " <p class=\"MuiTypography-root jss90 jss289 MuiTypography-body1\">紅10</p>,\n",
              " <p class=\"MuiTypography-root jss90 jss291 MuiTypography-body1\">紅11</p>,\n",
              " <p class=\"MuiTypography-root jss90 jss293 MuiTypography-body1\">紅12</p>,\n",
              " <p class=\"MuiTypography-root jss90 jss295 MuiTypography-body1\">紅13(紅毛港文化園區)</p>,\n",
              " <p class=\"MuiTypography-root jss90 jss297 MuiTypography-body1\">紅16</p>,\n",
              " <p class=\"MuiTypography-root jss90 jss299 MuiTypography-body1\">紅18</p>,\n",
              " <p class=\"MuiTypography-root jss90 jss301 MuiTypography-body1\">紅21</p>,\n",
              " <p class=\"MuiTypography-root jss90 jss303 MuiTypography-body1\">紅22</p>,\n",
              " <p class=\"MuiTypography-root jss90 jss305 MuiTypography-body1\">紅25</p>,\n",
              " <p class=\"MuiTypography-root jss90 jss307 MuiTypography-body1\">紅27</p>,\n",
              " <p class=\"MuiTypography-root jss90 jss309 MuiTypography-body1\">紅28</p>,\n",
              " <p class=\"MuiTypography-root jss90 jss311 MuiTypography-body1\">紅29</p>,\n",
              " <p class=\"MuiTypography-root jss90 jss313 MuiTypography-body1\">紅30</p>,\n",
              " <p class=\"MuiTypography-root jss90 jss315 MuiTypography-body1\">紅31</p>,\n",
              " <p class=\"MuiTypography-root jss90 jss317 MuiTypography-body1\">紅32</p>,\n",
              " <p class=\"MuiTypography-root jss90 jss319 MuiTypography-body1\">紅33明誠幹線</p>,\n",
              " <p class=\"MuiTypography-root jss90 jss321 MuiTypography-body1\">紅35</p>,\n",
              " <p class=\"MuiTypography-root jss90 jss323 MuiTypography-body1\">紅36</p>,\n",
              " <p class=\"MuiTypography-root jss90 jss325 MuiTypography-body1\">紅50</p>,\n",
              " <p class=\"MuiTypography-root jss90 jss327 MuiTypography-body1\">紅51</p>,\n",
              " <p class=\"MuiTypography-root jss90 jss329 MuiTypography-body1\">紅52(原 E05)</p>,\n",
              " <p class=\"MuiTypography-root jss90 jss331 MuiTypography-body1\">紅53梓官幹線</p>,\n",
              " <p class=\"MuiTypography-root jss90 jss333 MuiTypography-body1\">紅56</p>,\n",
              " <p class=\"MuiTypography-root jss90 jss335 MuiTypography-body1\">紅57</p>,\n",
              " <p class=\"MuiTypography-root jss90 jss337 MuiTypography-body1\">紅58</p>,\n",
              " <p class=\"MuiTypography-root jss90 jss339 MuiTypography-body1\">紅60</p>,\n",
              " <p class=\"MuiTypography-root jss90 jss341 MuiTypography-body1\">紅61</p>,\n",
              " <p class=\"MuiTypography-root jss90 jss343 MuiTypography-body1\">紅65(原 紅68C)</p>,\n",
              " <p class=\"MuiTypography-root jss90 jss345 MuiTypography-body1\">紅67</p>,\n",
              " <p class=\"MuiTypography-root jss90 jss347 MuiTypography-body1\">紅66(原 紅69C)</p>,\n",
              " <p class=\"MuiTypography-root jss90 jss349 MuiTypography-body1\">紅68</p>,\n",
              " <p class=\"MuiTypography-root jss90 jss351 MuiTypography-body1\">紅69 (原 紅69A)</p>,\n",
              " <p class=\"MuiTypography-root jss90 jss353 MuiTypography-body1\">紅70</p>,\n",
              " <p class=\"MuiTypography-root jss90 jss355 MuiTypography-body1\">紅71</p>,\n",
              " <p class=\"MuiTypography-root jss90 jss357 MuiTypography-body1\">紅72</p>,\n",
              " <p class=\"MuiTypography-root jss90 jss359 MuiTypography-body1\">紅73</p>,\n",
              " <p class=\"MuiTypography-root jss90 jss361 MuiTypography-body1\">紅75(原紅72C)</p>,\n",
              " <p class=\"MuiTypography-root jss90 jss363 MuiTypography-body1\">紅76(原紅72B)</p>,\n",
              " <p class=\"MuiTypography-root jss90 jss365 MuiTypography-body1\">紅78</p>,\n",
              " <p class=\"MuiTypography-root jss90 jss367 MuiTypography-body1\">紅79</p>,\n",
              " <p class=\"MuiTypography-root jss90 jss369 MuiTypography-body1\">E01旗美國道快線</p>,\n",
              " <p class=\"MuiTypography-root jss90 jss371 MuiTypography-body1\">E02哈佛快線</p>,\n",
              " <p class=\"MuiTypography-root jss90 jss373 MuiTypography-body1\">E03燕巢快線</p>,\n",
              " <p class=\"MuiTypography-root jss90 jss375 MuiTypography-body1\">E04</p>,\n",
              " <p class=\"MuiTypography-root jss90 jss377 MuiTypography-body1\">E09 鳳山燕巢城市快線 </p>,\n",
              " <p class=\"MuiTypography-root jss90 jss379 MuiTypography-body1\">E10小港燕巢城市快線</p>,\n",
              " <p class=\"MuiTypography-root jss90 jss381 MuiTypography-body1\">E25高旗六龜快線(08:20前不行經高鐵左營站)</p>,\n",
              " <p class=\"MuiTypography-root jss90 jss383 MuiTypography-body1\">E28高旗美濃快線</p>,\n",
              " <p class=\"MuiTypography-root jss90 jss385 MuiTypography-body1\">E32高旗甲仙快線</p>,\n",
              " <p class=\"MuiTypography-root jss90 jss387 MuiTypography-body1\">大樹祈福線</p>,\n",
              " <p class=\"MuiTypography-root jss90 jss389 MuiTypography-body1\">JOY公車H11</p>,\n",
              " <p class=\"MuiTypography-root jss90 jss391 MuiTypography-body1\">JOY公車H12</p>,\n",
              " <p class=\"MuiTypography-root jss90 jss393 MuiTypography-body1\">JOY公車H21</p>,\n",
              " <p class=\"MuiTypography-root jss90 jss395 MuiTypography-body1\">JOY公車H21區間(甲仙站-旗山)</p>,\n",
              " <p class=\"MuiTypography-root jss90 jss397 MuiTypography-body1\">JOY公車H21區間(那瑪夏-甲仙站)</p>,\n",
              " <p class=\"MuiTypography-root jss90 jss399 MuiTypography-body1\">JOY公車H22</p>,\n",
              " <p class=\"MuiTypography-root jss90 jss401 MuiTypography-body1\">JOY公車H31</p>,\n",
              " <p class=\"MuiTypography-root jss90 jss403 MuiTypography-body1\">黃1</p>,\n",
              " <p class=\"MuiTypography-root jss90 jss405 MuiTypography-body1\">黃2(部分班次延駛圓山飯店)</p>,\n",
              " <p class=\"MuiTypography-root jss90 jss407 MuiTypography-body1\">綠1南</p>,\n",
              " <p class=\"MuiTypography-root jss90 jss409 MuiTypography-body1\">綠1北</p>,\n",
              " <p class=\"MuiTypography-root jss90 jss411 MuiTypography-body1\">橘1</p>,\n",
              " <p class=\"MuiTypography-root jss90 jss413 MuiTypography-body1\">橘7A</p>,\n",
              " <p class=\"MuiTypography-root jss90 jss415 MuiTypography-body1\">橘7B</p>,\n",
              " <p class=\"MuiTypography-root jss90 jss417 MuiTypography-body1\">橘8</p>,\n",
              " <p class=\"MuiTypography-root jss90 jss419 MuiTypography-body1\">橘11</p>,\n",
              " <p class=\"MuiTypography-root jss90 jss421 MuiTypography-body1\">橘12鳳青幹線</p>,\n",
              " <p class=\"MuiTypography-root jss90 jss423 MuiTypography-body1\">橘16</p>,\n",
              " <p class=\"MuiTypography-root jss90 jss425 MuiTypography-body1\">橘17</p>,\n",
              " <p class=\"MuiTypography-root jss90 jss427 MuiTypography-body1\">橘20</p>,\n",
              " <p class=\"MuiTypography-root jss90 jss429 MuiTypography-body1\"></p>,\n",
              " <p class=\"MuiTypography-root jss90 jss431 MuiTypography-body1\"></p>,\n",
              " <p class=\"MuiTypography-root jss90 jss433 MuiTypography-body1\"></p>,\n",
              " <p class=\"MuiTypography-root jss90 jss435 MuiTypography-body1\"></p>,\n",
              " <p class=\"MuiTypography-root jss90 jss437 MuiTypography-body1\"></p>,\n",
              " <p class=\"MuiTypography-root jss90 jss439 MuiTypography-body1\"></p>,\n",
              " <p class=\"MuiTypography-root jss90 jss441 MuiTypography-body1\"></p>,\n",
              " <p class=\"MuiTypography-root jss90 jss443 MuiTypography-body1\"></p>,\n",
              " <p class=\"MuiTypography-root jss90 jss445 MuiTypography-body1\"></p>]"
            ]
          },
          "metadata": {},
          "execution_count": 285
        }
      ]
    },
    {
      "cell_type": "code",
      "metadata": {
        "id": "x3kV4nOKN8av"
      },
      "source": [
        "buses = []\n",
        "for i in soup.select(\".MuiBox-root.jss89.jss77 p\"):\n",
        "  if i.text: buses.append(i.text)"
      ],
      "execution_count": null,
      "outputs": []
    },
    {
      "cell_type": "code",
      "metadata": {
        "colab": {
          "base_uri": "https://localhost:8080/",
          "height": 163
        },
        "id": "-jIwaZIqN54B",
        "outputId": "6d80af7e-7499-40e4-a9e8-12b170f48192"
      },
      "source": [
        "' '.join(buses)"
      ],
      "execution_count": null,
      "outputs": [
        {
          "output_type": "execute_result",
          "data": {
            "application/vnd.google.colaboratory.intrinsic+json": {
              "type": "string"
            },
            "text/plain": [
              "'0北 0南 3 5 6 7 11 12 16 23(部分延駛文山高中) 24(原 24A) 224(原 24B) 25 26 28 29 30 33(06:33延駛後備指揮部) 35A(原 紅9D(延駛小港國高中)) 36 37 38 39 50五福幹線 52 53 56 60覺民幹線(白天延駛澄清湖) 63 69小港幹線 70三多幹線 72 73 76 77昌福幹線 81 82 83 87 88建國幹線 90民族幹線 92自由幹線 96 97 98 99 100百貨幹線 168環西幹線 168環東幹線 205中華幹線 214A 217新昌幹線 218 219 239 245 248 301 8001 8006 8008 8009 8010 8012 8013(假日延駛石頭廟) 8015 8017 8020 8021 8023 8026 8029 8033 8035(區間車) 8035(部分延駛實踐大學) 8036 8040 8041A 8041B 8041C(部分延駛樹人醫專) 8042(原 E07 假日延駛博物館、航空站) 8043 8046(原 E08) 8048 8049 8501 8502 8503 8504 8505 8506 紅1 紅2 紅3林園幹線 紅5  紅6 紅7 紅8 紅9旗津幹線 紅10 紅11 紅12 紅13(紅毛港文化園區) 紅16 紅18 紅21 紅22 紅25 紅27 紅28 紅29 紅30 紅31 紅32 紅33明誠幹線 紅35 紅36 紅50 紅51 紅52(原 E05) 紅53梓官幹線 紅56 紅57 紅58 紅60 紅61 紅65(原 紅68C) 紅67 紅66(原 紅69C) 紅68 紅69 (原 紅69A) 紅70 紅71 紅72 紅73 紅75(原紅72C) 紅76(原紅72B) 紅78 紅79 E01旗美國道快線 E02哈佛快線 E03燕巢快線 E04 E09 鳳山燕巢城市快線  E10小港燕巢城市快線 E25高旗六龜快線(08:20前不行經高鐵左營站) E28高旗美濃快線 E32高旗甲仙快線 大樹祈福線 JOY公車H11 JOY公車H12 JOY公車H21 JOY公車H21區間(甲仙站-旗山) JOY公車H21區間(那瑪夏-甲仙站) JOY公車H22 JOY公車H31 黃1 黃2(部分班次延駛圓山飯店) 綠1南 綠1北 橘1 橘7A 橘7B 橘8 橘11 橘12鳳青幹線 橘16 橘17 橘20'"
            ]
          },
          "metadata": {},
          "execution_count": 288
        }
      ]
    }
  ]
}