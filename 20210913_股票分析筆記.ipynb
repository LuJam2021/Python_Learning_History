{
  "nbformat": 4,
  "nbformat_minor": 0,
  "metadata": {
    "colab": {
      "name": "20210913-股票分析筆記.ipynb",
      "provenance": [],
      "toc_visible": true,
      "authorship_tag": "ABX9TyMl7kr8qIP6paA63MO+BaKw",
      "include_colab_link": true
    },
    "kernelspec": {
      "name": "python3",
      "display_name": "Python 3"
    },
    "language_info": {
      "name": "python"
    }
  },
  "cells": [
    {
      "cell_type": "markdown",
      "metadata": {
        "id": "view-in-github",
        "colab_type": "text"
      },
      "source": [
        "<a href=\"https://colab.research.google.com/github/LuJam2021/Python_Learning_History/blob/main/20210913_%E8%82%A1%E7%A5%A8%E5%88%86%E6%9E%90%E7%AD%86%E8%A8%98.ipynb\" target=\"_parent\"><img src=\"https://colab.research.google.com/assets/colab-badge.svg\" alt=\"Open In Colab\"/></a>"
      ]
    },
    {
      "cell_type": "markdown",
      "metadata": {
        "id": "FDf-kMvTOq4T"
      },
      "source": [
        "# 股票分析筆記\n"
      ]
    },
    {
      "cell_type": "markdown",
      "metadata": {
        "id": "rg6uLmuuOwFM"
      },
      "source": [
        "## 讀取股價歷史資料"
      ]
    },
    {
      "cell_type": "code",
      "metadata": {
        "id": "OrQTZ4PCOusD"
      },
      "source": [
        "import requests\n",
        "import pandas_datareader.data as web\n",
        "headers={'user-agent':'Mozilla/5.0 (Windows NT 10.0; Win64; x64) AppleWebKit/537.36 (KHTML, like Gecko) Chrome/70.0.3538.77 Safari/537.36'}\n"
      ],
      "execution_count": null,
      "outputs": []
    },
    {
      "cell_type": "code",
      "metadata": {
        "id": "5mlXk1GEAbcu"
      },
      "source": [
        "\n",
        "s = requests.session()\n",
        "s.headers = headers\n",
        "\n",
        "df = web.DataReader('TSLA', 'yahoo', start='2010-01-01', session=s)"
      ],
      "execution_count": null,
      "outputs": []
    },
    {
      "cell_type": "code",
      "metadata": {
        "colab": {
          "base_uri": "https://localhost:8080/",
          "height": 235
        },
        "id": "AMXmnZl9O-yh",
        "outputId": "2191be6c-dd2f-4d6d-dd13-018a686df32a"
      },
      "source": [
        "with requests.session() as s:\n",
        "  s.headers=headers\n",
        "df=web.DataReader('TSLA','yahoo',start='2010-01-01',session=s)\n",
        "df.head()"
      ],
      "execution_count": null,
      "outputs": [
        {
          "output_type": "execute_result",
          "data": {
            "text/html": [
              "<div>\n",
              "<style scoped>\n",
              "    .dataframe tbody tr th:only-of-type {\n",
              "        vertical-align: middle;\n",
              "    }\n",
              "\n",
              "    .dataframe tbody tr th {\n",
              "        vertical-align: top;\n",
              "    }\n",
              "\n",
              "    .dataframe thead th {\n",
              "        text-align: right;\n",
              "    }\n",
              "</style>\n",
              "<table border=\"1\" class=\"dataframe\">\n",
              "  <thead>\n",
              "    <tr style=\"text-align: right;\">\n",
              "      <th></th>\n",
              "      <th>High</th>\n",
              "      <th>Low</th>\n",
              "      <th>Open</th>\n",
              "      <th>Close</th>\n",
              "      <th>Volume</th>\n",
              "      <th>Adj Close</th>\n",
              "    </tr>\n",
              "    <tr>\n",
              "      <th>Date</th>\n",
              "      <th></th>\n",
              "      <th></th>\n",
              "      <th></th>\n",
              "      <th></th>\n",
              "      <th></th>\n",
              "      <th></th>\n",
              "    </tr>\n",
              "  </thead>\n",
              "  <tbody>\n",
              "    <tr>\n",
              "      <th>2010-06-29</th>\n",
              "      <td>5.000</td>\n",
              "      <td>3.508</td>\n",
              "      <td>3.800</td>\n",
              "      <td>4.778</td>\n",
              "      <td>93831500.0</td>\n",
              "      <td>4.778</td>\n",
              "    </tr>\n",
              "    <tr>\n",
              "      <th>2010-06-30</th>\n",
              "      <td>6.084</td>\n",
              "      <td>4.660</td>\n",
              "      <td>5.158</td>\n",
              "      <td>4.766</td>\n",
              "      <td>85935500.0</td>\n",
              "      <td>4.766</td>\n",
              "    </tr>\n",
              "    <tr>\n",
              "      <th>2010-07-01</th>\n",
              "      <td>5.184</td>\n",
              "      <td>4.054</td>\n",
              "      <td>5.000</td>\n",
              "      <td>4.392</td>\n",
              "      <td>41094000.0</td>\n",
              "      <td>4.392</td>\n",
              "    </tr>\n",
              "    <tr>\n",
              "      <th>2010-07-02</th>\n",
              "      <td>4.620</td>\n",
              "      <td>3.742</td>\n",
              "      <td>4.600</td>\n",
              "      <td>3.840</td>\n",
              "      <td>25699000.0</td>\n",
              "      <td>3.840</td>\n",
              "    </tr>\n",
              "    <tr>\n",
              "      <th>2010-07-06</th>\n",
              "      <td>4.000</td>\n",
              "      <td>3.166</td>\n",
              "      <td>4.000</td>\n",
              "      <td>3.222</td>\n",
              "      <td>34334500.0</td>\n",
              "      <td>3.222</td>\n",
              "    </tr>\n",
              "  </tbody>\n",
              "</table>\n",
              "</div>"
            ],
            "text/plain": [
              "             High    Low   Open  Close      Volume  Adj Close\n",
              "Date                                                         \n",
              "2010-06-29  5.000  3.508  3.800  4.778  93831500.0      4.778\n",
              "2010-06-30  6.084  4.660  5.158  4.766  85935500.0      4.766\n",
              "2010-07-01  5.184  4.054  5.000  4.392  41094000.0      4.392\n",
              "2010-07-02  4.620  3.742  4.600  3.840  25699000.0      3.840\n",
              "2010-07-06  4.000  3.166  4.000  3.222  34334500.0      3.222"
            ]
          },
          "metadata": {},
          "execution_count": 11
        }
      ]
    },
    {
      "cell_type": "code",
      "metadata": {
        "colab": {
          "base_uri": "https://localhost:8080/",
          "height": 235
        },
        "id": "VCiTX9UTPPWf",
        "outputId": "ecd7283c-95c2-4c92-c820-6bf93bfeb87b"
      },
      "source": [
        "df.tail()"
      ],
      "execution_count": null,
      "outputs": [
        {
          "output_type": "execute_result",
          "data": {
            "text/html": [
              "<div>\n",
              "<style scoped>\n",
              "    .dataframe tbody tr th:only-of-type {\n",
              "        vertical-align: middle;\n",
              "    }\n",
              "\n",
              "    .dataframe tbody tr th {\n",
              "        vertical-align: top;\n",
              "    }\n",
              "\n",
              "    .dataframe thead th {\n",
              "        text-align: right;\n",
              "    }\n",
              "</style>\n",
              "<table border=\"1\" class=\"dataframe\">\n",
              "  <thead>\n",
              "    <tr style=\"text-align: right;\">\n",
              "      <th></th>\n",
              "      <th>High</th>\n",
              "      <th>Low</th>\n",
              "      <th>Open</th>\n",
              "      <th>Close</th>\n",
              "      <th>Volume</th>\n",
              "      <th>Adj Close</th>\n",
              "    </tr>\n",
              "    <tr>\n",
              "      <th>Date</th>\n",
              "      <th></th>\n",
              "      <th></th>\n",
              "      <th></th>\n",
              "      <th></th>\n",
              "      <th></th>\n",
              "      <th></th>\n",
              "    </tr>\n",
              "  </thead>\n",
              "  <tbody>\n",
              "    <tr>\n",
              "      <th>2021-09-08</th>\n",
              "      <td>764.450012</td>\n",
              "      <td>740.770020</td>\n",
              "      <td>761.580017</td>\n",
              "      <td>753.869995</td>\n",
              "      <td>18793000.0</td>\n",
              "      <td>753.869995</td>\n",
              "    </tr>\n",
              "    <tr>\n",
              "      <th>2021-09-09</th>\n",
              "      <td>762.099976</td>\n",
              "      <td>751.630005</td>\n",
              "      <td>753.409973</td>\n",
              "      <td>754.859985</td>\n",
              "      <td>14077700.0</td>\n",
              "      <td>754.859985</td>\n",
              "    </tr>\n",
              "    <tr>\n",
              "      <th>2021-09-10</th>\n",
              "      <td>762.609985</td>\n",
              "      <td>734.520020</td>\n",
              "      <td>759.599976</td>\n",
              "      <td>736.270020</td>\n",
              "      <td>15114300.0</td>\n",
              "      <td>736.270020</td>\n",
              "    </tr>\n",
              "    <tr>\n",
              "      <th>2021-09-13</th>\n",
              "      <td>744.780029</td>\n",
              "      <td>708.849976</td>\n",
              "      <td>740.210022</td>\n",
              "      <td>743.000000</td>\n",
              "      <td>22952500.0</td>\n",
              "      <td>743.000000</td>\n",
              "    </tr>\n",
              "    <tr>\n",
              "      <th>2021-09-14</th>\n",
              "      <td>754.469971</td>\n",
              "      <td>736.400024</td>\n",
              "      <td>742.570007</td>\n",
              "      <td>744.489990</td>\n",
              "      <td>18524881.0</td>\n",
              "      <td>744.489990</td>\n",
              "    </tr>\n",
              "  </tbody>\n",
              "</table>\n",
              "</div>"
            ],
            "text/plain": [
              "                  High         Low  ...      Volume   Adj Close\n",
              "Date                                ...                        \n",
              "2021-09-08  764.450012  740.770020  ...  18793000.0  753.869995\n",
              "2021-09-09  762.099976  751.630005  ...  14077700.0  754.859985\n",
              "2021-09-10  762.609985  734.520020  ...  15114300.0  736.270020\n",
              "2021-09-13  744.780029  708.849976  ...  22952500.0  743.000000\n",
              "2021-09-14  754.469971  736.400024  ...  18524881.0  744.489990\n",
              "\n",
              "[5 rows x 6 columns]"
            ]
          },
          "metadata": {},
          "execution_count": 8
        }
      ]
    },
    {
      "cell_type": "markdown",
      "metadata": {
        "id": "pvWgUhI7Pg8p"
      },
      "source": [
        "### 練習一\n",
        "\n",
        "請計算Tasla股價從上市第一天到現在漲了幾倍"
      ]
    },
    {
      "cell_type": "code",
      "metadata": {
        "colab": {
          "base_uri": "https://localhost:8080/"
        },
        "id": "hKO7HUTGP6dB",
        "outputId": "3c2839ec-e4c8-44d4-ff93-6d95b40abc6c"
      },
      "source": [
        "df['Close'][-1]/df['Close'][0]"
      ],
      "execution_count": null,
      "outputs": [
        {
          "output_type": "execute_result",
          "data": {
            "text/plain": [
              "154.0958640313479"
            ]
          },
          "metadata": {},
          "execution_count": 21
        }
      ]
    },
    {
      "cell_type": "markdown",
      "metadata": {
        "id": "z68BllnTRQCQ"
      },
      "source": [
        "### 練習二\n",
        "\n",
        "請計算TSLA從2010年以來，每一年的投資報酬率"
      ]
    },
    {
      "cell_type": "code",
      "metadata": {
        "colab": {
          "base_uri": "https://localhost:8080/"
        },
        "id": "AScR3tzNRor0",
        "outputId": "5879967c-7f86-47d4-86b9-df84c693bdef"
      },
      "source": [
        "df['2010']['Close'][-1]/df['2010']['Close'][0]"
      ],
      "execution_count": null,
      "outputs": [
        {
          "output_type": "execute_result",
          "data": {
            "text/plain": [
              "1.11469241307951"
            ]
          },
          "metadata": {},
          "execution_count": 36
        }
      ]
    },
    {
      "cell_type": "code",
      "metadata": {
        "colab": {
          "base_uri": "https://localhost:8080/"
        },
        "id": "tj_Cv9-bS4fB",
        "outputId": "4517ed61-1af2-492c-89fd-074f340dc3f9"
      },
      "source": [
        "for i in range(12):\n",
        " year=str(2010+i)\n",
        " ret=df[year]['Close'][-1]/df[year]['Close'][0]\n",
        " print(year,\"==>\",ret)"
      ],
      "execution_count": null,
      "outputs": [
        {
          "output_type": "stream",
          "name": "stdout",
          "text": [
            "2010 ==> 1.11469241307951\n",
            "2011 ==> 1.072877539455723\n",
            "2012 ==> 1.2061965733953064\n",
            "2013 ==> 4.2542421279559335\n",
            "2014 ==> 1.4817454285581042\n",
            "2015 ==> 1.0943869279954357\n",
            "2016 ==> 0.9564925410979382\n",
            "2017 ==> 1.4348587991500041\n",
            "2018 ==> 1.0382802646164202\n",
            "2019 ==> 1.3489294904017222\n",
            "2020 ==> 8.200506285659165\n",
            "2021 ==> 1.0089069156392245\n"
          ]
        }
      ]
    },
    {
      "cell_type": "markdown",
      "metadata": {
        "id": "9gsVmRBMV1PS"
      },
      "source": [
        "### 練習三\n",
        "\n",
        "請繪製TSLA從2020年至今的收盤價曲線\n"
      ]
    },
    {
      "cell_type": "code",
      "metadata": {
        "colab": {
          "base_uri": "https://localhost:8080/",
          "height": 294
        },
        "id": "4lJ6QS4CV_Yc",
        "outputId": "0526470c-91a5-4725-b552-ba1f266272ac"
      },
      "source": [
        "df['2020':]['Close'].plot()"
      ],
      "execution_count": null,
      "outputs": [
        {
          "output_type": "execute_result",
          "data": {
            "text/plain": [
              "<matplotlib.axes._subplots.AxesSubplot at 0x7f485f7d09d0>"
            ]
          },
          "metadata": {},
          "execution_count": 61
        },
        {
          "output_type": "display_data",
          "data": {
            "image/png": "[encoded data removed]",
            "text/plain": [
              "<Figure size 432x288 with 1 Axes>"
            ]
          },
          "metadata": {
            "needs_background": "light"
          }
        }
      ]
    },
    {
      "cell_type": "code",
      "metadata": {
        "id": "JpUtBy3hWSXl"
      },
      "source": [
        ""
      ],
      "execution_count": null,
      "outputs": []
    },
    {
      "cell_type": "markdown",
      "metadata": {
        "id": "SeO6DXcuWV6u"
      },
      "source": [
        "### 練習四\n",
        "\n",
        "請繪製TSLA從2021年至今的成交量長條讀"
      ]
    },
    {
      "cell_type": "code",
      "metadata": {
        "colab": {
          "base_uri": "https://localhost:8080/",
          "height": 402
        },
        "id": "QxPnuGjLWa-F",
        "outputId": "e5a528af-bc52-46ea-822f-7e873e79b22f"
      },
      "source": [
        "df['2021':]['Volume'].plot(kind='bar')"
      ],
      "execution_count": null,
      "outputs": [
        {
          "output_type": "execute_result",
          "data": {
            "text/plain": [
              "<matplotlib.axes._subplots.AxesSubplot at 0x7f485fffd790>"
            ]
          },
          "metadata": {},
          "execution_count": 59
        },
        {
          "output_type": "display_data",
          "data": {
            "image/png": "[encoded data removed]",
            "text/plain": [
              "<Figure size 432x288 with 1 Axes>"
            ]
          },
          "metadata": {
            "needs_background": "light"
          }
        }
      ]
    },
    {
      "cell_type": "markdown",
      "metadata": {
        "id": "vzlbsQMXWt9c"
      },
      "source": [
        "### 練習五\n",
        "\n",
        "請繪製TSLA從2021年至今的K線圖\n",
        "\n",
        "https://github.com/matplotlib/mplfinance\n",
        "\n"
      ]
    },
    {
      "cell_type": "code",
      "metadata": {
        "colab": {
          "base_uri": "https://localhost:8080/"
        },
        "id": "vQqZOEE8XflZ",
        "outputId": "b2215638-b311-476d-8b92-7964c7e05d0d"
      },
      "source": [
        "!pip install --upgrade mplfinance"
      ],
      "execution_count": null,
      "outputs": [
        {
          "output_type": "stream",
          "name": "stdout",
          "text": [
            "Requirement already satisfied: mplfinance in /usr/local/lib/python3.7/dist-packages (0.12.7a17)\n",
            "Requirement already satisfied: pandas in /usr/local/lib/python3.7/dist-packages (from mplfinance) (1.1.5)\n",
            "Requirement already satisfied: matplotlib in /usr/local/lib/python3.7/dist-packages (from mplfinance) (3.2.2)\n",
            "Requirement already satisfied: python-dateutil>=2.1 in /usr/local/lib/python3.7/dist-packages (from matplotlib->mplfinance) (2.8.2)\n",
            "Requirement already satisfied: numpy>=1.11 in /usr/local/lib/python3.7/dist-packages (from matplotlib->mplfinance) (1.19.5)\n",
            "Requirement already satisfied: cycler>=0.10 in /usr/local/lib/python3.7/dist-packages (from matplotlib->mplfinance) (0.10.0)\n",
            "Requirement already satisfied: pyparsing!=2.0.4,!=2.1.2,!=2.1.6,>=2.0.1 in /usr/local/lib/python3.7/dist-packages (from matplotlib->mplfinance) (2.4.7)\n",
            "Requirement already satisfied: kiwisolver>=1.0.1 in /usr/local/lib/python3.7/dist-packages (from matplotlib->mplfinance) (1.3.1)\n",
            "Requirement already satisfied: six in /usr/local/lib/python3.7/dist-packages (from cycler>=0.10->matplotlib->mplfinance) (1.15.0)\n",
            "Requirement already satisfied: pytz>=2017.2 in /usr/local/lib/python3.7/dist-packages (from pandas->mplfinance) (2018.9)\n"
          ]
        }
      ]
    },
    {
      "cell_type": "code",
      "metadata": {
        "id": "h2maYIn5YCYa"
      },
      "source": [
        "%config InlineBacken.figure_format='svg'"
      ],
      "execution_count": null,
      "outputs": []
    },
    {
      "cell_type": "code",
      "metadata": {
        "colab": {
          "base_uri": "https://localhost:8080/",
          "height": 492
        },
        "id": "wQx4DzVNXY5L",
        "outputId": "1678fa4a-aeae-478b-aa54-a201a970b964"
      },
      "source": [
        "import mplfinance as mpf\n",
        "mpf.plot(df['2021-06':],type='candle')"
      ],
      "execution_count": null,
      "outputs": [
        {
          "output_type": "display_data",
          "data": {
            "image/png": "[encoded data removed]",
            "text/plain": [
              "<Figure size 800x575 with 2 Axes>"
            ]
          },
          "metadata": {}
        }
      ]
    },
    {
      "cell_type": "markdown",
      "metadata": {
        "id": "hEGE5SZVYZCp"
      },
      "source": [
        "### 練習六\n",
        "\n",
        "請繪製TSLA最後30筆資料的K線圖"
      ]
    },
    {
      "cell_type": "code",
      "metadata": {
        "colab": {
          "base_uri": "https://localhost:8080/",
          "height": 967
        },
        "id": "Bh976suIYhDG",
        "outputId": "6d497964-629b-40aa-fe62-e312a2b56b08"
      },
      "source": [
        "import mplfinance as mpf\n",
        "mpf.plot(df.tail(30),type='candle')\n",
        "mpf.plot(df[-30:],type='candle')"
      ],
      "execution_count": null,
      "outputs": [
        {
          "output_type": "display_data",
          "data": {
            "image/png": "[encoded data removed]",
            "text/plain": [
              "<Figure size 800x575 with 2 Axes>"
            ]
          },
          "metadata": {}
        },
        {
          "output_type": "display_data",
          "data": {
            "image/png": "[encoded data removed]",
            "text/plain": [
              "<Figure size 800x575 with 2 Axes>"
            ]
          },
          "metadata": {}
        }
      ]
    },
    {
      "cell_type": "code",
      "metadata": {
        "id": "kiHXJRVSKvfv"
      },
      "source": [
        "import pandas as pd\n",
        "import numpy as np\n",
        "url=\"https://smart.tdcc.com.tw/opendata/getOD.ashx?id=1-5\""
      ],
      "execution_count": null,
      "outputs": []
    },
    {
      "cell_type": "code",
      "metadata": {
        "id": "Kq6t-JoiK0Kn"
      },
      "source": [
        "df=pd.read_csv(url)"
      ],
      "execution_count": null,
      "outputs": []
    },
    {
      "cell_type": "markdown",
      "metadata": {
        "id": "1crFmlEO29e6"
      },
      "source": [
        "##index的使用\n",
        "\n",
        "```python\n",
        "pd.read_csv(\"csv/jamesbond.csv\",index_col=\"Film\").head(2)\n",
        "#把film設成index\n",
        "boud.set_index(\"Film\" , inplace=True)\n",
        "  #列出=Goldfinger的資料\n",
        "  bond.loc[\"Goldfinger\"]\n",
        "  # 列出index第15比的資料\n",
        "  bond.iloc[15]\n",
        "#重置\n",
        "bond.reset_index(inplace=True)\n",
        "\n"
      ]
    },
    {
      "cell_type": "code",
      "metadata": {
        "id": "D1tj-r8EK6F5",
        "colab": {
          "base_uri": "https://localhost:8080/",
          "height": 318
        },
        "outputId": "0da53e44-e88e-49c4-c948-6d7fb68ee181"
      },
      "source": [
        "#把 證券代號 當作index\n",
        "df.set_index('證券代號',inplace=True)"
      ],
      "execution_count": null,
      "outputs": [
        {
          "output_type": "error",
          "ename": "KeyError",
          "evalue": "ignored",
          "traceback": [
            "\u001b[0;31m---------------------------------------------------------------------------\u001b[0m",
            "\u001b[0;31mKeyError\u001b[0m                                  Traceback (most recent call last)",
            "\u001b[0;32m<ipython-input-5-b3ef7ae29198>\u001b[0m in \u001b[0;36m<module>\u001b[0;34m()\u001b[0m\n\u001b[1;32m      1\u001b[0m \u001b[0;31m#把 證券代號 當作index\u001b[0m\u001b[0;34m\u001b[0m\u001b[0;34m\u001b[0m\u001b[0;34m\u001b[0m\u001b[0m\n\u001b[0;32m----> 2\u001b[0;31m \u001b[0mdf\u001b[0m\u001b[0;34m.\u001b[0m\u001b[0mset_index\u001b[0m\u001b[0;34m(\u001b[0m\u001b[0;34m'證券代號'\u001b[0m\u001b[0;34m,\u001b[0m\u001b[0minplace\u001b[0m\u001b[0;34m=\u001b[0m\u001b[0;32mTrue\u001b[0m\u001b[0;34m)\u001b[0m\u001b[0;34m\u001b[0m\u001b[0;34m\u001b[0m\u001b[0m\n\u001b[0m",
            "\u001b[0;32m/usr/local/lib/python3.7/dist-packages/pandas/core/frame.py\u001b[0m in \u001b[0;36mset_index\u001b[0;34m(self, keys, drop, append, inplace, verify_integrity)\u001b[0m\n\u001b[1;32m   4553\u001b[0m \u001b[0;34m\u001b[0m\u001b[0m\n\u001b[1;32m   4554\u001b[0m         \u001b[0;32mif\u001b[0m \u001b[0mmissing\u001b[0m\u001b[0;34m:\u001b[0m\u001b[0;34m\u001b[0m\u001b[0;34m\u001b[0m\u001b[0m\n\u001b[0;32m-> 4555\u001b[0;31m             \u001b[0;32mraise\u001b[0m \u001b[0mKeyError\u001b[0m\u001b[0;34m(\u001b[0m\u001b[0;34mf\"None of {missing} are in the columns\"\u001b[0m\u001b[0;34m)\u001b[0m\u001b[0;34m\u001b[0m\u001b[0;34m\u001b[0m\u001b[0m\n\u001b[0m\u001b[1;32m   4556\u001b[0m \u001b[0;34m\u001b[0m\u001b[0m\n\u001b[1;32m   4557\u001b[0m         \u001b[0;32mif\u001b[0m \u001b[0minplace\u001b[0m\u001b[0;34m:\u001b[0m\u001b[0;34m\u001b[0m\u001b[0;34m\u001b[0m\u001b[0m\n",
            "\u001b[0;31mKeyError\u001b[0m: \"None of ['證券代號'] are in the columns\""
          ]
        }
      ]
    },
    {
      "cell_type": "code",
      "metadata": {
        "id": "93RWGywb2fCG",
        "colab": {
          "base_uri": "https://localhost:8080/",
          "height": 454
        },
        "outputId": "6c91cb53-b89c-4889-f64b-bdb8e7d04e62"
      },
      "source": [
        "df"
      ],
      "execution_count": null,
      "outputs": [
        {
          "output_type": "execute_result",
          "data": {
            "text/html": [
              "<div>\n",
              "<style scoped>\n",
              "    .dataframe tbody tr th:only-of-type {\n",
              "        vertical-align: middle;\n",
              "    }\n",
              "\n",
              "    .dataframe tbody tr th {\n",
              "        vertical-align: top;\n",
              "    }\n",
              "\n",
              "    .dataframe thead th {\n",
              "        text-align: right;\n",
              "    }\n",
              "</style>\n",
              "<table border=\"1\" class=\"dataframe\">\n",
              "  <thead>\n",
              "    <tr style=\"text-align: right;\">\n",
              "      <th></th>\n",
              "      <th>資料日期</th>\n",
              "      <th>持股分級</th>\n",
              "      <th>人數</th>\n",
              "      <th>股數</th>\n",
              "      <th>占集保庫存數比例%</th>\n",
              "    </tr>\n",
              "    <tr>\n",
              "      <th>證券代號</th>\n",
              "      <th></th>\n",
              "      <th></th>\n",
              "      <th></th>\n",
              "      <th></th>\n",
              "      <th></th>\n",
              "    </tr>\n",
              "  </thead>\n",
              "  <tbody>\n",
              "    <tr>\n",
              "      <th>0050</th>\n",
              "      <td>20211001</td>\n",
              "      <td>1</td>\n",
              "      <td>209957</td>\n",
              "      <td>47001785</td>\n",
              "      <td>3.80</td>\n",
              "    </tr>\n",
              "    <tr>\n",
              "      <th>0050</th>\n",
              "      <td>20211001</td>\n",
              "      <td>2</td>\n",
              "      <td>110179</td>\n",
              "      <td>206972709</td>\n",
              "      <td>16.75</td>\n",
              "    </tr>\n",
              "    <tr>\n",
              "      <th>0050</th>\n",
              "      <td>20211001</td>\n",
              "      <td>3</td>\n",
              "      <td>10388</td>\n",
              "      <td>77862380</td>\n",
              "      <td>6.30</td>\n",
              "    </tr>\n",
              "    <tr>\n",
              "      <th>0050</th>\n",
              "      <td>20211001</td>\n",
              "      <td>4</td>\n",
              "      <td>2839</td>\n",
              "      <td>35747167</td>\n",
              "      <td>2.89</td>\n",
              "    </tr>\n",
              "    <tr>\n",
              "      <th>0050</th>\n",
              "      <td>20211001</td>\n",
              "      <td>5</td>\n",
              "      <td>1457</td>\n",
              "      <td>26319763</td>\n",
              "      <td>2.13</td>\n",
              "    </tr>\n",
              "    <tr>\n",
              "      <th>...</th>\n",
              "      <td>...</td>\n",
              "      <td>...</td>\n",
              "      <td>...</td>\n",
              "      <td>...</td>\n",
              "      <td>...</td>\n",
              "    </tr>\n",
              "    <tr>\n",
              "      <th>YY0080</th>\n",
              "      <td>20211001</td>\n",
              "      <td>13</td>\n",
              "      <td>0</td>\n",
              "      <td>0</td>\n",
              "      <td>0.00</td>\n",
              "    </tr>\n",
              "    <tr>\n",
              "      <th>YY0080</th>\n",
              "      <td>20211001</td>\n",
              "      <td>14</td>\n",
              "      <td>0</td>\n",
              "      <td>0</td>\n",
              "      <td>0.00</td>\n",
              "    </tr>\n",
              "    <tr>\n",
              "      <th>YY0080</th>\n",
              "      <td>20211001</td>\n",
              "      <td>15</td>\n",
              "      <td>0</td>\n",
              "      <td>0</td>\n",
              "      <td>0.00</td>\n",
              "    </tr>\n",
              "    <tr>\n",
              "      <th>YY0080</th>\n",
              "      <td>20211001</td>\n",
              "      <td>16</td>\n",
              "      <td>0</td>\n",
              "      <td>0</td>\n",
              "      <td>0.00</td>\n",
              "    </tr>\n",
              "    <tr>\n",
              "      <th>YY0080</th>\n",
              "      <td>20211001</td>\n",
              "      <td>17</td>\n",
              "      <td>314</td>\n",
              "      <td>901603</td>\n",
              "      <td>100.00</td>\n",
              "    </tr>\n",
              "  </tbody>\n",
              "</table>\n",
              "<p>51442 rows × 5 columns</p>\n",
              "</div>"
            ],
            "text/plain": [
              "            資料日期  持股分級      人數         股數  占集保庫存數比例%\n",
              "證券代號                                                \n",
              "0050    20211001     1  209957   47001785       3.80\n",
              "0050    20211001     2  110179  206972709      16.75\n",
              "0050    20211001     3   10388   77862380       6.30\n",
              "0050    20211001     4    2839   35747167       2.89\n",
              "0050    20211001     5    1457   26319763       2.13\n",
              "...          ...   ...     ...        ...        ...\n",
              "YY0080  20211001    13       0          0       0.00\n",
              "YY0080  20211001    14       0          0       0.00\n",
              "YY0080  20211001    15       0          0       0.00\n",
              "YY0080  20211001    16       0          0       0.00\n",
              "YY0080  20211001    17     314     901603     100.00\n",
              "\n",
              "[51442 rows x 5 columns]"
            ]
          },
          "metadata": {},
          "execution_count": 6
        }
      ]
    },
    {
      "cell_type": "markdown",
      "metadata": {
        "id": "opJG0SRQ44Ca"
      },
      "source": [
        ""
      ]
    },
    {
      "cell_type": "code",
      "metadata": {
        "colab": {
          "base_uri": "https://localhost:8080/",
          "height": 343
        },
        "id": "HFnotF0I09T3",
        "outputId": "7f26e486-998c-440b-a8b4-819f9596c373"
      },
      "source": [
        "# 找出index=0050所有資料\n",
        "df.loc['0050']"
      ],
      "execution_count": null,
      "outputs": [
        {
          "output_type": "error",
          "ename": "ValueError",
          "evalue": "ignored",
          "traceback": [
            "\u001b[0;31m---------------------------------------------------------------------------\u001b[0m",
            "\u001b[0;31mValueError\u001b[0m                                Traceback (most recent call last)",
            "\u001b[0;32m<ipython-input-151-b7804bd0523b>\u001b[0m in \u001b[0;36m<module>\u001b[0;34m()\u001b[0m\n\u001b[1;32m      1\u001b[0m \u001b[0;31m# 找出index=0050所有資料\u001b[0m\u001b[0;34m\u001b[0m\u001b[0;34m\u001b[0m\u001b[0;34m\u001b[0m\u001b[0m\n\u001b[0;32m----> 2\u001b[0;31m \u001b[0mdf\u001b[0m\u001b[0;34m[\u001b[0m\u001b[0mdf\u001b[0m\u001b[0;34m.\u001b[0m\u001b[0mloc\u001b[0m\u001b[0;34m[\u001b[0m\u001b[0;34m'0050'\u001b[0m\u001b[0;34m]\u001b[0m\u001b[0;34m]\u001b[0m\u001b[0;34m\u001b[0m\u001b[0;34m\u001b[0m\u001b[0m\n\u001b[0m",
            "\u001b[0;32m/usr/local/lib/python3.7/dist-packages/pandas/core/frame.py\u001b[0m in \u001b[0;36m__getitem__\u001b[0;34m(self, key)\u001b[0m\n\u001b[1;32m   2891\u001b[0m         \u001b[0;31m# Do we have a (boolean) DataFrame?\u001b[0m\u001b[0;34m\u001b[0m\u001b[0;34m\u001b[0m\u001b[0;34m\u001b[0m\u001b[0m\n\u001b[1;32m   2892\u001b[0m         \u001b[0;32mif\u001b[0m \u001b[0misinstance\u001b[0m\u001b[0;34m(\u001b[0m\u001b[0mkey\u001b[0m\u001b[0;34m,\u001b[0m \u001b[0mDataFrame\u001b[0m\u001b[0;34m)\u001b[0m\u001b[0;34m:\u001b[0m\u001b[0;34m\u001b[0m\u001b[0;34m\u001b[0m\u001b[0m\n\u001b[0;32m-> 2893\u001b[0;31m             \u001b[0;32mreturn\u001b[0m \u001b[0mself\u001b[0m\u001b[0;34m.\u001b[0m\u001b[0mwhere\u001b[0m\u001b[0;34m(\u001b[0m\u001b[0mkey\u001b[0m\u001b[0;34m)\u001b[0m\u001b[0;34m\u001b[0m\u001b[0;34m\u001b[0m\u001b[0m\n\u001b[0m\u001b[1;32m   2894\u001b[0m \u001b[0;34m\u001b[0m\u001b[0m\n\u001b[1;32m   2895\u001b[0m         \u001b[0;31m# Do we have a (boolean) 1d indexer?\u001b[0m\u001b[0;34m\u001b[0m\u001b[0;34m\u001b[0m\u001b[0;34m\u001b[0m\u001b[0m\n",
            "\u001b[0;32m/usr/local/lib/python3.7/dist-packages/pandas/core/generic.py\u001b[0m in \u001b[0;36mwhere\u001b[0;34m(self, cond, other, inplace, axis, level, errors, try_cast)\u001b[0m\n\u001b[1;32m   9009\u001b[0m         \u001b[0mother\u001b[0m \u001b[0;34m=\u001b[0m \u001b[0mcom\u001b[0m\u001b[0;34m.\u001b[0m\u001b[0mapply_if_callable\u001b[0m\u001b[0;34m(\u001b[0m\u001b[0mother\u001b[0m\u001b[0;34m,\u001b[0m \u001b[0mself\u001b[0m\u001b[0;34m)\u001b[0m\u001b[0;34m\u001b[0m\u001b[0;34m\u001b[0m\u001b[0m\n\u001b[1;32m   9010\u001b[0m         return self._where(\n\u001b[0;32m-> 9011\u001b[0;31m             \u001b[0mcond\u001b[0m\u001b[0;34m,\u001b[0m \u001b[0mother\u001b[0m\u001b[0;34m,\u001b[0m \u001b[0minplace\u001b[0m\u001b[0;34m,\u001b[0m \u001b[0maxis\u001b[0m\u001b[0;34m,\u001b[0m \u001b[0mlevel\u001b[0m\u001b[0;34m,\u001b[0m \u001b[0merrors\u001b[0m\u001b[0;34m=\u001b[0m\u001b[0merrors\u001b[0m\u001b[0;34m,\u001b[0m \u001b[0mtry_cast\u001b[0m\u001b[0;34m=\u001b[0m\u001b[0mtry_cast\u001b[0m\u001b[0;34m\u001b[0m\u001b[0;34m\u001b[0m\u001b[0m\n\u001b[0m\u001b[1;32m   9012\u001b[0m         )\n\u001b[1;32m   9013\u001b[0m \u001b[0;34m\u001b[0m\u001b[0m\n",
            "\u001b[0;32m/usr/local/lib/python3.7/dist-packages/pandas/core/generic.py\u001b[0m in \u001b[0;36m_where\u001b[0;34m(self, cond, other, inplace, axis, level, errors, try_cast)\u001b[0m\n\u001b[1;32m   8770\u001b[0m                 \u001b[0;32mfor\u001b[0m \u001b[0mdt\u001b[0m \u001b[0;32min\u001b[0m \u001b[0mcond\u001b[0m\u001b[0;34m.\u001b[0m\u001b[0mdtypes\u001b[0m\u001b[0;34m:\u001b[0m\u001b[0;34m\u001b[0m\u001b[0;34m\u001b[0m\u001b[0m\n\u001b[1;32m   8771\u001b[0m                     \u001b[0;32mif\u001b[0m \u001b[0;32mnot\u001b[0m \u001b[0mis_bool_dtype\u001b[0m\u001b[0;34m(\u001b[0m\u001b[0mdt\u001b[0m\u001b[0;34m)\u001b[0m\u001b[0;34m:\u001b[0m\u001b[0;34m\u001b[0m\u001b[0;34m\u001b[0m\u001b[0m\n\u001b[0;32m-> 8772\u001b[0;31m                         \u001b[0;32mraise\u001b[0m \u001b[0mValueError\u001b[0m\u001b[0;34m(\u001b[0m\u001b[0mmsg\u001b[0m\u001b[0;34m.\u001b[0m\u001b[0mformat\u001b[0m\u001b[0;34m(\u001b[0m\u001b[0mdtype\u001b[0m\u001b[0;34m=\u001b[0m\u001b[0mdt\u001b[0m\u001b[0;34m)\u001b[0m\u001b[0;34m)\u001b[0m\u001b[0;34m\u001b[0m\u001b[0;34m\u001b[0m\u001b[0m\n\u001b[0m\u001b[1;32m   8773\u001b[0m         \u001b[0;32melse\u001b[0m\u001b[0;34m:\u001b[0m\u001b[0;34m\u001b[0m\u001b[0;34m\u001b[0m\u001b[0m\n\u001b[1;32m   8774\u001b[0m             \u001b[0;31m# GH#21947 we have an empty DataFrame/Series, could be object-dtype\u001b[0m\u001b[0;34m\u001b[0m\u001b[0;34m\u001b[0m\u001b[0;34m\u001b[0m\u001b[0m\n",
            "\u001b[0;31mValueError\u001b[0m: Boolean array expected for the condition, not object"
          ]
        }
      ]
    },
    {
      "cell_type": "code",
      "metadata": {
        "colab": {
          "base_uri": "https://localhost:8080/",
          "height": 576
        },
        "id": "pFngP4mOsdgN",
        "outputId": "59867f1a-8179-49e0-c5d5-9080509ed4f4"
      },
      "source": [
        "#找出 df證券代號所有等於0050的資料\n",
        "df1=df[df['證券代號']=='0050']\n",
        "df1"
      ],
      "execution_count": null,
      "outputs": [
        {
          "output_type": "execute_result",
          "data": {
            "text/html": [
              "<div>\n",
              "<style scoped>\n",
              "    .dataframe tbody tr th:only-of-type {\n",
              "        vertical-align: middle;\n",
              "    }\n",
              "\n",
              "    .dataframe tbody tr th {\n",
              "        vertical-align: top;\n",
              "    }\n",
              "\n",
              "    .dataframe thead th {\n",
              "        text-align: right;\n",
              "    }\n",
              "</style>\n",
              "<table border=\"1\" class=\"dataframe\">\n",
              "  <thead>\n",
              "    <tr style=\"text-align: right;\">\n",
              "      <th></th>\n",
              "      <th>資料日期</th>\n",
              "      <th>證券代號</th>\n",
              "      <th>持股分級</th>\n",
              "      <th>人數</th>\n",
              "      <th>股數</th>\n",
              "      <th>占集保庫存數比例%</th>\n",
              "    </tr>\n",
              "  </thead>\n",
              "  <tbody>\n",
              "    <tr>\n",
              "      <th>0</th>\n",
              "      <td>20210917</td>\n",
              "      <td>0050</td>\n",
              "      <td>1</td>\n",
              "      <td>204160</td>\n",
              "      <td>45145904</td>\n",
              "      <td>3.44</td>\n",
              "    </tr>\n",
              "    <tr>\n",
              "      <th>1</th>\n",
              "      <td>20210917</td>\n",
              "      <td>0050</td>\n",
              "      <td>2</td>\n",
              "      <td>101747</td>\n",
              "      <td>191459198</td>\n",
              "      <td>14.59</td>\n",
              "    </tr>\n",
              "    <tr>\n",
              "      <th>2</th>\n",
              "      <td>20210917</td>\n",
              "      <td>0050</td>\n",
              "      <td>3</td>\n",
              "      <td>9635</td>\n",
              "      <td>72221808</td>\n",
              "      <td>5.50</td>\n",
              "    </tr>\n",
              "    <tr>\n",
              "      <th>3</th>\n",
              "      <td>20210917</td>\n",
              "      <td>0050</td>\n",
              "      <td>4</td>\n",
              "      <td>2672</td>\n",
              "      <td>33660822</td>\n",
              "      <td>2.56</td>\n",
              "    </tr>\n",
              "    <tr>\n",
              "      <th>4</th>\n",
              "      <td>20210917</td>\n",
              "      <td>0050</td>\n",
              "      <td>5</td>\n",
              "      <td>1404</td>\n",
              "      <td>25314129</td>\n",
              "      <td>1.93</td>\n",
              "    </tr>\n",
              "    <tr>\n",
              "      <th>5</th>\n",
              "      <td>20210917</td>\n",
              "      <td>0050</td>\n",
              "      <td>6</td>\n",
              "      <td>1127</td>\n",
              "      <td>28041374</td>\n",
              "      <td>2.13</td>\n",
              "    </tr>\n",
              "    <tr>\n",
              "      <th>6</th>\n",
              "      <td>20210917</td>\n",
              "      <td>0050</td>\n",
              "      <td>7</td>\n",
              "      <td>464</td>\n",
              "      <td>16323204</td>\n",
              "      <td>1.24</td>\n",
              "    </tr>\n",
              "    <tr>\n",
              "      <th>7</th>\n",
              "      <td>20210917</td>\n",
              "      <td>0050</td>\n",
              "      <td>8</td>\n",
              "      <td>244</td>\n",
              "      <td>11236340</td>\n",
              "      <td>0.85</td>\n",
              "    </tr>\n",
              "    <tr>\n",
              "      <th>8</th>\n",
              "      <td>20210917</td>\n",
              "      <td>0050</td>\n",
              "      <td>9</td>\n",
              "      <td>463</td>\n",
              "      <td>32515835</td>\n",
              "      <td>2.47</td>\n",
              "    </tr>\n",
              "    <tr>\n",
              "      <th>9</th>\n",
              "      <td>20210917</td>\n",
              "      <td>0050</td>\n",
              "      <td>10</td>\n",
              "      <td>165</td>\n",
              "      <td>23456699</td>\n",
              "      <td>1.78</td>\n",
              "    </tr>\n",
              "    <tr>\n",
              "      <th>10</th>\n",
              "      <td>20210917</td>\n",
              "      <td>0050</td>\n",
              "      <td>11</td>\n",
              "      <td>75</td>\n",
              "      <td>21130822</td>\n",
              "      <td>1.61</td>\n",
              "    </tr>\n",
              "    <tr>\n",
              "      <th>11</th>\n",
              "      <td>20210917</td>\n",
              "      <td>0050</td>\n",
              "      <td>12</td>\n",
              "      <td>23</td>\n",
              "      <td>11259578</td>\n",
              "      <td>0.85</td>\n",
              "    </tr>\n",
              "    <tr>\n",
              "      <th>12</th>\n",
              "      <td>20210917</td>\n",
              "      <td>0050</td>\n",
              "      <td>13</td>\n",
              "      <td>10</td>\n",
              "      <td>6937616</td>\n",
              "      <td>0.52</td>\n",
              "    </tr>\n",
              "    <tr>\n",
              "      <th>13</th>\n",
              "      <td>20210917</td>\n",
              "      <td>0050</td>\n",
              "      <td>14</td>\n",
              "      <td>9</td>\n",
              "      <td>8208115</td>\n",
              "      <td>0.62</td>\n",
              "    </tr>\n",
              "    <tr>\n",
              "      <th>14</th>\n",
              "      <td>20210917</td>\n",
              "      <td>0050</td>\n",
              "      <td>15</td>\n",
              "      <td>59</td>\n",
              "      <td>784588556</td>\n",
              "      <td>59.82</td>\n",
              "    </tr>\n",
              "    <tr>\n",
              "      <th>15</th>\n",
              "      <td>20210917</td>\n",
              "      <td>0050</td>\n",
              "      <td>16</td>\n",
              "      <td>0</td>\n",
              "      <td>0</td>\n",
              "      <td>0.00</td>\n",
              "    </tr>\n",
              "    <tr>\n",
              "      <th>16</th>\n",
              "      <td>20210917</td>\n",
              "      <td>0050</td>\n",
              "      <td>17</td>\n",
              "      <td>322257</td>\n",
              "      <td>1311500000</td>\n",
              "      <td>100.00</td>\n",
              "    </tr>\n",
              "  </tbody>\n",
              "</table>\n",
              "</div>"
            ],
            "text/plain": [
              "        資料日期  證券代號  持股分級      人數          股數  占集保庫存數比例%\n",
              "0   20210917  0050     1  204160    45145904       3.44\n",
              "1   20210917  0050     2  101747   191459198      14.59\n",
              "2   20210917  0050     3    9635    72221808       5.50\n",
              "3   20210917  0050     4    2672    33660822       2.56\n",
              "4   20210917  0050     5    1404    25314129       1.93\n",
              "5   20210917  0050     6    1127    28041374       2.13\n",
              "6   20210917  0050     7     464    16323204       1.24\n",
              "7   20210917  0050     8     244    11236340       0.85\n",
              "8   20210917  0050     9     463    32515835       2.47\n",
              "9   20210917  0050    10     165    23456699       1.78\n",
              "10  20210917  0050    11      75    21130822       1.61\n",
              "11  20210917  0050    12      23    11259578       0.85\n",
              "12  20210917  0050    13      10     6937616       0.52\n",
              "13  20210917  0050    14       9     8208115       0.62\n",
              "14  20210917  0050    15      59   784588556      59.82\n",
              "15  20210917  0050    16       0           0       0.00\n",
              "16  20210917  0050    17  322257  1311500000     100.00"
            ]
          },
          "metadata": {},
          "execution_count": 182
        }
      ]
    },
    {
      "cell_type": "code",
      "metadata": {
        "colab": {
          "base_uri": "https://localhost:8080/"
        },
        "id": "2CI9mPG2PGtX",
        "outputId": "9bfab4c7-9870-4382-922b-92fb6f418726"
      },
      "source": [
        "df1=df[df['證券代號']=='0050']['人數'].tolist()\n",
        "df1"
      ],
      "execution_count": null,
      "outputs": [
        {
          "output_type": "execute_result",
          "data": {
            "text/plain": [
              "[204160,\n",
              " 101747,\n",
              " 9635,\n",
              " 2672,\n",
              " 1404,\n",
              " 1127,\n",
              " 464,\n",
              " 244,\n",
              " 463,\n",
              " 165,\n",
              " 75,\n",
              " 23,\n",
              " 10,\n",
              " 9,\n",
              " 59,\n",
              " 0,\n",
              " 322257]"
            ]
          },
          "metadata": {},
          "execution_count": 187
        }
      ]
    },
    {
      "cell_type": "markdown",
      "metadata": {
        "id": "w6USWrtb5Ucu"
      },
      "source": [
        "## DataFrame .sum()"
      ]
    },
    {
      "cell_type": "code",
      "metadata": {
        "colab": {
          "base_uri": "https://localhost:8080/"
        },
        "id": "v-OfPDFm_tn6",
        "outputId": "8107006d-78cb-479d-c0d6-144843696b55"
      },
      "source": [
        "# 合計\n",
        "df[ (df['證券代號']=='0050') & (df['持股分級']<16) ]['股數'].sum()"
      ],
      "execution_count": null,
      "outputs": [
        {
          "output_type": "execute_result",
          "data": {
            "text/plain": [
              "1311500000"
            ]
          },
          "metadata": {},
          "execution_count": 54
        }
      ]
    },
    {
      "cell_type": "markdown",
      "metadata": {
        "id": "Yv1jP3O--lrX"
      },
      "source": [
        "## DataFrame更改值"
      ]
    },
    {
      "cell_type": "code",
      "metadata": {
        "colab": {
          "base_uri": "https://localhost:8080/",
          "height": 173
        },
        "id": "kPPer4yq-tXz",
        "outputId": "5865a958-2ec8-454a-e254-a0e9eac8928c"
      },
      "source": [
        "import pandas as pd\n",
        "df1 = pd.DataFrame([['Snow','M',22],['Tyrion','M',32],['Sansa','F',18],['Arya','F',14]], columns=['name','gender','age'])\n",
        "df1"
      ],
      "execution_count": null,
      "outputs": [
        {
          "output_type": "execute_result",
          "data": {
            "text/html": [
              "<div>\n",
              "<style scoped>\n",
              "    .dataframe tbody tr th:only-of-type {\n",
              "        vertical-align: middle;\n",
              "    }\n",
              "\n",
              "    .dataframe tbody tr th {\n",
              "        vertical-align: top;\n",
              "    }\n",
              "\n",
              "    .dataframe thead th {\n",
              "        text-align: right;\n",
              "    }\n",
              "</style>\n",
              "<table border=\"1\" class=\"dataframe\">\n",
              "  <thead>\n",
              "    <tr style=\"text-align: right;\">\n",
              "      <th></th>\n",
              "      <th>name</th>\n",
              "      <th>gender</th>\n",
              "      <th>age</th>\n",
              "    </tr>\n",
              "  </thead>\n",
              "  <tbody>\n",
              "    <tr>\n",
              "      <th>0</th>\n",
              "      <td>Snow</td>\n",
              "      <td>M</td>\n",
              "      <td>22</td>\n",
              "    </tr>\n",
              "    <tr>\n",
              "      <th>1</th>\n",
              "      <td>Tyrion</td>\n",
              "      <td>M</td>\n",
              "      <td>32</td>\n",
              "    </tr>\n",
              "    <tr>\n",
              "      <th>2</th>\n",
              "      <td>Sansa</td>\n",
              "      <td>F</td>\n",
              "      <td>18</td>\n",
              "    </tr>\n",
              "    <tr>\n",
              "      <th>3</th>\n",
              "      <td>Arya</td>\n",
              "      <td>F</td>\n",
              "      <td>14</td>\n",
              "    </tr>\n",
              "  </tbody>\n",
              "</table>\n",
              "</div>"
            ],
            "text/plain": [
              "     name gender  age\n",
              "0    Snow      M   22\n",
              "1  Tyrion      M   32\n",
              "2   Sansa      F   18\n",
              "3    Arya      F   14"
            ]
          },
          "metadata": {},
          "execution_count": 109
        }
      ]
    },
    {
      "cell_type": "code",
      "metadata": {
        "colab": {
          "base_uri": "https://localhost:8080/",
          "height": 173
        },
        "id": "YRQ3Fuq_-Mfy",
        "outputId": "606778f5-45e0-4dd7-ae10-0baeb2da6014"
      },
      "source": [
        "# loc和iloc 可以更换单行、单列、多行、多列的值\n",
        "df1.loc[0,'age']=25      # 思路：先用loc找到要更改的值，再用赋值（=）的方法实现更换值\n",
        "df1.iloc[0,2]=25         # iloc：用索引位置来查找\n",
        "\n",
        "# at 、iat只能更换单个值\n",
        "df1.at[0,'age']=25      # iat 用来取某个单值,参数只能用数字索引\n",
        "df1.iat[0,2]=25         # at 用来取某个单值,参数只能用index和columns索引名称\n",
        "df1"
      ],
      "execution_count": null,
      "outputs": [
        {
          "output_type": "execute_result",
          "data": {
            "text/html": [
              "<div>\n",
              "<style scoped>\n",
              "    .dataframe tbody tr th:only-of-type {\n",
              "        vertical-align: middle;\n",
              "    }\n",
              "\n",
              "    .dataframe tbody tr th {\n",
              "        vertical-align: top;\n",
              "    }\n",
              "\n",
              "    .dataframe thead th {\n",
              "        text-align: right;\n",
              "    }\n",
              "</style>\n",
              "<table border=\"1\" class=\"dataframe\">\n",
              "  <thead>\n",
              "    <tr style=\"text-align: right;\">\n",
              "      <th></th>\n",
              "      <th>name</th>\n",
              "      <th>gender</th>\n",
              "      <th>age</th>\n",
              "    </tr>\n",
              "  </thead>\n",
              "  <tbody>\n",
              "    <tr>\n",
              "      <th>0</th>\n",
              "      <td>Snow</td>\n",
              "      <td>M</td>\n",
              "      <td>25</td>\n",
              "    </tr>\n",
              "    <tr>\n",
              "      <th>1</th>\n",
              "      <td>Tyrion</td>\n",
              "      <td>M</td>\n",
              "      <td>32</td>\n",
              "    </tr>\n",
              "    <tr>\n",
              "      <th>2</th>\n",
              "      <td>Sansa</td>\n",
              "      <td>F</td>\n",
              "      <td>18</td>\n",
              "    </tr>\n",
              "    <tr>\n",
              "      <th>3</th>\n",
              "      <td>Arya</td>\n",
              "      <td>F</td>\n",
              "      <td>14</td>\n",
              "    </tr>\n",
              "  </tbody>\n",
              "</table>\n",
              "</div>"
            ],
            "text/plain": [
              "     name gender  age\n",
              "0    Snow      M   25\n",
              "1  Tyrion      M   32\n",
              "2   Sansa      F   18\n",
              "3    Arya      F   14"
            ]
          },
          "metadata": {},
          "execution_count": 110
        }
      ]
    },
    {
      "cell_type": "markdown",
      "metadata": {
        "id": "uYQwYYdk-xPz"
      },
      "source": [
        "## DataFrame新增攔"
      ]
    },
    {
      "cell_type": "code",
      "metadata": {
        "colab": {
          "base_uri": "https://localhost:8080/",
          "height": 173
        },
        "id": "tb9hOtEz_AIC",
        "outputId": "7528d965-253f-4b6a-9e87-236a0d6c17b6"
      },
      "source": [
        "df1 = pd.DataFrame([['Snow','M',22],['Tyrion','M',32],['Sansa','F',18],['Arya','F',14]], columns=['name','gender','age'])\n",
        "df1"
      ],
      "execution_count": null,
      "outputs": [
        {
          "output_type": "execute_result",
          "data": {
            "text/html": [
              "<div>\n",
              "<style scoped>\n",
              "    .dataframe tbody tr th:only-of-type {\n",
              "        vertical-align: middle;\n",
              "    }\n",
              "\n",
              "    .dataframe tbody tr th {\n",
              "        vertical-align: top;\n",
              "    }\n",
              "\n",
              "    .dataframe thead th {\n",
              "        text-align: right;\n",
              "    }\n",
              "</style>\n",
              "<table border=\"1\" class=\"dataframe\">\n",
              "  <thead>\n",
              "    <tr style=\"text-align: right;\">\n",
              "      <th></th>\n",
              "      <th>name</th>\n",
              "      <th>gender</th>\n",
              "      <th>age</th>\n",
              "    </tr>\n",
              "  </thead>\n",
              "  <tbody>\n",
              "    <tr>\n",
              "      <th>0</th>\n",
              "      <td>Snow</td>\n",
              "      <td>M</td>\n",
              "      <td>22</td>\n",
              "    </tr>\n",
              "    <tr>\n",
              "      <th>1</th>\n",
              "      <td>Tyrion</td>\n",
              "      <td>M</td>\n",
              "      <td>32</td>\n",
              "    </tr>\n",
              "    <tr>\n",
              "      <th>2</th>\n",
              "      <td>Sansa</td>\n",
              "      <td>F</td>\n",
              "      <td>18</td>\n",
              "    </tr>\n",
              "    <tr>\n",
              "      <th>3</th>\n",
              "      <td>Arya</td>\n",
              "      <td>F</td>\n",
              "      <td>14</td>\n",
              "    </tr>\n",
              "  </tbody>\n",
              "</table>\n",
              "</div>"
            ],
            "text/plain": [
              "     name gender  age\n",
              "0    Snow      M   22\n",
              "1  Tyrion      M   32\n",
              "2   Sansa      F   18\n",
              "3    Arya      F   14"
            ]
          },
          "metadata": {},
          "execution_count": 115
        }
      ]
    },
    {
      "cell_type": "markdown",
      "metadata": {
        "id": "jB4AujBjAjNg"
      },
      "source": [
        "### 直接新增"
      ]
    },
    {
      "cell_type": "code",
      "metadata": {
        "colab": {
          "base_uri": "https://localhost:8080/",
          "height": 173
        },
        "id": "MpQafP_7_FLg",
        "outputId": "fc414413-0573-4f03-bea7-48c1514e39f5"
      },
      "source": [
        "#直接新增一攔 score並輸入值\n",
        "df1['score']=[80,98,67,90]\n",
        "df1"
      ],
      "execution_count": null,
      "outputs": [
        {
          "output_type": "execute_result",
          "data": {
            "text/html": [
              "<div>\n",
              "<style scoped>\n",
              "    .dataframe tbody tr th:only-of-type {\n",
              "        vertical-align: middle;\n",
              "    }\n",
              "\n",
              "    .dataframe tbody tr th {\n",
              "        vertical-align: top;\n",
              "    }\n",
              "\n",
              "    .dataframe thead th {\n",
              "        text-align: right;\n",
              "    }\n",
              "</style>\n",
              "<table border=\"1\" class=\"dataframe\">\n",
              "  <thead>\n",
              "    <tr style=\"text-align: right;\">\n",
              "      <th></th>\n",
              "      <th>name</th>\n",
              "      <th>gender</th>\n",
              "      <th>age</th>\n",
              "      <th>score</th>\n",
              "    </tr>\n",
              "  </thead>\n",
              "  <tbody>\n",
              "    <tr>\n",
              "      <th>0</th>\n",
              "      <td>Snow</td>\n",
              "      <td>M</td>\n",
              "      <td>22</td>\n",
              "      <td>80</td>\n",
              "    </tr>\n",
              "    <tr>\n",
              "      <th>1</th>\n",
              "      <td>Tyrion</td>\n",
              "      <td>M</td>\n",
              "      <td>32</td>\n",
              "      <td>98</td>\n",
              "    </tr>\n",
              "    <tr>\n",
              "      <th>2</th>\n",
              "      <td>Sansa</td>\n",
              "      <td>F</td>\n",
              "      <td>18</td>\n",
              "      <td>67</td>\n",
              "    </tr>\n",
              "    <tr>\n",
              "      <th>3</th>\n",
              "      <td>Arya</td>\n",
              "      <td>F</td>\n",
              "      <td>14</td>\n",
              "      <td>90</td>\n",
              "    </tr>\n",
              "  </tbody>\n",
              "</table>\n",
              "</div>"
            ],
            "text/plain": [
              "     name gender  age  score\n",
              "0    Snow      M   22     80\n",
              "1  Tyrion      M   32     98\n",
              "2   Sansa      F   18     67\n",
              "3    Arya      F   14     90"
            ]
          },
          "metadata": {},
          "execution_count": 116
        }
      ]
    },
    {
      "cell_type": "markdown",
      "metadata": {
        "id": "gxgOttsuAmn-"
      },
      "source": [
        "### insert 新增插入攔"
      ]
    },
    {
      "cell_type": "code",
      "metadata": {
        "colab": {
          "base_uri": "https://localhost:8080/"
        },
        "id": "hfSj0HEY-ORa",
        "outputId": "15745e09-17fd-4fad-f100-3606156ceae4"
      },
      "source": [
        "col_name=df1.columns.tolist() # 将数据框的列名全部提取出来存放在列表里\n",
        "col_name\n"
      ],
      "execution_count": null,
      "outputs": [
        {
          "output_type": "execute_result",
          "data": {
            "text/plain": [
              "['name', 'gender', 'city', 'age', 'score']"
            ]
          },
          "metadata": {},
          "execution_count": 120
        }
      ]
    },
    {
      "cell_type": "code",
      "metadata": {
        "colab": {
          "base_uri": "https://localhost:8080/",
          "height": 173
        },
        "id": "tDEJFJhwALmo",
        "outputId": "f838519f-a72b-4015-ca02-cbd60ff2bfa8"
      },
      "source": [
        "# insert 在指標2 插入一攔city 值=NaN\n",
        "col_name.insert(2,'city')   # 在列索引为2的位置插入一列,列名为:city，刚插入时不会有值，整列都是NaN\n",
        "df1=df1.reindex(columns=col_name)  # DataFrame.reindex() 对原行/列索引重新构建索引值\n",
        "df1"
      ],
      "execution_count": null,
      "outputs": [
        {
          "output_type": "execute_result",
          "data": {
            "text/html": [
              "<div>\n",
              "<style scoped>\n",
              "    .dataframe tbody tr th:only-of-type {\n",
              "        vertical-align: middle;\n",
              "    }\n",
              "\n",
              "    .dataframe tbody tr th {\n",
              "        vertical-align: top;\n",
              "    }\n",
              "\n",
              "    .dataframe thead th {\n",
              "        text-align: right;\n",
              "    }\n",
              "</style>\n",
              "<table border=\"1\" class=\"dataframe\">\n",
              "  <thead>\n",
              "    <tr style=\"text-align: right;\">\n",
              "      <th></th>\n",
              "      <th>name</th>\n",
              "      <th>gender</th>\n",
              "      <th>city</th>\n",
              "      <th>age</th>\n",
              "      <th>score</th>\n",
              "    </tr>\n",
              "  </thead>\n",
              "  <tbody>\n",
              "    <tr>\n",
              "      <th>0</th>\n",
              "      <td>Snow</td>\n",
              "      <td>M</td>\n",
              "      <td>NaN</td>\n",
              "      <td>22</td>\n",
              "      <td>80</td>\n",
              "    </tr>\n",
              "    <tr>\n",
              "      <th>1</th>\n",
              "      <td>Tyrion</td>\n",
              "      <td>M</td>\n",
              "      <td>NaN</td>\n",
              "      <td>32</td>\n",
              "      <td>98</td>\n",
              "    </tr>\n",
              "    <tr>\n",
              "      <th>2</th>\n",
              "      <td>Sansa</td>\n",
              "      <td>F</td>\n",
              "      <td>NaN</td>\n",
              "      <td>18</td>\n",
              "      <td>67</td>\n",
              "    </tr>\n",
              "    <tr>\n",
              "      <th>3</th>\n",
              "      <td>Arya</td>\n",
              "      <td>F</td>\n",
              "      <td>NaN</td>\n",
              "      <td>14</td>\n",
              "      <td>90</td>\n",
              "    </tr>\n",
              "  </tbody>\n",
              "</table>\n",
              "</div>"
            ],
            "text/plain": [
              "     name gender  city  age  score\n",
              "0    Snow      M   NaN   22     80\n",
              "1  Tyrion      M   NaN   32     98\n",
              "2   Sansa      F   NaN   18     67\n",
              "3    Arya      F   NaN   14     90"
            ]
          },
          "metadata": {},
          "execution_count": 118
        }
      ]
    },
    {
      "cell_type": "code",
      "metadata": {
        "colab": {
          "base_uri": "https://localhost:8080/",
          "height": 173
        },
        "id": "4boYrul7APf2",
        "outputId": "526ade62-252a-47f5-ad4c-9f28b1a466d0"
      },
      "source": [
        "df1['city']=['北京','山西','湖北','澳门'] # 给city列赋值\n",
        "df1"
      ],
      "execution_count": null,
      "outputs": [
        {
          "output_type": "execute_result",
          "data": {
            "text/html": [
              "<div>\n",
              "<style scoped>\n",
              "    .dataframe tbody tr th:only-of-type {\n",
              "        vertical-align: middle;\n",
              "    }\n",
              "\n",
              "    .dataframe tbody tr th {\n",
              "        vertical-align: top;\n",
              "    }\n",
              "\n",
              "    .dataframe thead th {\n",
              "        text-align: right;\n",
              "    }\n",
              "</style>\n",
              "<table border=\"1\" class=\"dataframe\">\n",
              "  <thead>\n",
              "    <tr style=\"text-align: right;\">\n",
              "      <th></th>\n",
              "      <th>name</th>\n",
              "      <th>gender</th>\n",
              "      <th>city</th>\n",
              "      <th>age</th>\n",
              "      <th>score</th>\n",
              "    </tr>\n",
              "  </thead>\n",
              "  <tbody>\n",
              "    <tr>\n",
              "      <th>0</th>\n",
              "      <td>Snow</td>\n",
              "      <td>M</td>\n",
              "      <td>北京</td>\n",
              "      <td>22</td>\n",
              "      <td>80</td>\n",
              "    </tr>\n",
              "    <tr>\n",
              "      <th>1</th>\n",
              "      <td>Tyrion</td>\n",
              "      <td>M</td>\n",
              "      <td>山西</td>\n",
              "      <td>32</td>\n",
              "      <td>98</td>\n",
              "    </tr>\n",
              "    <tr>\n",
              "      <th>2</th>\n",
              "      <td>Sansa</td>\n",
              "      <td>F</td>\n",
              "      <td>湖北</td>\n",
              "      <td>18</td>\n",
              "      <td>67</td>\n",
              "    </tr>\n",
              "    <tr>\n",
              "      <th>3</th>\n",
              "      <td>Arya</td>\n",
              "      <td>F</td>\n",
              "      <td>澳门</td>\n",
              "      <td>14</td>\n",
              "      <td>90</td>\n",
              "    </tr>\n",
              "  </tbody>\n",
              "</table>\n",
              "</div>"
            ],
            "text/plain": [
              "     name gender city  age  score\n",
              "0    Snow      M   北京   22     80\n",
              "1  Tyrion      M   山西   32     98\n",
              "2   Sansa      F   湖北   18     67\n",
              "3    Arya      F   澳门   14     90"
            ]
          },
          "metadata": {},
          "execution_count": 119
        }
      ]
    },
    {
      "cell_type": "markdown",
      "metadata": {
        "id": "NS1WsNHKA9qo"
      },
      "source": [
        "### append新增列"
      ]
    },
    {
      "cell_type": "code",
      "metadata": {
        "colab": {
          "base_uri": "https://localhost:8080/",
          "height": 80
        },
        "id": "07WlPOx3A0am",
        "outputId": "4483e7a1-9494-44be-bfd4-67f58073069d"
      },
      "source": [
        "new=pd.DataFrame({'name':'lisa','gender':'F','city':'北京','age':19,'score':100},index=[1])   # 自定义索引为：1 ，这里也可以不设置index\n",
        "new"
      ],
      "execution_count": null,
      "outputs": [
        {
          "output_type": "execute_result",
          "data": {
            "text/html": [
              "<div>\n",
              "<style scoped>\n",
              "    .dataframe tbody tr th:only-of-type {\n",
              "        vertical-align: middle;\n",
              "    }\n",
              "\n",
              "    .dataframe tbody tr th {\n",
              "        vertical-align: top;\n",
              "    }\n",
              "\n",
              "    .dataframe thead th {\n",
              "        text-align: right;\n",
              "    }\n",
              "</style>\n",
              "<table border=\"1\" class=\"dataframe\">\n",
              "  <thead>\n",
              "    <tr style=\"text-align: right;\">\n",
              "      <th></th>\n",
              "      <th>name</th>\n",
              "      <th>gender</th>\n",
              "      <th>city</th>\n",
              "      <th>age</th>\n",
              "      <th>score</th>\n",
              "    </tr>\n",
              "  </thead>\n",
              "  <tbody>\n",
              "    <tr>\n",
              "      <th>1</th>\n",
              "      <td>lisa</td>\n",
              "      <td>F</td>\n",
              "      <td>北京</td>\n",
              "      <td>19</td>\n",
              "      <td>100</td>\n",
              "    </tr>\n",
              "  </tbody>\n",
              "</table>\n",
              "</div>"
            ],
            "text/plain": [
              "   name gender city  age  score\n",
              "1  lisa      F   北京   19    100"
            ]
          },
          "metadata": {},
          "execution_count": 121
        }
      ]
    },
    {
      "cell_type": "code",
      "metadata": {
        "colab": {
          "base_uri": "https://localhost:8080/",
          "height": 204
        },
        "id": "wWU7s4qHBI1N",
        "outputId": "4c0f407f-ee99-4479-a28f-c240e166046b"
      },
      "source": [
        "#append\n",
        "df1=df1.append(new,ignore_index=True)   # ignore_index=True,表示不按原来的索引，从0开始自动递增\n",
        "df1"
      ],
      "execution_count": null,
      "outputs": [
        {
          "output_type": "execute_result",
          "data": {
            "text/html": [
              "<div>\n",
              "<style scoped>\n",
              "    .dataframe tbody tr th:only-of-type {\n",
              "        vertical-align: middle;\n",
              "    }\n",
              "\n",
              "    .dataframe tbody tr th {\n",
              "        vertical-align: top;\n",
              "    }\n",
              "\n",
              "    .dataframe thead th {\n",
              "        text-align: right;\n",
              "    }\n",
              "</style>\n",
              "<table border=\"1\" class=\"dataframe\">\n",
              "  <thead>\n",
              "    <tr style=\"text-align: right;\">\n",
              "      <th></th>\n",
              "      <th>name</th>\n",
              "      <th>gender</th>\n",
              "      <th>city</th>\n",
              "      <th>age</th>\n",
              "      <th>score</th>\n",
              "    </tr>\n",
              "  </thead>\n",
              "  <tbody>\n",
              "    <tr>\n",
              "      <th>0</th>\n",
              "      <td>Snow</td>\n",
              "      <td>M</td>\n",
              "      <td>北京</td>\n",
              "      <td>22</td>\n",
              "      <td>80</td>\n",
              "    </tr>\n",
              "    <tr>\n",
              "      <th>1</th>\n",
              "      <td>Tyrion</td>\n",
              "      <td>M</td>\n",
              "      <td>山西</td>\n",
              "      <td>32</td>\n",
              "      <td>98</td>\n",
              "    </tr>\n",
              "    <tr>\n",
              "      <th>2</th>\n",
              "      <td>Sansa</td>\n",
              "      <td>F</td>\n",
              "      <td>湖北</td>\n",
              "      <td>18</td>\n",
              "      <td>67</td>\n",
              "    </tr>\n",
              "    <tr>\n",
              "      <th>3</th>\n",
              "      <td>Arya</td>\n",
              "      <td>F</td>\n",
              "      <td>澳门</td>\n",
              "      <td>14</td>\n",
              "      <td>90</td>\n",
              "    </tr>\n",
              "    <tr>\n",
              "      <th>4</th>\n",
              "      <td>lisa</td>\n",
              "      <td>F</td>\n",
              "      <td>北京</td>\n",
              "      <td>19</td>\n",
              "      <td>100</td>\n",
              "    </tr>\n",
              "  </tbody>\n",
              "</table>\n",
              "</div>"
            ],
            "text/plain": [
              "     name gender city  age  score\n",
              "0    Snow      M   北京   22     80\n",
              "1  Tyrion      M   山西   32     98\n",
              "2   Sansa      F   湖北   18     67\n",
              "3    Arya      F   澳门   14     90\n",
              "4    lisa      F   北京   19    100"
            ]
          },
          "metadata": {},
          "execution_count": 122
        }
      ]
    },
    {
      "cell_type": "code",
      "metadata": {
        "id": "MPyi5AOaVV4V"
      },
      "source": [
        "# apply 新增一列 \n",
        "def cal(row):\n",
        "  if pd.notnull(row['證券代號']):\n",
        "    row['新增']=len(row['證券代號'])\n",
        "  else:\n",
        "    row['新增']=0\n",
        "  return row\n",
        "df1=df1.apply(cal,axis=1)"
      ],
      "execution_count": null,
      "outputs": []
    },
    {
      "cell_type": "code",
      "metadata": {
        "colab": {
          "base_uri": "https://localhost:8080/",
          "height": 576
        },
        "id": "s0oAIc6oTekv",
        "outputId": "dbd644fb-c8b6-4f9f-d9fa-181db50de6db"
      },
      "source": [
        "df1"
      ],
      "execution_count": null,
      "outputs": [
        {
          "output_type": "execute_result",
          "data": {
            "text/html": [
              "<div>\n",
              "<style scoped>\n",
              "    .dataframe tbody tr th:only-of-type {\n",
              "        vertical-align: middle;\n",
              "    }\n",
              "\n",
              "    .dataframe tbody tr th {\n",
              "        vertical-align: top;\n",
              "    }\n",
              "\n",
              "    .dataframe thead th {\n",
              "        text-align: right;\n",
              "    }\n",
              "</style>\n",
              "<table border=\"1\" class=\"dataframe\">\n",
              "  <thead>\n",
              "    <tr style=\"text-align: right;\">\n",
              "      <th></th>\n",
              "      <th>資料日期</th>\n",
              "      <th>證券代號</th>\n",
              "      <th>持股分級</th>\n",
              "      <th>人數</th>\n",
              "      <th>股數</th>\n",
              "      <th>占集保庫存數比例%</th>\n",
              "      <th>新增</th>\n",
              "    </tr>\n",
              "  </thead>\n",
              "  <tbody>\n",
              "    <tr>\n",
              "      <th>0</th>\n",
              "      <td>20210917</td>\n",
              "      <td>0050</td>\n",
              "      <td>1</td>\n",
              "      <td>204160</td>\n",
              "      <td>45145904</td>\n",
              "      <td>3.44</td>\n",
              "      <td>4</td>\n",
              "    </tr>\n",
              "    <tr>\n",
              "      <th>1</th>\n",
              "      <td>20210917</td>\n",
              "      <td>0050</td>\n",
              "      <td>2</td>\n",
              "      <td>101747</td>\n",
              "      <td>191459198</td>\n",
              "      <td>14.59</td>\n",
              "      <td>4</td>\n",
              "    </tr>\n",
              "    <tr>\n",
              "      <th>2</th>\n",
              "      <td>20210917</td>\n",
              "      <td>0050</td>\n",
              "      <td>3</td>\n",
              "      <td>9635</td>\n",
              "      <td>72221808</td>\n",
              "      <td>5.50</td>\n",
              "      <td>4</td>\n",
              "    </tr>\n",
              "    <tr>\n",
              "      <th>3</th>\n",
              "      <td>20210917</td>\n",
              "      <td>0050</td>\n",
              "      <td>4</td>\n",
              "      <td>2672</td>\n",
              "      <td>33660822</td>\n",
              "      <td>2.56</td>\n",
              "      <td>4</td>\n",
              "    </tr>\n",
              "    <tr>\n",
              "      <th>4</th>\n",
              "      <td>20210917</td>\n",
              "      <td>0050</td>\n",
              "      <td>5</td>\n",
              "      <td>1404</td>\n",
              "      <td>25314129</td>\n",
              "      <td>1.93</td>\n",
              "      <td>4</td>\n",
              "    </tr>\n",
              "    <tr>\n",
              "      <th>5</th>\n",
              "      <td>20210917</td>\n",
              "      <td>0050</td>\n",
              "      <td>6</td>\n",
              "      <td>1127</td>\n",
              "      <td>28041374</td>\n",
              "      <td>2.13</td>\n",
              "      <td>4</td>\n",
              "    </tr>\n",
              "    <tr>\n",
              "      <th>6</th>\n",
              "      <td>20210917</td>\n",
              "      <td>0050</td>\n",
              "      <td>7</td>\n",
              "      <td>464</td>\n",
              "      <td>16323204</td>\n",
              "      <td>1.24</td>\n",
              "      <td>4</td>\n",
              "    </tr>\n",
              "    <tr>\n",
              "      <th>7</th>\n",
              "      <td>20210917</td>\n",
              "      <td>0050</td>\n",
              "      <td>8</td>\n",
              "      <td>244</td>\n",
              "      <td>11236340</td>\n",
              "      <td>0.85</td>\n",
              "      <td>4</td>\n",
              "    </tr>\n",
              "    <tr>\n",
              "      <th>8</th>\n",
              "      <td>20210917</td>\n",
              "      <td>0050</td>\n",
              "      <td>9</td>\n",
              "      <td>463</td>\n",
              "      <td>32515835</td>\n",
              "      <td>2.47</td>\n",
              "      <td>4</td>\n",
              "    </tr>\n",
              "    <tr>\n",
              "      <th>9</th>\n",
              "      <td>20210917</td>\n",
              "      <td>0050</td>\n",
              "      <td>10</td>\n",
              "      <td>165</td>\n",
              "      <td>23456699</td>\n",
              "      <td>1.78</td>\n",
              "      <td>4</td>\n",
              "    </tr>\n",
              "    <tr>\n",
              "      <th>10</th>\n",
              "      <td>20210917</td>\n",
              "      <td>0050</td>\n",
              "      <td>11</td>\n",
              "      <td>75</td>\n",
              "      <td>21130822</td>\n",
              "      <td>1.61</td>\n",
              "      <td>4</td>\n",
              "    </tr>\n",
              "    <tr>\n",
              "      <th>11</th>\n",
              "      <td>20210917</td>\n",
              "      <td>0050</td>\n",
              "      <td>12</td>\n",
              "      <td>23</td>\n",
              "      <td>11259578</td>\n",
              "      <td>0.85</td>\n",
              "      <td>4</td>\n",
              "    </tr>\n",
              "    <tr>\n",
              "      <th>12</th>\n",
              "      <td>20210917</td>\n",
              "      <td>0050</td>\n",
              "      <td>13</td>\n",
              "      <td>10</td>\n",
              "      <td>6937616</td>\n",
              "      <td>0.52</td>\n",
              "      <td>4</td>\n",
              "    </tr>\n",
              "    <tr>\n",
              "      <th>13</th>\n",
              "      <td>20210917</td>\n",
              "      <td>0050</td>\n",
              "      <td>14</td>\n",
              "      <td>9</td>\n",
              "      <td>8208115</td>\n",
              "      <td>0.62</td>\n",
              "      <td>4</td>\n",
              "    </tr>\n",
              "    <tr>\n",
              "      <th>14</th>\n",
              "      <td>20210917</td>\n",
              "      <td>0050</td>\n",
              "      <td>15</td>\n",
              "      <td>59</td>\n",
              "      <td>784588556</td>\n",
              "      <td>59.82</td>\n",
              "      <td>4</td>\n",
              "    </tr>\n",
              "    <tr>\n",
              "      <th>15</th>\n",
              "      <td>20210917</td>\n",
              "      <td>0050</td>\n",
              "      <td>16</td>\n",
              "      <td>0</td>\n",
              "      <td>0</td>\n",
              "      <td>0.00</td>\n",
              "      <td>4</td>\n",
              "    </tr>\n",
              "    <tr>\n",
              "      <th>16</th>\n",
              "      <td>20210917</td>\n",
              "      <td>0050</td>\n",
              "      <td>17</td>\n",
              "      <td>322257</td>\n",
              "      <td>1311500000</td>\n",
              "      <td>100.00</td>\n",
              "      <td>4</td>\n",
              "    </tr>\n",
              "  </tbody>\n",
              "</table>\n",
              "</div>"
            ],
            "text/plain": [
              "        資料日期  證券代號  持股分級      人數          股數  占集保庫存數比例%  新增\n",
              "0   20210917  0050     1  204160    45145904       3.44   4\n",
              "1   20210917  0050     2  101747   191459198      14.59   4\n",
              "2   20210917  0050     3    9635    72221808       5.50   4\n",
              "3   20210917  0050     4    2672    33660822       2.56   4\n",
              "4   20210917  0050     5    1404    25314129       1.93   4\n",
              "5   20210917  0050     6    1127    28041374       2.13   4\n",
              "6   20210917  0050     7     464    16323204       1.24   4\n",
              "7   20210917  0050     8     244    11236340       0.85   4\n",
              "8   20210917  0050     9     463    32515835       2.47   4\n",
              "9   20210917  0050    10     165    23456699       1.78   4\n",
              "10  20210917  0050    11      75    21130822       1.61   4\n",
              "11  20210917  0050    12      23    11259578       0.85   4\n",
              "12  20210917  0050    13      10     6937616       0.52   4\n",
              "13  20210917  0050    14       9     8208115       0.62   4\n",
              "14  20210917  0050    15      59   784588556      59.82   4\n",
              "15  20210917  0050    16       0           0       0.00   4\n",
              "16  20210917  0050    17  322257  1311500000     100.00   4"
            ]
          },
          "metadata": {},
          "execution_count": 103
        }
      ]
    },
    {
      "cell_type": "code",
      "metadata": {
        "colab": {
          "base_uri": "https://localhost:8080/"
        },
        "id": "Chsw-rQpLaif",
        "outputId": "3f212d3f-fa76-4ef1-d34a-74c8d5b8ec0e"
      },
      "source": [
        "df1.iloc[1]"
      ],
      "execution_count": null,
      "outputs": [
        {
          "output_type": "execute_result",
          "data": {
            "text/plain": [
              "name      Tyrion\n",
              "gender         M\n",
              "city          山西\n",
              "age           32\n",
              "score         98\n",
              "Name: 1, dtype: object"
            ]
          },
          "metadata": {},
          "execution_count": 137
        }
      ]
    },
    {
      "cell_type": "code",
      "metadata": {
        "colab": {
          "base_uri": "https://localhost:8080/"
        },
        "id": "7lK1uCKkLgNW",
        "outputId": "6c8dec6d-ecc7-4923-f64e-f4691b5230d2"
      },
      "source": [
        "df1.loc[2]"
      ],
      "execution_count": null,
      "outputs": [
        {
          "output_type": "execute_result",
          "data": {
            "text/plain": [
              "name      Sansa\n",
              "gender        F\n",
              "city         湖北\n",
              "age          18\n",
              "score        67\n",
              "Name: 2, dtype: object"
            ]
          },
          "metadata": {},
          "execution_count": 138
        }
      ]
    },
    {
      "cell_type": "markdown",
      "metadata": {
        "id": "JQvw6IvLMQr-"
      },
      "source": [
        "# 持股張數\n",
        "\n",
        "* 17筆資料 \n",
        "1. 1-15 持股分級\n",
        "\n",
        "  1=1張以下\n",
        "\n",
        "  2=1-5張\n",
        "\n",
        "  3=5-10張 \n",
        "\n",
        "  4=10-15張 \n",
        "  \n",
        "  5=15-20張 \n",
        "  \n",
        "  6=20-30張 \n",
        "  \n",
        "  7=30-40張\n",
        "  \n",
        "  8=40張-50張 \n",
        "  \n",
        "  9=50張-100張 \n",
        "  \n",
        "  10=100張-200張 \n",
        "  \n",
        "  11=200張-400張 \n",
        "  \n",
        "  12=400張-600張\n",
        "  \n",
        "  13=600張-800張 \n",
        "  \n",
        "  14=800張-1000張 \n",
        "  \n",
        "  15=1000張以上\n",
        "\n",
        "  16=差異數調整 \n",
        "  \n",
        "  17=合計\n",
        "\n",
        "2. 16 差異數調整\n",
        "\n",
        "3. 17 合計\n",
        "\n",
        "網站 \n",
        "\n",
        "https://smart.tdcc.com.tw/opendata/getOD.ashx?id=1-5"
      ]
    }
  ]
}